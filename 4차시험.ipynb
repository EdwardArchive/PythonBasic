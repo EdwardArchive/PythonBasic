{
 "cells": [
  {
   "cell_type": "code",
   "execution_count": 2,
   "metadata": {},
   "outputs": [
    {
     "data": {
      "text/plain": [
       "Collection(Database(MongoClient(host=['localhost:27017'], document_class=dict, tz_aware=False, connect=True), 'test'), 'drop')"
      ]
     },
     "execution_count": 2,
     "metadata": {},
     "output_type": "execute_result"
    }
   ],
   "source": [
    "from pymongo import MongoClient\n",
    "conn = MongoClient(\"localhost\",27017)\n",
    "db=conn.test\n",
    "db.drop"
   ]
  },
  {
   "cell_type": "code",
   "execution_count": 25,
   "metadata": {},
   "outputs": [
    {
     "name": "stderr",
     "output_type": "stream",
     "text": [
      "C:\\Users\\acorn\\Anaconda3\\lib\\site-packages\\ipykernel_launcher.py:22: DeprecationWarning: insert is deprecated. Use insert_one or insert_many instead.\n"
     ]
    },
    {
     "data": {
      "text/plain": [
       "[ObjectId('5e12eede52b4456c3e024540'),\n",
       " ObjectId('5e12eede52b4456c3e024541'),\n",
       " ObjectId('5e12eede52b4456c3e024542')]"
      ]
     },
     "execution_count": 25,
     "metadata": {},
     "output_type": "execute_result"
    }
   ],
   "source": [
    "db.articles.insert([\n",
    "\t\t\t{\n",
    "\t\t\t\t\"title\":\"article01\", \n",
    "\t\t\t\t\"content\":\"content01\", \n",
    "\t\t\t\t\"writer\":\"Velopert\", \n",
    "\t\t\t\t\"likes\":0, \n",
    "\t\t\t\t\"comments\":[]\n",
    "\t\t\t},\n",
    "\t\t\t{\n",
    "\t\t\t\t\"title\":\"article02\", \n",
    "\t\t\t\t\"content\":\"content02\", \n",
    "\t\t\t\t\"writer\":\"Alpha\", \n",
    "\t\t\t\t\"likes\":23, \n",
    "\t\t\t\t\"comments\":[{\"name\":\"Bravo\", \"message\":\"Hey man!\"}]\n",
    "\t\t\t},\n",
    "\t\t\t{\n",
    "\t\t\t\t\"title\":\"article03\", \n",
    "\t\t\t\t\"content\":\"content03\", \n",
    "\t\t\t\t\"writer\":\"Bravo\", \n",
    "\t\t\t\t\"likes\":40, \n",
    "\t\t\t\t\"comments\":[{\"name\":\"Charlie\", \"message\":\"Hey man!\"},\n",
    "\t\t\t\t\t{\"name\":\"Delta\", \"message\":\"Hey man!\"}]\n",
    "\t\t\t}\t\n",
    "\t\t])\n"
   ]
  },
  {
   "cell_type": "code",
   "execution_count": 3,
   "metadata": {},
   "outputs": [
    {
     "data": {
      "text/plain": [
       "<pymongo.cursor.Cursor at 0x5a89948>"
      ]
     },
     "execution_count": 3,
     "metadata": {},
     "output_type": "execute_result"
    }
   ],
   "source": [
    "articles=db.articles\n",
    "articles.find({\"$and\":[{'writer':{\"$eq\":'Bravo'}},{'likes':{\"$lt\":10}}]})\n"
   ]
  },
  {
   "cell_type": "code",
   "execution_count": 57,
   "metadata": {},
   "outputs": [
    {
     "name": "stderr",
     "output_type": "stream",
     "text": [
      "C:\\Users\\acorn\\Anaconda3\\lib\\site-packages\\ipykernel_launcher.py:5: DeprecationWarning: insert is deprecated. Use insert_one or insert_many instead.\n",
      "  \"\"\"\n"
     ]
    },
    {
     "data": {
      "text/plain": [
       "[ObjectId('5e12f3af52b4456c3e024553'),\n",
       " ObjectId('5e12f3af52b4456c3e024554'),\n",
       " ObjectId('5e12f3af52b4456c3e024555'),\n",
       " ObjectId('5e12f3af52b4456c3e024556')]"
      ]
     },
     "execution_count": 57,
     "metadata": {},
     "output_type": "execute_result"
    }
   ],
   "source": [
    "db.people.insert([\n",
    "\t\t\t{'name':\"Abet\", 'age':19},\n",
    "\t\t\t{'name':\"Betty\", 'age':20},\n",
    "\t\t\t{'name':\"Charlie\", 'age':23, 'skills':[\"mongodb\", \"nodejs\"]},\n",
    "\t\t\t{'name':\"David\", 'age':23, 'score':20}\n",
    "\t\t])\n"
   ]
  },
  {
   "cell_type": "code",
   "execution_count": 63,
   "metadata": {},
   "outputs": [
    {
     "name": "stderr",
     "output_type": "stream",
     "text": [
      "C:\\Users\\acorn\\Anaconda3\\lib\\site-packages\\ipykernel_launcher.py:1: DeprecationWarning: update is deprecated. Use replace_one, update_one or update_many instead.\n",
      "  \"\"\"Entry point for launching an IPython kernel.\n"
     ]
    }
   ],
   "source": [
    "db.people.update({'name':\"Charlie\"},{'$push':{'skills':\"python\"}})\n",
    "conn.close()"
   ]
  },
  {
   "cell_type": "code",
   "execution_count": 33,
   "metadata": {},
   "outputs": [
    {
     "name": "stderr",
     "output_type": "stream",
     "text": [
      "C:\\Users\\acorn\\Anaconda3\\lib\\site-packages\\ipykernel_launcher.py:2: DeprecationWarning: insert is deprecated. Use insert_one or insert_many instead.\n",
      "  \n"
     ]
    },
    {
     "data": {
      "text/plain": [
       "ObjectId('5e12ef9252b4456c3e024547')"
      ]
     },
     "execution_count": 33,
     "metadata": {},
     "output_type": "execute_result"
    }
   ],
   "source": [
    "db=conn.Mymongo\n",
    "db.books.insert({'Bookid':101, 'booktitle':\"How to learn monogodb\", 'price':10000})"
   ]
  },
  {
   "cell_type": "code",
   "execution_count": null,
   "metadata": {},
   "outputs": [],
   "source": [
    "db.emp.find({empno{$gt:3}})"
   ]
  },
  {
   "cell_type": "code",
   "execution_count": null,
   "metadata": {},
   "outputs": [],
   "source": []
  }
 ],
 "metadata": {
  "kernelspec": {
   "display_name": "Python 3",
   "language": "python",
   "name": "python3"
  },
  "language_info": {
   "codemirror_mode": {
    "name": "ipython",
    "version": 3
   },
   "file_extension": ".py",
   "mimetype": "text/x-python",
   "name": "python",
   "nbconvert_exporter": "python",
   "pygments_lexer": "ipython3",
   "version": "3.7.4"
  }
 },
 "nbformat": 4,
 "nbformat_minor": 2
}
