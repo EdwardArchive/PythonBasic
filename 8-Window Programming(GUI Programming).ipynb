{
 "cells": [
  {
   "cell_type": "markdown",
   "metadata": {},
   "source": [
    "## Module\n",
    "    \n",
    "    -wxpython(**많이), tkinter(거의 안씀), PyQt(많이) ...\n",
    "    http://wxpython.org/\n",
    "   "
   ]
  },
  {
   "cell_type": "code",
   "execution_count": 3,
   "metadata": {},
   "outputs": [
    {
     "ename": "PyNoAppError",
     "evalue": "The wx.App object must be created first!",
     "output_type": "error",
     "traceback": [
      "\u001b[1;31m---------------------------------------------------------------------------\u001b[0m",
      "\u001b[1;31mPyNoAppError\u001b[0m                              Traceback (most recent call last)",
      "\u001b[1;32m<ipython-input-3-29cc75ab6cbc>\u001b[0m in \u001b[0;36m<module>\u001b[1;34m\u001b[0m\n\u001b[0;32m      2\u001b[0m \u001b[1;33m\u001b[0m\u001b[0m\n\u001b[0;32m      3\u001b[0m \u001b[0mapp\u001b[0m \u001b[1;33m=\u001b[0m \u001b[0mwx\u001b[0m\u001b[1;33m.\u001b[0m\u001b[0mApp\u001b[0m\u001b[1;33m(\u001b[0m\u001b[1;33m)\u001b[0m\u001b[1;33m\u001b[0m\u001b[1;33m\u001b[0m\u001b[0m\n\u001b[1;32m----> 4\u001b[1;33m \u001b[0mframe\u001b[0m \u001b[1;33m=\u001b[0m \u001b[0mwx\u001b[0m\u001b[1;33m.\u001b[0m\u001b[0mFrame\u001b[0m\u001b[1;33m(\u001b[0m\u001b[1;32mNone\u001b[0m\u001b[1;33m)\u001b[0m\u001b[1;33m\u001b[0m\u001b[1;33m\u001b[0m\u001b[0m\n\u001b[0m\u001b[0;32m      5\u001b[0m \u001b[0mframe\u001b[0m\u001b[1;33m.\u001b[0m\u001b[0mShow\u001b[0m\u001b[1;33m(\u001b[0m\u001b[1;32mTrue\u001b[0m\u001b[1;33m)\u001b[0m\u001b[1;33m\u001b[0m\u001b[1;33m\u001b[0m\u001b[0m\n\u001b[0;32m      6\u001b[0m \u001b[0mapp\u001b[0m\u001b[1;33m.\u001b[0m\u001b[0mMainLoop\u001b[0m\u001b[1;33m(\u001b[0m\u001b[1;33m)\u001b[0m\u001b[1;33m\u001b[0m\u001b[1;33m\u001b[0m\u001b[0m\n",
      "\u001b[1;31mPyNoAppError\u001b[0m: The wx.App object must be created first!"
     ]
    }
   ],
   "source": [
    "import wx\n",
    "\n",
    "app = wx.App()\n",
    "frame = wx.Frame(None)\n",
    "frame.Show(True)\n",
    "app.MainLoop()"
   ]
  },
  {
   "cell_type": "markdown",
   "metadata": {},
   "source": [
    "## Layout Manager\n",
    "\n",
    "    -Sizer 클래스\n",
    "        -각각의 시각적 요소에 대한 적절한 크기를 계산\n",
    "        -특정 규칙에 따라서 요소를 배치\n",
    "        -프레임의 크기를 조정할때 동적으로 위치를 변경\n",
    "        \n",
    "    -구현 클래스\n",
    "        -wx.BoxSizer : 가로 또는 세로로 컨트롤을 배치\n",
    "        -wx.GridSizer : 그리드와 같은 구조로 컨트롤을 배치\n",
    "        -wx.FlexGridSizer : GridSizer 와 유사하나 좀 더 유연성을 가지고 있다.\n",
    "        "
   ]
  },
  {
   "cell_type": "markdown",
   "metadata": {},
   "source": [
    "# wxFormBuilder (개발 툴)\n",
    "\n",
    "## 사용법\n",
    "    \n",
    "    1)폼 선택(윈도우)\n",
    "    2)레이아웃 관리자 선택\n",
    "    3)컨테이너 선택 후 패널 추가\n",
    "    4)각 패널에서 레이아웃 관리자 선택\n",
    "    5)Common탭을 선택하여 필요한 컨트롤을 배치"
   ]
  },
  {
   "cell_type": "markdown",
   "metadata": {},
   "source": [
    "## 실행프로그램 만들기\n",
    "\n",
    "    -pyinstaller -F --noconsole test8.py --hidden-import [wx]"
   ]
  },
  {
   "cell_type": "code",
   "execution_count": null,
   "metadata": {},
   "outputs": [],
   "source": []
  }
 ],
 "metadata": {
  "kernelspec": {
   "display_name": "Python 3",
   "language": "python",
   "name": "python3"
  },
  "language_info": {
   "codemirror_mode": {
    "name": "ipython",
    "version": 3
   },
   "file_extension": ".py",
   "mimetype": "text/x-python",
   "name": "python",
   "nbconvert_exporter": "python",
   "pygments_lexer": "ipython3",
   "version": "3.7.4"
  }
 },
 "nbformat": 4,
 "nbformat_minor": 2
}
