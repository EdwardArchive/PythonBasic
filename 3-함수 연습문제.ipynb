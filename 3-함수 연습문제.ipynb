{
 "cells": [
  {
   "cell_type": "code",
   "execution_count": null,
   "metadata": {},
   "outputs": [],
   "source": [
    "#전자계산기 계산을 함수화 시키기\n",
    "def calc(n1,n2,op) :\n",
    "    if op=='+'  : result=n1+n2\n",
    "    elif op=='-' : result=n1-n2\n",
    "    elif op=='*' : result=n1*n2\n",
    "    elif op=='/' : result=n1/n2\n",
    "    return str(n1)+op+str(n2)+\"=\"+str(result)\n",
    "\n",
    "while(True) :\n",
    "    Operator=input(\"연산자를 입력하시오 : \")\n",
    "    if(Operator=='x'):\n",
    "        break\n",
    "    num1=int(input(\"숫자를 입력하시오 : \"))\n",
    "    num2=int(input(\"숫자를 입력하시오 : \"))\n",
    "    \n",
    "    print(\"결과 :\",calc(num1,num2,Operator))"
   ]
  },
  {
   "cell_type": "markdown",
   "metadata": {},
   "source": [
    "<hr style=\"background-color: rgb(0,0,0);height: 2px;\"/>"
   ]
  },
  {
   "cell_type": "code",
   "execution_count": null,
   "metadata": {},
   "outputs": [],
   "source": [
    "def big_small(a,b):\n",
    "    if(a==b) :\n",
    "        return 'same'\n",
    "    elif(b-3<a and a<b+3):\n",
    "        return 'almost'\n",
    "    elif(b-5<a and a<b+5):\n",
    "        return 'close'\n",
    "    elif a<b:\n",
    "        return 'small'\n",
    "    elif a>b:\n",
    "        return 'big'"
   ]
  },
  {
   "cell_type": "code",
   "execution_count": null,
   "metadata": {},
   "outputs": [],
   "source": [
    "import random\n",
    "rand_num=random.randint(1,100)\n",
    "print(\"1부터 100사이의 숫자를 맞추시오\")\n",
    "count=0\n",
    "while(True):\n",
    "    n=int(input(\"숫자 입력: \"))\n",
    "    \n",
    "    if big_small(n,rand_num)=='same':\n",
    "        print(\"정답입니다!-시도횟수{}번\".format(count))\n",
    "        break;\n",
    "    elif big_small(n,rand_num)=='almost':\n",
    "        print(\"매우 가깝습니다!!\")\n",
    "        count+=1\n",
    "    elif big_small(n,rand_num)=='close':\n",
    "        print(\"가깝습니다!!\")\n",
    "        count+=1\n",
    "    elif big_small(n,rand_num)=='small':\n",
    "        print(\"작습니다!!\")\n",
    "        count+=1\n",
    "    else :\n",
    "        print(\"큽니다!!\")\n",
    "        count+=1"
   ]
  },
  {
   "cell_type": "markdown",
   "metadata": {},
   "source": [
    "<hr style=\"background-color: rgb(0,0,0);height: 2px;\"/>"
   ]
  },
  {
   "cell_type": "code",
   "execution_count": 9,
   "metadata": {},
   "outputs": [],
   "source": [
    "\n",
    "def title():\n",
    "    print(\"\\n\\t친구 관리 프로그램\\n\")\n",
    "    print(\"=\"*32)\n",
    "    print(\"1.친구 리스트 출력\")\n",
    "    print(\"2.친구 추가\")\n",
    "    print(\"3.친구 삭제\")\n",
    "    print(\"4.이름변경\")\n",
    "    print(\"9.종료\")\n",
    "    print(\"=\"*32)\n",
    "    \n",
    "def check_name(name,list_friends):\n",
    "    if name in list_friends: return True\n",
    "    else: return False"
   ]
  },
  {
   "cell_type": "code",
   "execution_count": 8,
   "metadata": {},
   "outputs": [
    {
     "name": "stdout",
     "output_type": "stream",
     "text": [
      "\n",
      "\t친구 관리 프로그램\n",
      "\n",
      "================================\n",
      "1.친구 리스트 출력\n",
      "2.친구 추가\n",
      "3.친구 삭제\n",
      "4.이름변경\n",
      "9.종료\n",
      "================================\n",
      "메뉴를 선택하세요 :1\n",
      "\n",
      "리스트가 비어있습니다.\n",
      "\n",
      "\t친구 관리 프로그램\n",
      "\n",
      "================================\n",
      "1.친구 리스트 출력\n",
      "2.친구 추가\n",
      "3.친구 삭제\n",
      "4.이름변경\n",
      "9.종료\n",
      "================================\n",
      "메뉴를 선택하세요 :1\n",
      "\n",
      "리스트가 비어있습니다.\n",
      "\n",
      "\t친구 관리 프로그램\n",
      "\n",
      "================================\n",
      "1.친구 리스트 출력\n",
      "2.친구 추가\n",
      "3.친구 삭제\n",
      "4.이름변경\n",
      "9.종료\n",
      "================================\n",
      "메뉴를 선택하세요 :8\n",
      "\n",
      "잘못된 메뉴 선택입니다.\n",
      "\n",
      "\t친구 관리 프로그램\n",
      "\n",
      "================================\n",
      "1.친구 리스트 출력\n",
      "2.친구 추가\n",
      "3.친구 삭제\n",
      "4.이름변경\n",
      "9.종료\n",
      "================================\n",
      "메뉴를 선택하세요 :9\n"
     ]
    }
   ],
   "source": [
    "list_friends=list()\n",
    "while(True):\n",
    "    title()\n",
    "    select=input(\"메뉴를 선택하세요 :\")\n",
    "    if select=='1' :\n",
    "        if(len(list_friends)==0):\n",
    "            print(\"\\n리스트가 비어있습니다.\")\n",
    "        else :\n",
    "            print(list_friends)\n",
    "    elif select=='2':\n",
    "        add=input(\"\\n추가하고 싶은 이름을 입력하세요 : \")\n",
    "        list_friends.append(add)\n",
    "    elif select=='3':\n",
    "        del_name=input(\"\\n삭제하고 싶은 이름을 입력하세요 : \")\n",
    "        if check_name(del_name,list_friends) == True :\n",
    "            list_friends.remove(add)\n",
    "        else :\n",
    "            print(\"\\n리스트에 해당하는 이름이 없습니다.\")\n",
    "    elif select=='4':\n",
    "        name=input(\"\\n변경하고 싶은 이름을 입력하세요 : \")\n",
    "        if check_name(name,list_friends) == True :\n",
    "            change=input(\"변경할 이름을 입력하세요 : \")\n",
    "            list_friends[list_friends.index(name)]=change\n",
    "        else :\n",
    "            print(\"\\n리스트에 해당하는 이름이 없습니다.\")\n",
    "    elif select=='9':\n",
    "        break\n",
    "    else :\n",
    "        print(\"\\n잘못된 메뉴 선택입니다.\")"
   ]
  },
  {
   "cell_type": "markdown",
   "metadata": {},
   "source": [
    "<hr style=\"background-color: rgb(0,0,0);height: 2px;\"/>"
   ]
  },
  {
   "cell_type": "code",
   "execution_count": null,
   "metadata": {},
   "outputs": [],
   "source": [
    "--- # 사험문제\n",
    "\n",
    "make(\"large\",\"버섯\")로 호출했을 떄 결과는 다음과 같다\n",
    "-----------------------------------------------------\n",
    "large size의 피자를 주문하셧습니다.\n",
    "토핑 : 버섯\n",
    "\n",
    "make(\"large\",\"버섯\",\"파인애플\",\"토마토\")로 호출했을 떄 결과는 다음과 같다\n",
    "-----------------------------------------------------\n",
    "large size의 피자를 주문하셧습니다.    \n",
    "토핑 :\"버섯\",\"파인애플\",\"토마토\"\n",
    "---"
   ]
  },
  {
   "cell_type": "code",
   "execution_count": 5,
   "metadata": {},
   "outputs": [
    {
     "name": "stdout",
     "output_type": "stream",
     "text": [
      "size의 피자를 주문하셧습니다.\n",
      "토핑 : ('버섯', '파인애플', '토마토')\n"
     ]
    }
   ],
   "source": [
    "def make(size,*toping):\n",
    "    print(\"size의 피자를 주문하셧습니다.\".format(size))\n",
    "    print(\"토핑 :\",toping)\n",
    "make(\"large\",\"버섯\",\"파인애플\",\"토마토\")"
   ]
  },
  {
   "cell_type": "markdown",
   "metadata": {},
   "source": [
    "<hr style=\"background-color: rgb(0,0,0);height: 2px;\"/>"
   ]
  },
  {
   "cell_type": "code",
   "execution_count": null,
   "metadata": {},
   "outputs": [],
   "source": [
    "\"\"\"\n",
    "Phonebook.py\n",
    "----------------\n",
    "데이터는 임의로 준비\n",
    "    홍길동 010-1111-1111,서울시 강남구\n",
    "    임꺽정 010-1111-1111,서울시 강북구\n",
    "    산들석 010-1111-1111,서울시 강동구\n",
    "    임경래 010-1111-1111,서울시 강서구\n",
    "\n",
    "프로그램 실행 결과\n",
    "-----------------\n",
    "python Phonebook.py 신돌석\n",
    "\n",
    "이름 : 신돌석\n",
    "전화 : 010-333-3333\n",
    "주소 : 서울시 강동구\n",
    "\"\"\""
   ]
  },
  {
   "cell_type": "code",
   "execution_count": null,
   "metadata": {},
   "outputs": [],
   "source": [
    "import sys\n",
    "name_list = ['홍길동', '임꺽정', '산들석', '임경래']\n",
    "phonenum_list = ['010-111-1111', '010-222-2222', '010-333-3333', '010-444-4444']\n",
    "addr_list = ['서울시 강남구', '서울시 강북구', '서울시 강동구', '서울시 강서구']\n",
    "cmd_input_name=sys.argv[1]\n",
    "\n",
    "print(\"\\n이름 :\", cmd_input_name)\n",
    "print(\"전화 :\", phonenum_list[name_list.index(cmd_input_name)])\n",
    "print(\"주소 :\", addr_list[name_list.index(cmd_input_name)])\n"
   ]
  },
  {
   "cell_type": "markdown",
   "metadata": {},
   "source": [
    "<hr style=\"background-color: rgb(0,0,0);height: 2px;\"/>"
   ]
  },
  {
   "cell_type": "markdown",
   "metadata": {},
   "source": []
  }
 ],
 "metadata": {
  "kernelspec": {
   "display_name": "Python 3",
   "language": "python",
   "name": "python3"
  },
  "language_info": {
   "codemirror_mode": {
    "name": "ipython",
    "version": 3
   },
   "file_extension": ".py",
   "mimetype": "text/x-python",
   "name": "python",
   "nbconvert_exporter": "python",
   "pygments_lexer": "ipython3",
   "version": "3.7.4"
  }
 },
 "nbformat": 4,
 "nbformat_minor": 2
}
