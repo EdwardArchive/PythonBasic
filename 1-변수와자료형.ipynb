{
 "cells": [
  {
   "cell_type": "markdown",
   "metadata": {},
   "source": [
    "# Markdown 문법 문서를 이쁘게 꾸밀수 있는언어 참조 : https://gist.github.com/ihoneymon/652be052a0727ad59601"
   ]
  },
  {
   "cell_type": "markdown",
   "metadata": {},
   "source": [
    "# 가장 큰 제목\n",
    "## 두번째로 큰 제목\n",
    "### 세번째로 큰 제목\n",
    "#### 네번째로 큰제목\n",
    "\n",
    "가장 큰제목\n",
    "=========="
   ]
  },
  {
   "cell_type": "markdown",
   "metadata": {},
   "source": [
    "구분선\n",
    "\n",
    "---"
   ]
  },
  {
   "cell_type": "markdown",
   "metadata": {},
   "source": [
    "* 사과\n",
    "* 배\n",
    "* 포토\n",
    "\n",
    "+ 파이썬\n",
    "     + R\n",
    "         - tensorflow\n",
    "        "
   ]
  },
  {
   "cell_type": "markdown",
   "metadata": {},
   "source": [
    "---"
   ]
  },
  {
   "cell_type": "markdown",
   "metadata": {},
   "source": [
    "# 1.변수(Variable)\n",
    "\n",
    " * 별도의 절차없이 바로 사용가능\n",
    " * Data Type을 가리지 않는다.Dynamic한 할당방식\n",
    " * 값을 수정할수 있다."
   ]
  },
  {
   "cell_type": "code",
   "execution_count": 5,
   "metadata": {},
   "outputs": [],
   "source": [
    "#주석 코드에 대한 직접적인 설명을 적는 곳\n",
    "a=2+3"
   ]
  },
  {
   "cell_type": "code",
   "execution_count": 6,
   "metadata": {},
   "outputs": [
    {
     "name": "stdout",
     "output_type": "stream",
     "text": [
      "5\n"
     ]
    }
   ],
   "source": [
    "print(a)"
   ]
  },
  {
   "cell_type": "code",
   "execution_count": 12,
   "metadata": {},
   "outputs": [
    {
     "name": "stdout",
     "output_type": "stream",
     "text": [
      "10\n",
      "<class 'int'>\n",
      "3.14\n",
      "홍길동\n",
      "10\n",
      "<class 'str'>\n"
     ]
    }
   ],
   "source": [
    "#type을 가리지 않는다\n",
    "a=10\n",
    "print(a)\n",
    "print(type(a))\n",
    "a=3.14\n",
    "print(a)\n",
    "\n",
    "a='홍길동'\n",
    "print(a)\n",
    "\n",
    "a='10'\n",
    "print(a)\n",
    "print(type(a))"
   ]
  },
  {
   "cell_type": "markdown",
   "metadata": {},
   "source": [
    "---\n",
    "* python 은 데이터를 heap이라는 공간(인스턴스)에 저장함 a라는 메모리 위치가 아닌 주소를 참조함(데이터를 안전하게 쓰기위한 방법)"
   ]
  },
  {
   "cell_type": "code",
   "execution_count": 14,
   "metadata": {},
   "outputs": [
    {
     "name": "stdout",
     "output_type": "stream",
     "text": [
      "8791489422000\n",
      "8791489421840\n"
     ]
    }
   ],
   "source": [
    "#수정 불가\n",
    "a=10\n",
    "print(id(a))\n",
    "a=5 \n",
    "print(id(a))\n",
    "#수정되는것이 아닌 새로운 값의 위치가 생기고 그것을 참조하는것 \n",
    "#메모리의 공간이 계속 차는 문제가 발생 -> C,C++은 메모리 관리를 해줘야함 -> JAVA,Python은 Garbage Collection\n",
    "#이라는 기능이 있기 때문에 우리가 크게 신경을 필요가 없다"
   ]
  },
  {
   "cell_type": "markdown",
   "metadata": {},
   "source": [
    "***"
   ]
  },
  {
   "cell_type": "markdown",
   "metadata": {},
   "source": [
    "# 2.자료형\n",
    "\n",
    " * 종류\n",
    "    - 기본 자료형 int, float, str, complex, function..(뚜렷한 자기만의 특징을 가지고 있는 자료형 )\n",
    "    - 집합 자료형 List, tuple, set, dict\n",
    " \n",
    " * 수정 가능선에 따른 분류\n",
    "    - 수정 불가능 int float str tuple bool complex\n",
    "    - 수정 가능 List Dict Set"
   ]
  },
  {
   "cell_type": "code",
   "execution_count": 16,
   "metadata": {},
   "outputs": [
    {
     "name": "stdout",
     "output_type": "stream",
     "text": [
      "haha\n"
     ]
    }
   ],
   "source": [
    "#문자열\n",
    "a='h'\n",
    "a='ha'\n",
    "a='haha'\n",
    "#a='ha'+5 에러발생\n",
    "\n",
    "print(a)"
   ]
  },
  {
   "cell_type": "code",
   "execution_count": 17,
   "metadata": {},
   "outputs": [
    {
     "name": "stdout",
     "output_type": "stream",
     "text": [
      "쌍따음표 홑따음표 3개는\n",
      "여러줄의 문자열을\n",
      "사용할수 있다\n"
     ]
    }
   ],
   "source": [
    "#여러줄 문자열\n",
    "a=\"\"\"쌍따음표 홑따음표 3개는\n",
    "여러줄의 문자열을\n",
    "사용할수 있다\"\"\"\n",
    "\n",
    "print(a)"
   ]
  },
  {
   "cell_type": "code",
   "execution_count": 23,
   "metadata": {},
   "outputs": [
    {
     "name": "stdout",
     "output_type": "stream",
     "text": [
      "abc\n",
      "\n",
      "def\n",
      "\tabc\tdef\n"
     ]
    }
   ],
   "source": [
    "#특수문자 혹은 제어문자 ex.'\\문자'\n",
    "\n",
    "a=\"abc\\n\\ndef\" #n->new line(다수가 이렇게 생각하고 있다)\n",
    "print(a)\n",
    "\n",
    "b=\"\\tabc\\tdef\"\n",
    "print(b)\n",
    "# \\n, \\t, \\r, \\0, \\\\, \\', \\\" ... 등 다수가 존재"
   ]
  },
  {
   "cell_type": "code",
   "execution_count": 31,
   "metadata": {},
   "outputs": [
    {
     "name": "stdout",
     "output_type": "stream",
     "text": [
      "\n",
      "은 줄바꿈 문자입니다\n",
      "\\n은 줄바꿈 문자입니다\n",
      "\"\\t는 탭키의 기능입니다\"\n",
      "\"\\n은 줄바꿈 문자입니다\"\n"
     ]
    }
   ],
   "source": [
    "#escape문자 -> \\\n",
    "\n",
    "a=\"\\n은 줄바꿈 문자입니다\"\n",
    "print(a)\n",
    "\n",
    "a=\"\\\\n은 줄바꿈 문자입니다\"\n",
    "print(a)\n",
    "\n",
    "a=\"\\\"\\\\t는 탭키의 기능입니다\\\"\"\n",
    "print(a)\n",
    "\n",
    "a=r'\"\\n은 줄바꿈 문자입니다\"'\n",
    "print(a)"
   ]
  },
  {
   "cell_type": "code",
   "execution_count": 38,
   "metadata": {},
   "outputs": [
    {
     "name": "stdout",
     "output_type": "stream",
     "text": [
      "65\n"
     ]
    }
   ],
   "source": [
    "#코드를 다음줄로 작성할때 \\ ->코드를 이어주는 기능\n",
    "var1=10+20*2-3+5\\\n",
    "    +6+7\n",
    "print(var1)"
   ]
  },
  {
   "cell_type": "code",
   "execution_count": 39,
   "metadata": {},
   "outputs": [
    {
     "ename": "IndentationError",
     "evalue": "unexpected indent (<ipython-input-39-4feac95ffe9e>, line 2)",
     "output_type": "error",
     "traceback": [
      "\u001b[1;36m  File \u001b[1;32m\"<ipython-input-39-4feac95ffe9e>\"\u001b[1;36m, line \u001b[1;32m2\u001b[0m\n\u001b[1;33m    +6+7\u001b[0m\n\u001b[1;37m    ^\u001b[0m\n\u001b[1;31mIndentationError\u001b[0m\u001b[1;31m:\u001b[0m unexpected indent\n"
     ]
    }
   ],
   "source": [
    "var1=10+20*2-3+5\n",
    "    +6+7\n",
    "print(var1)"
   ]
  },
  {
   "cell_type": "code",
   "execution_count": 4,
   "metadata": {
    "scrolled": true
   },
   "outputs": [
    {
     "name": "stdout",
     "output_type": "stream",
     "text": [
      "('Python', 'is fun', 100)\n",
      "Pythonis fun\n"
     ]
    },
    {
     "ename": "TypeError",
     "evalue": "can only concatenate str (not \"int\") to str",
     "output_type": "error",
     "traceback": [
      "\u001b[1;31m---------------------------------------------------------------------------\u001b[0m",
      "\u001b[1;31mTypeError\u001b[0m                                 Traceback (most recent call last)",
      "\u001b[1;32m<ipython-input-4-3e96d9774b74>\u001b[0m in \u001b[0;36m<module>\u001b[1;34m\u001b[0m\n\u001b[0;32m     11\u001b[0m \u001b[0mprint\u001b[0m\u001b[1;33m(\u001b[0m\u001b[0msu\u001b[0m\u001b[1;33m)\u001b[0m\u001b[1;33m\u001b[0m\u001b[1;33m\u001b[0m\u001b[0m\n\u001b[0;32m     12\u001b[0m \u001b[1;33m\u001b[0m\u001b[0m\n\u001b[1;32m---> 13\u001b[1;33m \u001b[0msu\u001b[0m\u001b[1;33m=\u001b[0m\u001b[0mhead\u001b[0m\u001b[1;33m+\u001b[0m\u001b[0mtail\u001b[0m\u001b[1;33m+\u001b[0m\u001b[0mnum\u001b[0m  \u001b[1;31m#2번째 방법 +는 문자열을 사용했을떄는 문자열을 연결하는 기능을 가지고 있다\u001b[0m\u001b[1;33m\u001b[0m\u001b[1;33m\u001b[0m\u001b[0m\n\u001b[0m\u001b[0;32m     14\u001b[0m \u001b[0mprint\u001b[0m\u001b[1;33m(\u001b[0m\u001b[0msu\u001b[0m\u001b[1;33m)\u001b[0m\u001b[1;33m\u001b[0m\u001b[1;33m\u001b[0m\u001b[0m\n",
      "\u001b[1;31mTypeError\u001b[0m: can only concatenate str (not \"int\") to str"
     ]
    }
   ],
   "source": [
    "#문자열을 연결해서\n",
    "\n",
    "head=\"Python\"\n",
    "tail=\"is fun\"\n",
    "num=100\n",
    "\n",
    "su=head,tail,num  #1번째 방법\n",
    "print(su)\n",
    "\n",
    "su=head,tail,num  #1번째 방법에 정수형 변수를 포함시키면 형변환으로 들어간다\n",
    "print(su)\n",
    "\n",
    "su=head+tail  #2번째 방법 +는 문자열을 사용했을떄는 문자열을 연결하는 기능을 가지고 있다\n",
    "print(su)\n",
    "\n",
    "su=head+tail+num  #정수를 입력받았을떄는 형이 다르기 때문에 오류가난다. 해결방법 str(num)->형변환\n",
    "print(su)"
   ]
  },
  {
   "cell_type": "code",
   "execution_count": 5,
   "metadata": {
    "scrolled": true
   },
   "outputs": [
    {
     "name": "stdout",
     "output_type": "stream",
     "text": [
      "PythonPythonPython\n"
     ]
    }
   ],
   "source": [
    "str3=head*3      #곱셈 연산자의 기능(문자열)\n",
    "print(str3)"
   ]
  },
  {
   "cell_type": "code",
   "execution_count": 9,
   "metadata": {},
   "outputs": [
    {
     "name": "stdout",
     "output_type": "stream",
     "text": [
      "f   i\n",
      "n\n",
      "o\n"
     ]
    }
   ],
   "source": [
    "#indexing 위치를 기준으로 하여 접근하는 방법\n",
    "str1='Life is too short. You need python'\n",
    "print(str1[2],str1[4],str1[5])  #공백도 하나의 위치가 존재한다.\n",
    "print(str1[-1]) #-(음수) 기호는 반대(오른쪽)부터 접근한다는 기호\n",
    "print(str1[-2]) "
   ]
  },
  {
   "cell_type": "code",
   "execution_count": 19,
   "metadata": {},
   "outputs": [
    {
     "name": "stdout",
     "output_type": "stream",
     "text": [
      "Life\n",
      "is too short. You need python\n",
      "Life\n",
      "Life is too short. You need python\n",
      "ho\n"
     ]
    }
   ],
   "source": [
    "#Silcing 범위를 지정할수 있다. 범위 연산자 :을 사용한다\n",
    "print(str1[0:4]) #멘끝의 숫자 -1까지 출력한다\n",
    "print(str1[5:]) #시작위치(n)~끝까지\n",
    "print(str1[:4])#시작위치(0)~3까지 0123 4단어\n",
    "print(str1[:])#전체출력\n",
    "print(str1[-3:-1])"
   ]
  },
  {
   "cell_type": "code",
   "execution_count": 20,
   "metadata": {},
   "outputs": [
    {
     "ename": "TypeError",
     "evalue": "'str' object does not support item assignment",
     "output_type": "error",
     "traceback": [
      "\u001b[1;31m---------------------------------------------------------------------------\u001b[0m",
      "\u001b[1;31mTypeError\u001b[0m                                 Traceback (most recent call last)",
      "\u001b[1;32m<ipython-input-20-1cc28d70c526>\u001b[0m in \u001b[0;36m<module>\u001b[1;34m\u001b[0m\n\u001b[0;32m      1\u001b[0m \u001b[1;31m#str은 기본적으로 수정 불가능\u001b[0m\u001b[1;33m\u001b[0m\u001b[1;33m\u001b[0m\u001b[1;33m\u001b[0m\u001b[0m\n\u001b[0;32m      2\u001b[0m \u001b[0mstr1\u001b[0m\u001b[1;33m=\u001b[0m\u001b[1;34m'pthon'\u001b[0m\u001b[1;33m\u001b[0m\u001b[1;33m\u001b[0m\u001b[0m\n\u001b[1;32m----> 3\u001b[1;33m \u001b[0mstr1\u001b[0m\u001b[1;33m[\u001b[0m\u001b[1;36m1\u001b[0m\u001b[1;33m]\u001b[0m\u001b[1;33m=\u001b[0m\u001b[1;34m'y'\u001b[0m\u001b[1;33m\u001b[0m\u001b[1;33m\u001b[0m\u001b[0m\n\u001b[0m\u001b[0;32m      4\u001b[0m \u001b[0mprint\u001b[0m\u001b[1;33m(\u001b[0m\u001b[0mstr1\u001b[0m\u001b[1;33m)\u001b[0m\u001b[1;33m\u001b[0m\u001b[1;33m\u001b[0m\u001b[0m\n",
      "\u001b[1;31mTypeError\u001b[0m: 'str' object does not support item assignment"
     ]
    }
   ],
   "source": [
    "#str(문자열)은 기본적으로 수정 불가능\n",
    "str1='pthon'\n",
    "str1[1]='y'\n",
    "print(str1)"
   ]
  },
  {
   "cell_type": "code",
   "execution_count": 63,
   "metadata": {},
   "outputs": [
    {
     "name": "stdout",
     "output_type": "stream",
     "text": [
      "a/ b/ c/ d/ e/ f/ g\n",
      "====================\n",
      "['Life', 'is', 'too', 'short']\n",
      "['홍길동', ' 홍경래', ' 임경업', ' 입꺽정']\n",
      "홍경래\n",
      "====================\n",
      "2\n",
      "18\n",
      "====================\n",
      "1\n",
      "1\n",
      "-1\n",
      "====================\n",
      "     python     \n",
      "python     \n",
      "16  rstrip후 -> 11\n",
      "python...\n",
      "====================\n",
      "Hello python\n",
      "13사5육칠팔구\n"
     ]
    }
   ],
   "source": [
    "#count() find() index() split() join()\n",
    "str1='/ '\n",
    "str2='abcdefg'\n",
    "str3=str1.join(str2)  #join은 각각의 구분자로 합쳐주는 메소드다 csv(,) 활용도가 높다\n",
    "print(str3)\n",
    "\n",
    "print(\"=\"*20)\n",
    "\n",
    "str1='Life is too short'\n",
    "str2=str1.split() # split 각각의 문자열을 메소드 안에 들어있는 값으로 분리한다 비어있이면 ' ' 공백(스페이스)로 분리한다\n",
    "print(str2)\n",
    "\n",
    "str1='홍길동, 홍경래, 임경업, 입꺽정'\n",
    "str2=str1.split(',')\n",
    "\n",
    "print(str2)\n",
    "print(str2[1].lstrip()) #'문자열'에 있는 왼쪽 공백을 제거해줌 str2는 리스트 형이기 때문에 반복해서 사용해야함\n",
    "\n",
    "print(\"=\"*20)\n",
    "\n",
    "#count() 갯수를 세는 함수 하지만 단순히 갯수만 세는것이 아니다\n",
    "\n",
    "print(str1.count('홍')) # 특정 문자의 갯수를 세줌\n",
    "print(len(str1)) #len()총 문자의 갯수를 알려줌\n",
    "\n",
    "print(\"=\"*20)\n",
    "\n",
    "#index() 위치를 찾아주는 메소드\n",
    "print(str1.index('길'))\n",
    "print(str1.find('길')) #find index 는 비슷하다\n",
    "\n",
    "print(str1.find('김')) #없는 글자를 찾을떄는 find는 -1로 표시해주고 index는 에러를 뛰운다\n",
    "#print(str1.index('김'))\n",
    "\n",
    "print(\"=\"*20)\n",
    "\n",
    "#공백 제거 lstrip() 왼,rstrip() 오,strip()양\n",
    "str1='     python     '\n",
    "print(str1)\n",
    "print(str1.lstrip())\n",
    "str2=str1.rstrip()\n",
    "print(len(str1),\" rstrip후 ->\",len(str2))\n",
    "\n",
    "str1='...python...'   #lstrip 은 공백 뿐만 아니라 지정된 문자도 삭제가 가능하다\n",
    "print(str1.lstrip('.'))\n",
    "\n",
    "print(\"=\"*20)\n",
    "\n",
    "#바꾸기 replace(),maketrans(),translate()\n",
    "str1=\"Hello World\"\n",
    "str2=str1.replace(\"World\",\"python\") #문자열을 한덩어리 한 문자열을 한번에 바꿔주는것이 replace()\n",
    "print(str2)\n",
    "\n",
    "str1='일삼사오육칠팔구'\n",
    "str2=str1.translate(str1.maketrans(\"일삼오\",\"135\")) #문자를 하나하나 찾아서 바꿔주는 메소드가 translate(.maketrancs)\n",
    "print(str2)"
   ]
  },
  {
   "cell_type": "code",
   "execution_count": 75,
   "metadata": {},
   "outputs": [
    {
     "name": "stdout",
     "output_type": "stream",
     "text": [
      "덧셈결과 3+4=7\n",
      "덧셈결과 3+4=7 \n",
      " 덧셈결과가 맞습니까?\n",
      "덧셈결과 : 3 + 4 = 7\n"
     ]
    }
   ],
   "source": [
    "#format() 문자열의 모양을 꾸밀떄 쓴다 ,%\n",
    "a=3                                      # a,b=3,4 로도 가능하다\n",
    "b=4\n",
    "\n",
    "print(\"덧셈결과 3+4=7\")\n",
    "print(\"{3}결과 {0}+{1}={2} \\n {3}결과가 맞습니까?\".format(a,b,a+b,'덧셈')) #순서대로만 작성하면 굳이 위치를 지정할 필요가 없다\n",
    "\n",
    "#c언어 문법식\n",
    "print(\"%s결과 : %d + %d = %d\"%('덧셈',a,b,a+b))\n"
   ]
  },
  {
   "cell_type": "markdown",
   "metadata": {},
   "source": [
    "## 집합 자료형   "
   ]
  },
  {
   "cell_type": "markdown",
   "metadata": {},
   "source": [
    "   ### list\n",
    "   * 임의의 객체를 순차적으로 저장하는 집합적 자료형\n",
    "    * 각 값에 대하여 인덱스가 부여\n",
    "    * 변경 가능\n",
    "    * \"[]\" 사용"
   ]
  },
  {
   "cell_type": "code",
   "execution_count": 85,
   "metadata": {},
   "outputs": [
    {
     "name": "stdout",
     "output_type": "stream",
     "text": [
      "[10, 11, 12]\n",
      "['James', 178, 80.0, True] <class 'list'>\n",
      "178\n",
      "['James', 'Lord', 80.0, True]\n"
     ]
    }
   ],
   "source": [
    "a=[10,11,12] #!!배열이랑은 다르다 여러정보를 하나로 묶어준다고 생각 배열은 같은 형식으로 묶어야한다 파이썬 기본문법에는 없음\n",
    "print(a)\n",
    "a=[\"James\",178,80.0,True] #서로 다른 형식도 묶을수 있다 list 안에 str은 인덱싱이 불가능!! 따로 뽑아서 해야함\n",
    "print(a,type(a))\n",
    "print(a[1])\n",
    "\n",
    "#수정가능\n",
    "a[0]='Lord'\n",
    "print(a)"
   ]
  },
  {
   "cell_type": "code",
   "execution_count": 88,
   "metadata": {},
   "outputs": [
    {
     "name": "stdout",
     "output_type": "stream",
     "text": [
      "[1, 2, 3, 'a', 45.6, ['a', 'b', 'c']]\n",
      "['a', 'b', 'c']\n",
      "b\n"
     ]
    }
   ],
   "source": [
    "#list 활용 매우 중요\n",
    "\n",
    "a=[1,2,3,'a',45.6,['a','b','c']]\n",
    "print(a)\n",
    "\n",
    "print(a[5]) #index 안의 index 접근 1\n",
    "print(a[5][1]) #index 안의 index 접근 2"
   ]
  },
  {
   "cell_type": "code",
   "execution_count": 92,
   "metadata": {},
   "outputs": [
    {
     "name": "stdout",
     "output_type": "stream",
     "text": [
      "[10, 2, 3, 4, 5]\n",
      "[10, 2, 3, 4, 5]\n",
      "====================\n",
      "[1, 2, 3, 4, 5]\n",
      "[10, 2, 3, 4, 5]\n"
     ]
    }
   ],
   "source": [
    "#얕은 복사 / 깊은 복사\n",
    "\n",
    "a=[1,2,3,4,5]\n",
    "b=a #복사 얕은 복사 : 주소만 복사 \n",
    "b[0]=10\n",
    "print(a)\n",
    "print(b)\n",
    "\n",
    "print('='*20)\n",
    "\n",
    "#깊은 복사\n",
    "a=[1,2,3,4,5]\n",
    "b=a[:] #복사 깊은 복사 : 데이터 복사 \n",
    "b[0]=10\n",
    "print(a)\n",
    "print(b)\n",
    "      "
   ]
  },
  {
   "cell_type": "code",
   "execution_count": 97,
   "metadata": {},
   "outputs": [
    {
     "name": "stdout",
     "output_type": "stream",
     "text": [
      "[0, 1, 2, 3, 4, 5, 6, 7, 8, 9]\n",
      "[5, 6, 7, 8, 9, 10, 11]\n",
      "[5, 7, 9, 11]\n"
     ]
    }
   ],
   "source": [
    "# 리스트 만들기\n",
    "a=[]\n",
    "b=list()\n",
    "c=[1,2,3]\n",
    "\n",
    "a=list(range(10)) #수작업으로 하지않고 range를 활용하여 만들 수 있다\n",
    "print(a)\n",
    "\n",
    "a=list(range(5,12)) \n",
    "print(a)\n",
    "\n",
    "a=list(range(5,12,2)) #range(a,b,c) c인자의 값만큼 값이 뛰면서 만들어진다 a->b 까지 c만큼 증가\n",
    "print(a)"
   ]
  },
  {
   "cell_type": "code",
   "execution_count": 104,
   "metadata": {},
   "outputs": [
    {
     "name": "stdout",
     "output_type": "stream",
     "text": [
      "[1, 2, 3, 4, 5, 6]\n",
      "[1, 2, 3, 1, 2, 3, 1, 2, 3]\n",
      "23\n",
      "['a', 'b', 'c']\n"
     ]
    }
   ],
   "source": [
    "#리스트 연산\n",
    "a=[1,2,3]\n",
    "b=[4,5,6]\n",
    "print(a+b) # 문자열 연결하듯이 합쳐짐\n",
    "print(a*3) # 리스트 3번 출력(문자열처럼)\n",
    "print(str(a[1])+'3')\n",
    "\n",
    "a=list(['a','b','c'])\n",
    "print(a)"
   ]
  },
  {
   "cell_type": "code",
   "execution_count": 115,
   "metadata": {},
   "outputs": [
    {
     "name": "stdout",
     "output_type": "stream",
     "text": [
      "[1, 2, 3]\n",
      "[0, 1, 2, 3]\n",
      "[1, 2, 3]\n",
      "[1, 2, 3, 4]\n",
      "[1, 2, 3]\n",
      "[1, 2, 3, [4, 5, 6]]\n",
      "[1, 2, 3]\n",
      "[1, 2, 3, 4, 5, 6]\n",
      "[1, 2, 3, 4, 5, 6, 4, 5, 6]\n"
     ]
    }
   ],
   "source": [
    "#list에 추가 하는 법 insert(), append(), extand()\n",
    "\n",
    "a=[1,2,3]\n",
    "print(a)\n",
    "a.insert(0,0)  #원하는 위치에 값을 넣을때 insert\n",
    "print(a)\n",
    "\n",
    "a=[1,2,3]\n",
    "print(a)\n",
    "a.append(4)  #무조건 뒤에 추가함 \n",
    "print(a)\n",
    "\n",
    "a=[1,2,3]\n",
    "print(a)\n",
    "a.append([4,5,6])  #무조건 뒤에 추가함 ()안을 그대로 추가함(append)\n",
    "print(a)\n",
    "\n",
    "a=[1,2,3]\n",
    "print(a)\n",
    "a.extend([4,5,6]) #무조건 뒤에 추가함 하나의 값을 주는것이 아님 리스트를 확장(extend)해서 쓴다\n",
    "print(a)\n",
    "\n",
    "a=[1,2,3]\n",
    "a=a+[4,5,6]  #+도 extend 의 기능을 한다\n",
    "a+=[4,5,6]\n",
    "print(a)"
   ]
  },
  {
   "cell_type": "code",
   "execution_count": 120,
   "metadata": {},
   "outputs": [
    {
     "name": "stdout",
     "output_type": "stream",
     "text": [
      "[1, 2, 3, 4]\n",
      "[4, 3, 2, 1]\n"
     ]
    }
   ],
   "source": [
    "#정렬 기능\n",
    "a=[1,4,3,2]\n",
    "a.sort()\n",
    "print(a)\n",
    "\n",
    "a.reverse()\n",
    "print(a)"
   ]
  },
  {
   "cell_type": "code",
   "execution_count": 129,
   "metadata": {},
   "outputs": [
    {
     "name": "stdout",
     "output_type": "stream",
     "text": [
      "[1, 2, 3]\n",
      "[1, 2, 1, 2, 3]\n",
      "[1, 2, 3, 2, 3]\n",
      "[1, 2] 3\n",
      "[1] 2\n"
     ]
    }
   ],
   "source": [
    "#list에 제거 하는 법\n",
    "\n",
    "a=[1,2,3,1,2,3]\n",
    "a[0:3]=()\n",
    "print(a)\n",
    "\n",
    "a=[1,2,3,1,2,3]\n",
    "a.remove(3)\n",
    "print(a)\n",
    "\n",
    "a=[1,2,3,1,2,3]\n",
    "del a[3]\n",
    "print(a)\n",
    "\n",
    "#pop\n",
    "a=[1,2,3]\n",
    "b=a.pop()\n",
    "print(a,b)\n",
    "b=a.pop()\n",
    "print(a,b)"
   ]
  },
  {
   "cell_type": "code",
   "execution_count": 131,
   "metadata": {},
   "outputs": [
    {
     "name": "stdout",
     "output_type": "stream",
     "text": [
      "True\n",
      "False\n"
     ]
    }
   ],
   "source": [
    "#어떤 특정 데이터를 포함하고 있는지\n",
    "a=[1,2,3,4,5]\n",
    "\n",
    "print(2 in a)  # 있으면 True 없으면 False\n",
    "print(2 not in a) #not 반대 연산자"
   ]
  },
  {
   "cell_type": "markdown",
   "metadata": {},
   "source": [
    "### tuple\n",
    "  * list와 거의 동일\n",
    "  * 임의의 객체를 순차적으로 저장하는 집확점 자료용\n",
    "  * \"()\"을 사용\n",
    "  * !!수정불가(list랑 큰차이)"
   ]
  },
  {
   "cell_type": "code",
   "execution_count": 134,
   "metadata": {},
   "outputs": [
    {
     "name": "stdout",
     "output_type": "stream",
     "text": [
      "('a', 'b', 'c', 'd')\n",
      "<class 'tuple'>\n",
      "4\n",
      "1\n",
      "1\n"
     ]
    }
   ],
   "source": [
    "a='a','b','c','d'\n",
    "print(a)\n",
    "print(type(a))\n",
    "\n",
    "print(len(a))\n",
    "print(a.count('c'))\n",
    "print(a.index('b'))"
   ]
  },
  {
   "cell_type": "code",
   "execution_count": 135,
   "metadata": {},
   "outputs": [
    {
     "ename": "TypeError",
     "evalue": "'tuple' object does not support item assignment",
     "output_type": "error",
     "traceback": [
      "\u001b[1;31m---------------------------------------------------------------------------\u001b[0m",
      "\u001b[1;31mTypeError\u001b[0m                                 Traceback (most recent call last)",
      "\u001b[1;32m<ipython-input-135-ac4676b91da0>\u001b[0m in \u001b[0;36m<module>\u001b[1;34m\u001b[0m\n\u001b[1;32m----> 1\u001b[1;33m \u001b[0ma\u001b[0m\u001b[1;33m[\u001b[0m\u001b[1;36m1\u001b[0m\u001b[1;33m]\u001b[0m\u001b[1;33m=\u001b[0m\u001b[1;34m'd'\u001b[0m\u001b[1;33m\u001b[0m\u001b[1;33m\u001b[0m\u001b[0m\n\u001b[0m",
      "\u001b[1;31mTypeError\u001b[0m: 'tuple' object does not support item assignment"
     ]
    }
   ],
   "source": [
    "a[1]='d' #immutable 한 자료형 이기 때문에 수정할 수 없다"
   ]
  },
  {
   "cell_type": "code",
   "execution_count": 145,
   "metadata": {},
   "outputs": [
    {
     "name": "stdout",
     "output_type": "stream",
     "text": [
      "('a', 'b', 'c', 'd')\n",
      "<class 'list'>\n",
      "['a', 'b', 'c', 'd']\n",
      "['a', 10, 'c', 'd']\n",
      "('a', 10, 'c', 'd')\n"
     ]
    }
   ],
   "source": [
    "a='a','b','c','d'\n",
    "print(a)\n",
    "a=list(a)\n",
    "print(type(a))\n",
    "print(a)       # Tuple -> list 로 바꿔주면 수정이 가능하다\n",
    "a[1]=10\n",
    "print(a)\n",
    "a=tuple(a)\n",
    "print(a)"
   ]
  },
  {
   "cell_type": "code",
   "execution_count": 146,
   "metadata": {},
   "outputs": [
    {
     "name": "stdout",
     "output_type": "stream",
     "text": [
      "10 20 30\n"
     ]
    }
   ],
   "source": [
    "a,b,c=10,20,30 # 일반 변수는 이렇게 선언했었다\n",
    "a=(10,20,30) #여러개의 값을 하나의 변수로 합축 시키는것 Packing(팩킹)포장한다\n",
    "a1,a2,a3=a #Unpacking\n",
    "print(a1,a2,a3)"
   ]
  },
  {
   "cell_type": "markdown",
   "metadata": {},
   "source": [
    "### Dict(Dictionary)\n",
    "   * 순서가 없다! 인덱스가 없다\n",
    "   * {키:값} <- 하나의 데이터\n",
    "   * 데이터는 검색용도로 많이 사용하기 때문에 많이 쓰이는 자료용중 하나이다\n",
    "   * 키를 이용해서 값을 조회"
   ]
  },
  {
   "cell_type": "code",
   "execution_count": 163,
   "metadata": {},
   "outputs": [
    {
     "name": "stdout",
     "output_type": "stream",
     "text": [
      "{'name': ['홍길동', '김병주'], 'phone': ['010-1111-1111', '010-4224-1553'], 'age': ['25', '24']}\n",
      "<class 'dict'>\n",
      "['홍길동', '김병주']\n",
      "홍길동 010-1111-1111\n",
      "['홍길동', '김병주']\n",
      "dict_keys(['name', 'phone', 'age'])\n",
      "dict_values([['홍길동', '김병주'], ['010-1111-1111', '010-4224-1553'], ['25', '24']])\n",
      "dict_items([('name', ['홍길동', '김병주']), ('phone', ['010-1111-1111', '010-4224-1553']), ('age', ['25', '24'])])\n",
      "<class 'dict_items'>\n",
      "<class 'list'>\n",
      "('name', ['홍길동', '김병주'])\n"
     ]
    }
   ],
   "source": [
    "a={\"name\":[\"홍길동\",\"김병주\"],\"phone\":[\"010-1111-1111\",\"010-4224-1553\"],\"age\":[\"25\",\"24\"]}\n",
    "print(a)\n",
    "print(type(a))\n",
    "\n",
    "print(a[\"name\"]) #a[0]같은 인덱스로는 할수 없다 key값으로 접근\n",
    "print(a[\"name\"][0],a[\"phone\"][0])\n",
    "\n",
    "print(a.get(\"name\")) #a[\"name\"] 랑 같은효과\n",
    "print(a.keys()) #key값만 뽑아오는 함수 keys\n",
    "print(a.values())#데이터 값만 뽑아오는 함수 values\n",
    "print(a.items()) #키와 값을 묷어서 가져오는 함수 items\n",
    "\n",
    "b=a.items()\n",
    "print(type(b)) #<class 'dict_items'>\n",
    "\n",
    "b=list(a.items())\n",
    "print(type(b)) #<class 'list'>\n",
    "\n",
    "print(b[0])"
   ]
  },
  {
   "cell_type": "code",
   "execution_count": 165,
   "metadata": {},
   "outputs": [
    {
     "name": "stdout",
     "output_type": "stream",
     "text": [
      "{'name': ['홍길동', '김병주', '임꺽정', '임꺽정'], 'phone': ['010-1111-1111', '010-4224-1553'], 'age': ['25', '24']}\n"
     ]
    }
   ],
   "source": [
    "a[\"name\"].append(\"임꺽정\")\n",
    "print(a)"
   ]
  },
  {
   "cell_type": "code",
   "execution_count": 169,
   "metadata": {},
   "outputs": [
    {
     "name": "stdout",
     "output_type": "stream",
     "text": [
      "{'name': ['홍길동', '김병주'], 'phone': ['010-1111-1111', '010-4224-1553']}\n",
      "{}\n"
     ]
    }
   ],
   "source": [
    "a={\"name\":[\"홍길동\",\"김병주\"],\"phone\":[\"010-1111-1111\",\"010-4224-1553\"],\"age\":[\"25\",\"24\"]}\n",
    "del a['age']   #del 변수 자체를 삭제\n",
    "print(a)\n",
    "\n",
    "a.clear()      #변수를 남겨놓고 삭제\n",
    "print(a)"
   ]
  },
  {
   "cell_type": "code",
   "execution_count": 171,
   "metadata": {},
   "outputs": [
    {
     "name": "stdout",
     "output_type": "stream",
     "text": [
      "{'name': '홍길동', 'phone': '111-111', 'age': '25'}\n"
     ]
    }
   ],
   "source": [
    "a=dict(name=\"홍길동\",phone=\"111-111\",age=\"25\")\n",
    "print(a)"
   ]
  },
  {
   "cell_type": "markdown",
   "metadata": {},
   "source": [
    "### Set \n",
    "  * '{}' 를 사용\n",
    "  * key와 값의 구분없이 list 랑 Tuple 처럼 값을 하나씩 저장함 ex.{1,2,3}\n",
    "  * 순서가 없다.\n",
    "  * 집합의 의미의 set의 늬양스\n",
    "  * !!중복 불가(같은 데이터를 받지 않는다)"
   ]
  },
  {
   "cell_type": "code",
   "execution_count": 177,
   "metadata": {},
   "outputs": [
    {
     "name": "stdout",
     "output_type": "stream",
     "text": [
      "{1, 2, 3}\n",
      "3\n"
     ]
    },
    {
     "ename": "TypeError",
     "evalue": "'set' object is not subscriptable",
     "output_type": "error",
     "traceback": [
      "\u001b[1;31m---------------------------------------------------------------------------\u001b[0m",
      "\u001b[1;31mTypeError\u001b[0m                                 Traceback (most recent call last)",
      "\u001b[1;32m<ipython-input-177-aaca82738204>\u001b[0m in \u001b[0;36m<module>\u001b[1;34m\u001b[0m\n\u001b[0;32m      2\u001b[0m \u001b[0mprint\u001b[0m\u001b[1;33m(\u001b[0m\u001b[0ma\u001b[0m\u001b[1;33m)\u001b[0m\u001b[1;33m\u001b[0m\u001b[1;33m\u001b[0m\u001b[0m\n\u001b[0;32m      3\u001b[0m \u001b[0mprint\u001b[0m\u001b[1;33m(\u001b[0m\u001b[0mlen\u001b[0m\u001b[1;33m(\u001b[0m\u001b[0ma\u001b[0m\u001b[1;33m)\u001b[0m\u001b[1;33m)\u001b[0m\u001b[1;33m\u001b[0m\u001b[1;33m\u001b[0m\u001b[0m\n\u001b[1;32m----> 4\u001b[1;33m \u001b[0mprint\u001b[0m\u001b[1;33m(\u001b[0m\u001b[0ma\u001b[0m\u001b[1;33m[\u001b[0m\u001b[1;36m0\u001b[0m\u001b[1;33m]\u001b[0m\u001b[1;33m)\u001b[0m \u001b[1;31m#TypeError: 'set' object is not subscriptable\u001b[0m\u001b[1;33m\u001b[0m\u001b[1;33m\u001b[0m\u001b[0m\n\u001b[0m",
      "\u001b[1;31mTypeError\u001b[0m: 'set' object is not subscriptable"
     ]
    }
   ],
   "source": [
    "a={1,2,3,1}\n",
    "print(a)\n",
    "print(len(a))\n",
    "print(a[0]) #TypeError: 'set' object is not subscriptable"
   ]
  },
  {
   "cell_type": "code",
   "execution_count": 179,
   "metadata": {},
   "outputs": [
    {
     "name": "stdout",
     "output_type": "stream",
     "text": [
      "{1, 2, 3, 4, 5, 6, 7, 8, 9}\n",
      "{4, 5, 6}\n",
      "{1, 2, 3}\n"
     ]
    }
   ],
   "source": [
    "s1={1,2,3,4,5,6}\n",
    "s2={4,5,6,7,8,9}\n",
    "\n",
    "#합집합\n",
    "print(s1.union(s2))\n",
    "\n",
    "#교집합\n",
    "print(s1.intersection(s2))\n",
    "\n",
    "#차집합\n",
    "print(s1.difference(s2))"
   ]
  },
  {
   "cell_type": "code",
   "execution_count": 185,
   "metadata": {
    "scrolled": true
   },
   "outputs": [
    {
     "name": "stdout",
     "output_type": "stream",
     "text": [
      "{1, 2, 3, 4, 5, 6, 7, 8}\n",
      "{1, 2, 3, 4, 5, 6, 7, 8, 9}\n",
      "{1, 2, 3, 4, 5, 6, 7, 8}\n",
      "{1, 2, 3, 4, 5, 6, 7}\n"
     ]
    },
    {
     "ename": "KeyError",
     "evalue": "10",
     "output_type": "error",
     "traceback": [
      "\u001b[1;31m---------------------------------------------------------------------------\u001b[0m",
      "\u001b[1;31mKeyError\u001b[0m                                  Traceback (most recent call last)",
      "\u001b[1;32m<ipython-input-185-65c28344c93b>\u001b[0m in \u001b[0;36m<module>\u001b[1;34m\u001b[0m\n\u001b[0;32m     16\u001b[0m \u001b[1;33m\u001b[0m\u001b[0m\n\u001b[0;32m     17\u001b[0m \u001b[0ms1\u001b[0m\u001b[1;33m.\u001b[0m\u001b[0mdiscard\u001b[0m\u001b[1;33m(\u001b[0m\u001b[1;36m10\u001b[0m\u001b[1;33m)\u001b[0m\u001b[1;33m\u001b[0m\u001b[1;33m\u001b[0m\u001b[0m\n\u001b[1;32m---> 18\u001b[1;33m \u001b[0ms1\u001b[0m\u001b[1;33m.\u001b[0m\u001b[0mremove\u001b[0m\u001b[1;33m(\u001b[0m\u001b[1;36m10\u001b[0m\u001b[1;33m)\u001b[0m\u001b[1;33m\u001b[0m\u001b[1;33m\u001b[0m\u001b[0m\n\u001b[0m",
      "\u001b[1;31mKeyError\u001b[0m: 10"
     ]
    }
   ],
   "source": [
    "#여러개를 동시에 추가할때에는 Update\n",
    "s1.update([7,8])\n",
    "print(s1)\n",
    "\n",
    "#한개만 추가\n",
    "s1.add(9)\n",
    "print(s1)\n",
    "\n",
    "#삭제1\n",
    "s1.remove(9)\n",
    "print(s1)\n",
    "\n",
    "#삭제 2\n",
    "s1.discard(8)\n",
    "print(s1)\n",
    "\n",
    "s1.discard(10) #없는걸 삭제할려고 하면 넘어감\n",
    "s1.remove(10) #Error 없는걸 삭제하려고 할때\n"
   ]
  },
  {
   "cell_type": "code",
   "execution_count": 186,
   "metadata": {
    "scrolled": true
   },
   "outputs": [
    {
     "name": "stdout",
     "output_type": "stream",
     "text": [
      "{1, 2, 3, 4}\n"
     ]
    }
   ],
   "source": [
    "a=[1,2,3,4,4,2]  #중복된걸 제거하기위해서 사용될수도 있다.\n",
    "a=set(a)\n",
    "print(a)"
   ]
  },
  {
   "cell_type": "markdown",
   "metadata": {},
   "source": [
    "# 2.연산자\n",
    "### 1)산술연산자\n",
    "        * / + - % //(정수형 몫) **\n",
    "### 2)비교연산자\n",
    "        < > <= >= == != : 결과가 bool형으로 나온다\n",
    "### 3)논리연산자(단락 회로 연산자)\n",
    "        and or not(단항 연산자,토글)\n",
    "### 4)대입(치환,할당) 연산자\n",
    "        = += -= *= /= etc....\n",
    "=================================================================\n",
    "### 5) 포함 여부 연산자\n",
    "        in / not in\n",
    "\n",
    "### 5) 비트 연산자 (속도 + 복잡함)\n",
    "        & | ^(xor) - << >> ...\n",
    "\n",
    "    (논리표)\n",
    "    a    b    a&b    a|b    a^b\n",
    "    ===========================\n",
    "    T    T     T      T      F\n",
    "    T    F     F      T      T\n",
    "    F    T     F      F      T\n",
    "    F    F     F      F      F\n",
    "    \n",
    "    XOR : 암호화 복호화 하기 편한 방법"
   ]
  },
  {
   "cell_type": "code",
   "execution_count": 1,
   "metadata": {},
   "outputs": [
    {
     "name": "stdout",
     "output_type": "stream",
     "text": [
      "2\n",
      "1.6666666666666667\n",
      "1\n",
      "8\n"
     ]
    }
   ],
   "source": [
    "#산술 연산자\n",
    "\n",
    "print(5%3)\n",
    "print(5/3) #실수 계산은 자릿수 연산이 필요함\n",
    "print(5//3)\n",
    "print(2**3)"
   ]
  },
  {
   "cell_type": "code",
   "execution_count": 2,
   "metadata": {},
   "outputs": [
    {
     "name": "stdout",
     "output_type": "stream",
     "text": [
      "3\n",
      "9\n"
     ]
    }
   ],
   "source": [
    "#대입 연산자\n",
    "\n",
    "a=1\n",
    "a=5\n",
    "a=3\n",
    "print(a)\n",
    "\n",
    "a=1\n",
    "a+=5\n",
    "a+=3\n",
    "print(a)"
   ]
  },
  {
   "cell_type": "code",
   "execution_count": 3,
   "metadata": {},
   "outputs": [
    {
     "name": "stdout",
     "output_type": "stream",
     "text": [
      "False\n",
      "False\n",
      "6\n",
      "4\n"
     ]
    }
   ],
   "source": [
    "#논리/비트 연산자\n",
    "print(12>5 and 6<=3)\n",
    "print(12>5 & 6<=3)\n",
    "\n",
    "print(12 and 6) #논리연산자 / 논리 비트 상황에 따라서 속도가 다르다  ex) and가 여러개가 있다고 가정할때 하나만 거짓이여도 \n",
    "print(12 & 6) #비트 연산자                                            다 거짓이 되기 때문"
   ]
  },
  {
   "cell_type": "code",
   "execution_count": 7,
   "metadata": {},
   "outputs": [
    {
     "name": "stdout",
     "output_type": "stream",
     "text": [
      "암호화 : 827970\n",
      "복호화 : 648723\n"
     ]
    }
   ],
   "source": [
    "#XOR 암호화 복호화\n",
    "password=648723\n",
    "key=345169\n",
    "\n",
    "encode=password^key\n",
    "print(\"암호화 :\",encode)\n",
    "\n",
    "decode=encode^key\n",
    "print(\"복호화 :\",decode)"
   ]
  },
  {
   "cell_type": "code",
   "execution_count": 15,
   "metadata": {},
   "outputs": [
    {
     "name": "stdout",
     "output_type": "stream",
     "text": [
      "True True False False False False\n"
     ]
    }
   ],
   "source": [
    "# bool 자료형 T/F True False\n",
    "print(bool(\"hello\"),bool(10),bool(\"\"),bool([]),bool({}),bool(None))# 그냥 값이 있으면 T 없으면 F\n",
    "\n",
    "a=10\n",
    "a=None #비어있는 a를 선언하고 싶을때 Python의 변수가 참초변수(주소변수)라서 가능하다"
   ]
  },
  {
   "cell_type": "markdown",
   "metadata": {},
   "source": [
    "\n",
    "# 5. 입력 기능"
   ]
  },
  {
   "cell_type": "code",
   "execution_count": 17,
   "metadata": {},
   "outputs": [
    {
     "name": "stdout",
     "output_type": "stream",
     "text": [
      "당신의 이름은 ? 홍길동\n",
      "안녕하세요 홍길동님\n"
     ]
    }
   ],
   "source": [
    "#input()\n",
    "name=input(\"당신의 이름은 ? \")\n",
    "print(\"안녕하세요 {}님\".format(name))"
   ]
  },
  {
   "cell_type": "code",
   "execution_count": 19,
   "metadata": {},
   "outputs": [
    {
     "name": "stdout",
     "output_type": "stream",
     "text": [
      "첫번쨰 숫자10\n",
      "두번쨰 숫자30\n",
      "결과 : 10+30=40\n"
     ]
    }
   ],
   "source": [
    "num1 = int(input(\"첫번쨰 숫자\"))\n",
    "num2 = int(input(\"두번쨰 숫자\"))\n",
    "\n",
    "print(\"결과 : {}+{}={}\".format(num1,num2,num1+num2))"
   ]
  },
  {
   "cell_type": "markdown",
   "metadata": {},
   "source": [
    "---\n",
    "동전 교환 프로그램\n",
    "\n",
    "\n",
    "교환할 돈은 얼마입니까? n 입력\n",
    "\n",
    "*결과\n",
    "*오백원짜리\n",
    "*백원짜리\n",
    "*오십원짜리\n",
    "*십원짜리\n",
    "*나머지 바꾸지 못한 잔돈\n",
    "\n"
   ]
  },
  {
   "cell_type": "code",
   "execution_count": 22,
   "metadata": {},
   "outputs": [
    {
     "name": "stdout",
     "output_type": "stream",
     "text": [
      "교환할 돈은 얼마입니까?2750\n",
      "결과\n",
      "오백원짜리 5개\n",
      "백원짜리 2개\n",
      "오십원원짜리 1개\n",
      "십원짜리 0개\n",
      "나머지 바꾸지 못한 잔돈 0원\n"
     ]
    }
   ],
   "source": [
    "money=int(input(\"교환할 돈은 얼마입니까?\"))\n",
    "print(\"결과\")\n",
    "print(\"오백원짜리 {}개\".format(money//500))\n",
    "money-=((money//500)*500)\n",
    "print(\"백원짜리 {}개\".format(money//100))\n",
    "money-=((money//100)*100)\n",
    "print(\"오십원원짜리 {}개\".format(money//50))\n",
    "money-=((money//50)*50)\n",
    "print(\"십원짜리 {}개\".format(money//10))\n",
    "money-=((money//10)*10)\n",
    "print(\"나머지 바꾸지 못한 잔돈 {}원\".format(money))"
   ]
  },
  {
   "cell_type": "code",
   "execution_count": 3,
   "metadata": {},
   "outputs": [
    {
     "name": "stdout",
     "output_type": "stream",
     "text": [
      "교환할 돈은 얼마입니까?2750\n",
      "결과\n",
      "오백원짜리 5개\n",
      "백원짜리 2개\n",
      "오십원짜리 1개\n",
      "십원짜리 0개\n",
      "나머지 바꾸지 못한 잔돈 0원\n"
     ]
    }
   ],
   "source": [
    "money, c500, c100, c50, c10=0, 0, 0, 0, 0\n",
    "\n",
    "money=int(input(\"교환할 돈은 얼마입니까?\"))\n",
    "\n",
    "c500 = money//500\n",
    "money%=500\n",
    "c100 = money//100\n",
    "money%=100\n",
    "c50 = money//50\n",
    "money%=50\n",
    "c10 = money//10\n",
    "money%=10\n",
    "print(\"결과\")\n",
    "print(\"오백원짜리 {}개\\n백원짜리 {}개\\n오십원짜리 {}개\\n십원짜리 {}개\\n나머지 바꾸지 못한 잔돈 {}원\".format(c500,c100,c50,c10,money))"
   ]
  },
  {
   "cell_type": "code",
   "execution_count": null,
   "metadata": {},
   "outputs": [],
   "source": []
  }
 ],
 "metadata": {
  "kernelspec": {
   "display_name": "Python 3",
   "language": "python",
   "name": "python3"
  },
  "language_info": {
   "codemirror_mode": {
    "name": "ipython",
    "version": 3
   },
   "file_extension": ".py",
   "mimetype": "text/x-python",
   "name": "python",
   "nbconvert_exporter": "python",
   "pygments_lexer": "ipython3",
   "version": "3.7.4"
  }
 },
 "nbformat": 4,
 "nbformat_minor": 2
}
