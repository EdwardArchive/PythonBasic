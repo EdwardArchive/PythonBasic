{
 "cells": [
  {
   "cell_type": "markdown",
   "metadata": {},
   "source": [
    "## 1. 함수의 정의 일정한 작업을 수행하는 코드블럭\n",
    "\n",
    "## 2. 함수의 정점\n",
    "    \n",
    "    1)반복적인 코드를 없에 주어 코드의 길이를 짧게 만들어준다\n",
    "    2) 프로그램의 유지보수를 쉽게 만들어준다\n",
    "    \n",
    "## 3. 함수의 구현\n",
    "    \n",
    "    ex) def 함수이름(....) :\n",
    "        코드 정의\n",
    "        ....\n",
    "        return ...\n",
    "## 4. 함수의 호출 방식\n",
    "\n",
    "    1)인자가(인수)가 없는 방식     #건너갈때의 방식\n",
    "    2)인자가 있는 방식             #건너갈때의 방식\n",
    "    3)반환값(return)이 있는 방식   #복귀할때 방식\n",
    "        return의 두가지 기능\n",
    "            -값을 반환\n",
    "            -함수의 강제종료\n",
    "\n",
    "## 5. 함수의 설계 (함수를 만들데 고려할점)\n",
    "\n",
    "    1)제사용성\n",
    "    2)단일 기능\n",
    "\n",
    "## 6. 함수의 종류\n",
    "    \n",
    "    1) 사용자 정의 함수\n",
    "    2) 내장 함수(built-in)\n",
    "    3) 외장 함수"
   ]
  },
  {
   "cell_type": "code",
   "execution_count": 12,
   "metadata": {},
   "outputs": [],
   "source": [
    "star_num=32\n",
    "def Draw_line(n,line_type) : #매개변수(반드시!! 값 X)(eng.parameter)\n",
    "    print(line_type*n)"
   ]
  },
  {
   "cell_type": "code",
   "execution_count": 7,
   "metadata": {},
   "outputs": [
    {
     "name": "stdout",
     "output_type": "stream",
     "text": [
      "********************************\n",
      "\t친구관리프로그램\n",
      "================================\n",
      "1.친구 리스트 출력\n",
      "2.친구 추가\n",
      "3.친구 삭제\n",
      "--------------------------------\n"
     ]
    }
   ],
   "source": [
    "Draw_line(32,\"*\") #호출 한다(Call)          #실인자(argument)\n",
    "print(\"\\t친구관리프로그램\")\n",
    "Draw_line(32,\"=\")\n",
    "print(\"1.친구 리스트 출력\")                     #함수의 주소는 stack에 저장한다\n",
    "print(\"2.친구 추가\")\n",
    "print(\"3.친구 삭제\")\n",
    "Draw_line(32,\"-\")"
   ]
  },
  {
   "cell_type": "code",
   "execution_count": 16,
   "metadata": {},
   "outputs": [],
   "source": [
    "def swap(num1,num2):\n",
    "    tmp=num1\n",
    "    num1=num2\n",
    "    num2=tmp\n",
    "    \n",
    "    return num1,num2"
   ]
  },
  {
   "cell_type": "code",
   "execution_count": 22,
   "metadata": {},
   "outputs": [
    {
     "name": "stdout",
     "output_type": "stream",
     "text": [
      "두 수의 교환\n",
      "결과 : (5, 11)\n"
     ]
    }
   ],
   "source": [
    "# num1,num2=10,5\n",
    "\n",
    "# print(\"두 수의 교환\")    #블럭주석 Ctrl + ?\n",
    "# tmp=num1\n",
    "# num1=num2\n",
    "# num2=tmp\n",
    "# print(\"결과 :\",num1,num2)\n",
    "\n",
    "num1,num2=11,5\n",
    "\n",
    "print(\"두 수의 교환\")\n",
    "\n",
    "# num1,num2=swap(num1,num2)\n",
    "# print(\"결과 :\",num1,num2)\n",
    "print(\"결과 :\",swap(num1,num2))"
   ]
  },
  {
   "cell_type": "code",
   "execution_count": 6,
   "metadata": {},
   "outputs": [],
   "source": [
    "def title():\n",
    "    print(\"\\n\\t친구 관리 프로그램\\n\")\n",
    "    print(\"=\"*32)\n",
    "    print(\"1.친구 리스트 출력\")\n",
    "    print(\"2.친구 추가\")\n",
    "    print(\"3.친구 삭제\")\n",
    "    print(\"4.이름변경\")\n",
    "    print(\"9.종료\")\n",
    "    print(\"=\"*32)\n",
    "def check_name(name,list_friends):\n",
    "    if name in list_friends: return True\n",
    "    else: return False"
   ]
  },
  {
   "cell_type": "markdown",
   "metadata": {},
   "source": [
    "## 파이썬에서 함수를 지원하기 위한 문법"
   ]
  },
  {
   "cell_type": "code",
   "execution_count": 14,
   "metadata": {
    "scrolled": true
   },
   "outputs": [
    {
     "name": "stdout",
     "output_type": "stream",
     "text": [
      "홍길동 지역대표\n",
      "지역대표\n"
     ]
    }
   ],
   "source": [
    "#변수의 유효범위 : 전역변수,지역변수\n",
    "\n",
    "player=\"한국대표\"\n",
    "\n",
    "def Sports():\n",
    "    global player\n",
    "    name=\"홍길동\"\n",
    "    player=\"지역대표\"\n",
    "    print(name,player)\n",
    "\n",
    "######################################\n",
    "\n",
    "Sports()\n",
    "print(player)"
   ]
  },
  {
   "cell_type": "code",
   "execution_count": 26,
   "metadata": {},
   "outputs": [
    {
     "name": "stdout",
     "output_type": "stream",
     "text": [
      "******************************\n",
      "********************************\n",
      "안녕하세요!! 홍길동\n",
      "반드시 이름을 입력하세요\n",
      "안녕하세요~~서울에 사는 23님. 당신의 나이는 홍길동세 입니다.\n",
      "안녕하세요~~서울에 사는 무명자님. 당신의 나이는 23세 입니다.\n",
      "안녕하세요~~서울에 사는 23님. 당신의 나이는 임꺽정세 입니다.\n",
      "안녕하세요~~서울에 사는 임꺽정님. 당신의 나이는 23세 입니다.\n"
     ]
    }
   ],
   "source": [
    "#defult 인수\n",
    "\n",
    "def Draw_line(n=32,line_type='*') :\n",
    "    print(line_type*n)\n",
    "    \n",
    "def hello(name=None):\n",
    "    if name==None:\n",
    "        print(\"반드시 이름을 입력하세요\")\n",
    "        return \n",
    "    print(\"안녕하세요!!\",name)\n",
    "\n",
    "def hello2(addr,age,name=\"무명자\"):\n",
    "    print(\"안녕하세요~~{}에 사는 {}님. 당신의 나이는 {}세 입니다.\".format(addr,name,age))\n",
    "\n",
    "####################################\n",
    "\n",
    "Draw_line(30,'*')\n",
    "Draw_line()\n",
    "\n",
    "hello(\"홍길동\")\n",
    "hello()\n",
    "\n",
    "hello2('서울','홍길동',23)\n",
    "hello2('서울',23)\n",
    "\n",
    "hello2('서울','임꺽정',23)\n",
    "hello2(addr='서울',name='임꺽정',age=23)"
   ]
  },
  {
   "cell_type": "code",
   "execution_count": 67,
   "metadata": {},
   "outputs": [
    {
     "name": "stdout",
     "output_type": "stream",
     "text": [
      "('홍길동',)\n",
      "<class 'tuple'>\n",
      "홍길동\n",
      "(['홍길동', '임꺽정', '산들석', '홍경래'],)\n",
      "<class 'tuple'>\n",
      "['홍길동', '임꺽정', '산들석', '홍경래']\n",
      "--------------------\n",
      "홍길동 님 환영합니다.\n",
      "임꺽정 님 환영합니다.\n",
      "산들석 님 환영합니다.\n",
      "홍경래 님 환영합니다.\n",
      "--------------------\n",
      "1 2 3 4 5\n"
     ]
    }
   ],
   "source": [
    "#가변 인수\n",
    "# * : '일반,곱셈, 가변 인수(packing),  unpacking'\n",
    "# ** : 제곱연산,가변 인수(dict형으로 처리함)\n",
    "def greeting(*name):\n",
    "    print(name)\n",
    "    print(type(name))\n",
    "    print(name[0])\n",
    "    \n",
    "def greeting2(weight=0, height=0, *name):\n",
    "    for i in name:\n",
    "        print(i,\"님 환영합니다.\")\n",
    "def asterlisk_test(a,args):\n",
    "    print(a,*args)\n",
    "##################################\n",
    "\n",
    "greeting(\"홍길동\")\n",
    "greeting([\"홍길동\",\"임꺽정\",\"산들석\",\"홍경래\"])\n",
    "\n",
    "print(\"-\"*20)\n",
    "\n",
    "greeting2(\"홍길동\")\n",
    "greeting2(1,2,\"홍길동\",\"임꺽정\",\"산들석\",\"홍경래\")\n",
    "\n",
    "print(\"-\"*20)\n",
    "\n",
    "#asterlisk_test(1,2,3,4,5)       #가변인수 1 (2, 3, 4, 5) 팩킹 묶어줌\n",
    "asterlisk_test(1,(2, 3, 4, 5))\n"
   ]
  },
  {
   "cell_type": "code",
   "execution_count": 57,
   "metadata": {},
   "outputs": [
    {
     "name": "stdout",
     "output_type": "stream",
     "text": [
      "[1, 2] [3, 4] [5, 6]\n",
      "([1, 2], [3, 4], [5, 6])\n",
      "[1, 2] [3, 4] [5, 6]\n"
     ]
    }
   ],
   "source": [
    "#unpacking\n",
    "\n",
    "a,b,c = ([1,2],[3,4],[5,6])\n",
    "print(a,b,c)\n",
    "\n",
    "d=([1,2],[3,4],[5,6])\n",
    "print(d)\n",
    "print(*d)"
   ]
  },
  {
   "cell_type": "code",
   "execution_count": 65,
   "metadata": {},
   "outputs": [
    {
     "name": "stdout",
     "output_type": "stream",
     "text": [
      "0 0\n",
      "{'name': '홍길동', 'age': 20, 'addr': '서울'}\n"
     ]
    }
   ],
   "source": [
    "## ** 가변인수 dict로 받아서 처리함\n",
    "\n",
    "def info(weight=0,height=0,**other):\n",
    "    print(weight,height)\n",
    "    print(other)\n",
    "    \n",
    "####################################\n",
    "\n",
    "info(name='홍길동',age=20,addr='서울')"
   ]
  },
  {
   "cell_type": "code",
   "execution_count": 71,
   "metadata": {},
   "outputs": [
    {
     "name": "stdout",
     "output_type": "stream",
     "text": [
      "10 1 2 3\n",
      "10 1 2 3\n"
     ]
    }
   ],
   "source": [
    "def astrlisk_test(a,b,c,d):\n",
    "    print(a,b,c,d)\n",
    "    \n",
    "##############################\n",
    "\n",
    "data={'b':1,'c':2,'d':3}\n",
    "astrlisk_test(10,**data)\n",
    "\n",
    "data={'d':3,'c':2,'b':1}\n",
    "astrlisk_test(10,**data)"
   ]
  },
  {
   "cell_type": "markdown",
   "metadata": {},
   "source": [
    "## 편리하게 쓸수 있는 여러 파이썬 내장 함수들(자주 등장하는것들)"
   ]
  },
  {
   "cell_type": "code",
   "execution_count": 75,
   "metadata": {},
   "outputs": [
    {
     "name": "stdout",
     "output_type": "stream",
     "text": [
      "True\n",
      "False\n",
      "True\n",
      "True\n"
     ]
    }
   ],
   "source": [
    "# all(),any()   and와 or을 쓰기쉽게하기위한 함수\n",
    "\n",
    "print(all([1,2,3,-1,-2]))\n",
    "print(all([1,2,3,-1,-2,0]))\n",
    "\n",
    "print(any([1,2,3,-1,-2]))\n",
    "print(any([1,2,3,-1,-2,0,None]))"
   ]
  },
  {
   "cell_type": "code",
   "execution_count": 4,
   "metadata": {
    "scrolled": true
   },
   "outputs": [
    {
     "name": "stdout",
     "output_type": "stream",
     "text": [
      "<enumerate object at 0x0000000008A8CD68>\n",
      "0   홍길동\n",
      "1   임꺽정\n",
      "2   3.14\n",
      "3   1000\n",
      "4   True\n",
      "100   홍길동\n",
      "101   임꺽정\n",
      "102   3.14\n",
      "103   1000\n",
      "104   True\n"
     ]
    }
   ],
   "source": [
    "#enumerate 순서가 있는 자료형을 입력받아 index값을 포함해서 리턴하는 함수다\n",
    "\n",
    "addr = enumerate(['홍길동','임꺽정',3.14,1000,True])\n",
    "print(addr)\n",
    "\n",
    "for i,v in addr:\n",
    "    print(i,' ',v)\n",
    "    \n",
    "addr = enumerate(['홍길동','임꺽정',3.14,1000,True],start=100)\n",
    "\n",
    "for i,v in addr:\n",
    "    print(i,' ',v)"
   ]
  },
  {
   "cell_type": "code",
   "execution_count": 13,
   "metadata": {},
   "outputs": [
    {
     "name": "stdout",
     "output_type": "stream",
     "text": [
      "3+4\n",
      "7\n",
      "7\n",
      "[12, 22, 32, 42, 52]\n",
      "수식을 입력하시오3+5\n",
      "결과 : 8\n"
     ]
    }
   ],
   "source": [
    "#eval(exprastion)  표현식을 파이썬에서 실행 가능하게 만들어주는 역활\n",
    "def calc(x):\n",
    "    return x+2\n",
    "print(\"3+4\")\n",
    "print(eval(\"3+4\"))\n",
    "print(int(\"3\")+int(4))\n",
    "\n",
    "data=[10,20,30,40,50]\n",
    "b=[]\n",
    "for i in data:\n",
    "    a = calc(i)\n",
    "    b.append(a)\n",
    "print(b)\n",
    "eval_test=input(\"수식을 입력하시오\")\n",
    "print(\"결과 :\",eval(eval_test))"
   ]
  },
  {
   "cell_type": "code",
   "execution_count": 19,
   "metadata": {},
   "outputs": [
    {
     "name": "stdout",
     "output_type": "stream",
     "text": [
      "<map object at 0x0000000007EB2A88>\n",
      "12\n",
      "22\n",
      "32\n",
      "42\n",
      "52\n",
      "[12, 22, 32, 42, 52]\n"
     ]
    }
   ],
   "source": [
    "#map() 리스트에 map을 사용해보겠습니다. map은 리스트의 요소를 지정된 함수로 처리해주는 함수입니다\n",
    "\n",
    "print(map(calc,data))\n",
    "for i in map(calc,data):\n",
    "    print(i)\n",
    "print(list(map(calc,data)))"
   ]
  },
  {
   "cell_type": "code",
   "execution_count": 28,
   "metadata": {},
   "outputs": [
    {
     "name": "stdout",
     "output_type": "stream",
     "text": [
      "<zip object at 0x0000000007F59E08>\n",
      "a1 a2 a3\n",
      "b1 b2 b3\n",
      "c1 c2 c3\n",
      "[('a1', 'a2', 'a3'), ('b1', 'b2', 'b3'), ('c1', 'c2', 'c3')]\n",
      "0 ('a1', 'a2', 'a3')\n",
      "1 ('b1', 'b2', 'b3')\n",
      "2 ('c1', 'c2', 'c3')\n"
     ]
    }
   ],
   "source": [
    "#zip(literally)  동일한 갯수로 이루어진 자료형을 묶어주는 역활\n",
    "\n",
    "a=['a1','b1','c1']\n",
    "b=['a2','b2','c2']\n",
    "c=['a3','b3','c3','d3']\n",
    "print(zip(a,b,c))\n",
    "\n",
    "for v,w,z in zip(a,b,c):\n",
    "    print(v,w,z)\n",
    "\n",
    "print(list(zip(a,b,c)))\n",
    "\n",
    "for v,w in enumerate(zip(a,b,c)):\n",
    "    print(v,w)"
   ]
  },
  {
   "cell_type": "markdown",
   "metadata": {},
   "source": [
    "# 외장 함수\n",
    "    \n",
    "    import 파일명\n",
    "    "
   ]
  },
  {
   "cell_type": "code",
   "execution_count": 29,
   "metadata": {},
   "outputs": [
    {
     "data": {
      "text/plain": [
       "['__doc__',\n",
       " '__loader__',\n",
       " '__name__',\n",
       " '__package__',\n",
       " '__spec__',\n",
       " 'acos',\n",
       " 'acosh',\n",
       " 'asin',\n",
       " 'asinh',\n",
       " 'atan',\n",
       " 'atan2',\n",
       " 'atanh',\n",
       " 'ceil',\n",
       " 'copysign',\n",
       " 'cos',\n",
       " 'cosh',\n",
       " 'degrees',\n",
       " 'e',\n",
       " 'erf',\n",
       " 'erfc',\n",
       " 'exp',\n",
       " 'expm1',\n",
       " 'fabs',\n",
       " 'factorial',\n",
       " 'floor',\n",
       " 'fmod',\n",
       " 'frexp',\n",
       " 'fsum',\n",
       " 'gamma',\n",
       " 'gcd',\n",
       " 'hypot',\n",
       " 'inf',\n",
       " 'isclose',\n",
       " 'isfinite',\n",
       " 'isinf',\n",
       " 'isnan',\n",
       " 'ldexp',\n",
       " 'lgamma',\n",
       " 'log',\n",
       " 'log10',\n",
       " 'log1p',\n",
       " 'log2',\n",
       " 'modf',\n",
       " 'nan',\n",
       " 'pi',\n",
       " 'pow',\n",
       " 'radians',\n",
       " 'remainder',\n",
       " 'sin',\n",
       " 'sinh',\n",
       " 'sqrt',\n",
       " 'tan',\n",
       " 'tanh',\n",
       " 'tau',\n",
       " 'trunc']"
      ]
     },
     "execution_count": 29,
     "metadata": {},
     "output_type": "execute_result"
    }
   ],
   "source": [
    "import math\n",
    "\n",
    "dir(math)"
   ]
  },
  {
   "cell_type": "markdown",
   "metadata": {},
   "source": [
    "# 날짜형 함수"
   ]
  },
  {
   "cell_type": "code",
   "execution_count": 51,
   "metadata": {},
   "outputs": [
    {
     "data": {
      "text/plain": [
       "['MAXYEAR',\n",
       " 'MINYEAR',\n",
       " '__builtins__',\n",
       " '__cached__',\n",
       " '__doc__',\n",
       " '__file__',\n",
       " '__loader__',\n",
       " '__name__',\n",
       " '__package__',\n",
       " '__spec__',\n",
       " 'date',\n",
       " 'datetime',\n",
       " 'datetime_CAPI',\n",
       " 'sys',\n",
       " 'time',\n",
       " 'timedelta',\n",
       " 'timezone',\n",
       " 'tzinfo']"
      ]
     },
     "execution_count": 51,
     "metadata": {},
     "output_type": "execute_result"
    }
   ],
   "source": [
    "import datetime\n",
    "\n",
    "dir(datetime)"
   ]
  },
  {
   "cell_type": "code",
   "execution_count": 54,
   "metadata": {},
   "outputs": [
    {
     "name": "stdout",
     "output_type": "stream",
     "text": [
      "2019-12-11\n",
      "2019 12 11\n",
      "2019-12-11 11:54:30.702199\n",
      "2019-12-10\n",
      "11/12/2019\n",
      "2019-12-11 11:54:30\n",
      "<class 'str'>\n",
      "<class 'str'>\n",
      "<class 'datetime.datetime'>\n"
     ]
    }
   ],
   "source": [
    "#현제날짜\n",
    "\n",
    "today=datetime.date.today()\n",
    "print(today)\n",
    "\n",
    "print(today.year,today.month,today.day)\n",
    "\n",
    "#현제시간\n",
    "\n",
    "timenow=datetime.datetime.today()\n",
    "print(timenow)\n",
    "\n",
    "#날짜 혹은 시간 연산\n",
    "\n",
    "s = datetime.timedelta(days=-1) #날짜를 숫자처럼\n",
    "print(today+s)\n",
    "\n",
    "#날짜 형식\n",
    "print(today.strftime(\"%d/%m/%Y\"))\n",
    "\n",
    "#시간 형식\n",
    "print(timenow.strftime(\"%Y-%m-%d %H:%M:%S\"))\n",
    "\n",
    "#날짜 형식 변환 : strftime() 날짜를 문자열로 , strptime(): 문자열을 날짜로\n",
    "d=timenow.strftime(\"%Y-%m-%d %H:%M:%S\")\n",
    "print(type(d))\n",
    "\n",
    "date1time=\"2019-12-11 11:48:50\"\n",
    "print(type(date1time))\n",
    "d2=datetime.datetime.strptime(date1time,\"%Y-%m-%d %H:%M:%S\")\n",
    "print(type(d2))"
   ]
  },
  {
   "cell_type": "markdown",
   "metadata": {},
   "source": [
    "# 명령형 인자(Command Line Argument)\n",
    "    \n",
    "    프로그램이 실행할 때 다양한 목적으로 사용할수 있도록 해주는 인자\n",
    "    "
   ]
  },
  {
   "cell_type": "code",
   "execution_count": null,
   "metadata": {},
   "outputs": [],
   "source": [
    "import sys\n",
    "\n",
    "#print(sys.argv[0])\n",
    "#print(sys.argv[1])\n",
    "\n",
    "#for arg in sys.argv:\n",
    "#    print(arg)\n",
    "\n",
    "print(*sys.argv[1:])"
   ]
  },
  {
   "cell_type": "code",
   "execution_count": 56,
   "metadata": {},
   "outputs": [
    {
     "name": "stdout",
     "output_type": "stream",
     "text": [
      "['C:\\\\Users\\\\acorn\\\\ProjectFileKim\\\\pythonwork\\\\Basic', 'C:\\\\Users\\\\acorn\\\\Anaconda3\\\\python37.zip', 'C:\\\\Users\\\\acorn\\\\Anaconda3\\\\DLLs', 'C:\\\\Users\\\\acorn\\\\Anaconda3\\\\lib', 'C:\\\\Users\\\\acorn\\\\Anaconda3', '', 'C:\\\\Users\\\\acorn\\\\Anaconda3\\\\lib\\\\site-packages', 'C:\\\\Users\\\\acorn\\\\Anaconda3\\\\lib\\\\site-packages\\\\win32', 'C:\\\\Users\\\\acorn\\\\Anaconda3\\\\lib\\\\site-packages\\\\win32\\\\lib', 'C:\\\\Users\\\\acorn\\\\Anaconda3\\\\lib\\\\site-packages\\\\Pythonwin', 'C:\\\\Users\\\\acorn\\\\Anaconda3\\\\lib\\\\site-packages\\\\IPython\\\\extensions', 'C:\\\\Users\\\\acorn\\\\.ipython']\n",
      "win32\n",
      "3.7.4 (default, Aug  9 2019, 18:34:13) [MSC v.1915 64 bit (AMD64)]\n"
     ]
    }
   ],
   "source": [
    "import sys\n",
    "\n",
    "print(sys.path)\n",
    "print(sys.platform)\n",
    "print(sys.version)"
   ]
  },
  {
   "cell_type": "code",
   "execution_count": 59,
   "metadata": {},
   "outputs": [
    {
     "name": "stdout",
     "output_type": "stream",
     "text": [
      "C:\\Users\\acorn\\ProjectFileKim\\pythonwork\\Basic\n",
      "0\n"
     ]
    }
   ],
   "source": [
    "import os\n",
    "\n",
    "print(os.getcwd())\n",
    "print(os.system('dir'))"
   ]
  },
  {
   "cell_type": "code",
   "execution_count": null,
   "metadata": {},
   "outputs": [],
   "source": [
    "import os\n",
    "\n",
    "os.system(\"dir\")\n",
    "\n",
    "cmd = input(\"화면을 지우시겠습니까(y/n) \")\n",
    "\n",
    "if cmd == \"y\":\n",
    "    os.system(\"cls\")"
   ]
  },
  {
   "cell_type": "markdown",
   "metadata": {},
   "source": [
    "# 파일처리 함수\n",
    "    \n",
    "    -open(파일명(경로 포함),모드) : 파일을 로드\n",
    "        -모드 : r(read), w(write), a(append), rb(read byte), wb, ab\n",
    "        \n",
    "    -close() : 메모리에 로드된 파일을 없에는데에 사용 / 파일을 언로드 - 인자가 없는 호출방식\n",
    "    \n",
    "    -파일을 읽어올때 : readline(),readlines(),read()\n",
    "    -저장할 때 : write()"
   ]
  },
  {
   "cell_type": "code",
   "execution_count": 62,
   "metadata": {},
   "outputs": [
    {
     "name": "stdout",
     "output_type": "stream",
     "text": [
      "<_io.TextIOWrapper name='C:\\\\Users\\\\acorn\\\\ProjectFileKim\\\\pythonwork\\\\fileTest.txt' mode='r' encoding='cp949'>\n",
      "abcdefg\n",
      "\n",
      "hijklmn\n",
      "\n",
      "opqrstu\n",
      "\n",
      "가나다라\n",
      "\n",
      "마바사아\n",
      "\n",
      "자차카타\n"
     ]
    }
   ],
   "source": [
    "#내장함수 (기본)\n",
    "f=open(\"C:\\\\Users\\\\acorn\\\\ProjectFileKim\\\\pythonwork\\\\fileTest.txt\",'r')\n",
    "print(f)\n",
    "\n",
    "print(f.readline())\n",
    "print(f.readline())\n",
    "print(f.readline())\n",
    "print(f.readline())\n",
    "print(f.readline())\n",
    "print(f.readline())\n",
    "\n",
    "f.close()"
   ]
  },
  {
   "cell_type": "code",
   "execution_count": 66,
   "metadata": {},
   "outputs": [
    {
     "name": "stdout",
     "output_type": "stream",
     "text": [
      "<_io.TextIOWrapper name='..\\\\Basic\\\\data\\\\fileTest.txt' mode='r' encoding='cp949'>\n"
     ]
    }
   ],
   "source": [
    "f=open(\"..\\\\Basic\\\\data\\\\fileTest.txt\",'r') # 절대경로(나의 위치와 상관없이 읽어오는 위치가 같음)\n",
    "print(f)"
   ]
  },
  {
   "cell_type": "code",
   "execution_count": 71,
   "metadata": {},
   "outputs": [
    {
     "name": "stdout",
     "output_type": "stream",
     "text": [
      "abcdefg\n",
      "hijklmn\n",
      "opqrstu\n",
      "가나다라\n",
      "마바사아\n",
      "자차카타<class 'str'>\n"
     ]
    }
   ],
   "source": [
    "f=open(\"data\\\\fileTest.txt\",'r')\n",
    "\n",
    "while True:\n",
    "    line=f.readline()\n",
    "    \n",
    "    if not line:\n",
    "        break\n",
    "    \n",
    "    print(line,end=\"\")\n",
    "f.close()\n",
    "\n",
    "print(type(line))"
   ]
  },
  {
   "cell_type": "code",
   "execution_count": 72,
   "metadata": {},
   "outputs": [
    {
     "name": "stdout",
     "output_type": "stream",
     "text": [
      "['abcdefg\\n', 'hijklmn\\n', 'opqrstu\\n', '가나다라\\n', '마바사아\\n', '자차카타']\n"
     ]
    }
   ],
   "source": [
    "#readlines : 모든 행을 한꺼번에 묶어서 각각의 행을 요소로 갇는 리스트형으로 리턴\n",
    "\n",
    "f=open(\"data\\\\fileTest.txt\",'r')\n",
    "\n",
    "lines=f.readlines()\n",
    "print(lines)\n",
    "f.close()\n"
   ]
  },
  {
   "cell_type": "code",
   "execution_count": 85,
   "metadata": {},
   "outputs": [
    {
     "name": "stdout",
     "output_type": "stream",
     "text": [
      "abcdefg\n",
      "hijklmn\n",
      "opqrstu\n",
      "가나다라\n",
      "마바사아\n",
      "자차카타\n",
      "<class 'str'>\n",
      "----------\n",
      "abcdefg\n",
      "hijklmn\n",
      "0 abcdefg\n",
      "1 hijklmn\n",
      "2 opqrstu\n",
      "3 가나다라\n",
      "4 마바사아\n",
      "5 자차카타\n"
     ]
    }
   ],
   "source": [
    "#read : 모든 데이터를 한꺼번에 가져오는 함수 문자열로 리턴\n",
    "\n",
    "f=open(\"data\\\\fileTest.txt\",'r')\n",
    "\n",
    "r=f.read()\n",
    "print(r)\n",
    "\n",
    "f.close()\n",
    "print(type(r))\n",
    "\n",
    "print(\"-\"*10)\n",
    "\n",
    "lin_r=r.split(\"\\n\")\n",
    "print(lin_r[0])\n",
    "print(lin_r[1])\n",
    "\n",
    "for line in enumerate(lin_r):\n",
    "    print(*line)"
   ]
  },
  {
   "cell_type": "code",
   "execution_count": 91,
   "metadata": {},
   "outputs": [],
   "source": [
    "f=open(\"data\\\\fileTest2.txt\",'w')\n",
    "\n",
    "f.write(\"이름 : 홍길동 \")\n",
    "f.write(\"전화 : 010-111-1111 \")\n",
    "f.write(\"주소 : 서울시 강남구\\n\")\n",
    "\n",
    "f.write(\"이름 : Edward \")\n",
    "f.write(\"전화 : 010-122-2222 \")\n",
    "f.write(\"주소 : 서울시 강남구\\n\")\n",
    "\n",
    "f.close()"
   ]
  },
  {
   "cell_type": "code",
   "execution_count": 92,
   "metadata": {},
   "outputs": [],
   "source": [
    "f=open(\"data\\\\fileTest2.txt\",'a')\n",
    "\n",
    "f.write(\"이름 : 유비 \")\n",
    "f.write(\"전화 : 010-333-3333 \")\n",
    "f.write(\"주소 : 서울시 강북구\\n\")\n",
    "\n",
    "f.close()"
   ]
  },
  {
   "cell_type": "code",
   "execution_count": 108,
   "metadata": {},
   "outputs": [
    {
     "name": "stdout",
     "output_type": "stream",
     "text": [
      "<_io.TextIOWrapper name='data\\\\fileTest3.csv' mode='w' encoding='cp949'>\n"
     ]
    }
   ],
   "source": [
    "#csv (Comma Sperater Value) 파일처리\n",
    "\n",
    "nums=[1,2,3,4,5,6,7,8,9,\"숫자\",\"Comma\"]\n",
    "cnt=len(nums)\n",
    "\n",
    "# f=open(\"data\\\\fileTest3.csv\",\"w\")\n",
    "\n",
    "# for i in range(cnt):\n",
    "#     if i<cnt-1:\n",
    "#         f.write(str(nums[i])+\",\")\n",
    "#     else:\n",
    "#         f.write(str(nums[i]))\n",
    "# f.close()\n",
    "\n",
    "with open(\"data\\\\fileTest3.csv\",\"w\") as f:\n",
    "    for i in range(cnt):\n",
    "        if i<cnt-1:\n",
    "            f.write(str(nums[i])+\",\")\n",
    "        else:\n",
    "            f.write(str(nums[i]))\n",
    "print(f)"
   ]
  },
  {
   "cell_type": "markdown",
   "metadata": {},
   "source": [
    "## 파일 접근방법\n",
    "\n",
    "    1)파일 처리의 특징\n",
    "        -1. 순차처리 방식\n",
    "        -2. 예외적으로 랜덤하게 접근할수 있는 방법이 있다. seek(), tell()"
   ]
  },
  {
   "cell_type": "code",
   "execution_count": 121,
   "metadata": {},
   "outputs": [
    {
     "name": "stdout",
     "output_type": "stream",
     "text": [
      "abcdefg\n",
      "hijklmn\n",
      "opqrstu\n",
      "가나다라\n",
      "마바사아\n",
      "자차카타\n",
      "-------------------------\n",
      "\n",
      "파일 포인터 : 55\n",
      "파일 포인터 : 0\n",
      "ijklmn\n",
      "\n"
     ]
    }
   ],
   "source": [
    "with open(\"data\\\\fileTest.txt\",\"r\") as f:\n",
    "    for line in f:\n",
    "        print(line,end=\"\")\n",
    "    \n",
    "    print(\"\\n-------------------------\\n\")\n",
    "    \n",
    "    print(\"파일 포인터 :\",f.tell())\n",
    "    # seek 사용법 seek(기준위치 :  )\n",
    "    f.seek(0,0)\n",
    "    print(\"파일 포인터 :\",f.tell())\n",
    "    \n",
    "    f.seek(10,0)\n",
    "    print(f.readline())"
   ]
  },
  {
   "cell_type": "code",
   "execution_count": 123,
   "metadata": {},
   "outputs": [
    {
     "name": "stdout",
     "output_type": "stream",
     "text": [
      "['1-변수와자료형.ipynb', '2-제어문.ipynb', '3-함수 연습문제.ipynb', '3-함수.ipynb']\n"
     ]
    }
   ],
   "source": [
    "#동시의 여러개의 파일이름을 불러오는 방법\n",
    "\n",
    "import glob\n",
    "\n",
    "#files=glob.glob(\"*\") #모든파일,폴더포함\n",
    "#files=glob.glob(\"*.ipynb\")\n",
    "files=glob.glob(\"*.*\") #모든파일,폴더제외\n",
    "print(files)"
   ]
  },
  {
   "cell_type": "markdown",
   "metadata": {},
   "source": [
    "<hr style=\"background-color: rgb(0,0,0);height: 2px;\"/>"
   ]
  },
  {
   "cell_type": "markdown",
   "metadata": {},
   "source": [
    "## 재귀 함수(Recursive Function)"
   ]
  },
  {
   "cell_type": "code",
   "execution_count": 10,
   "metadata": {},
   "outputs": [
    {
     "name": "stdout",
     "output_type": "stream",
     "text": [
      "5\n",
      "4\n",
      "3\n",
      "2\n",
      "1\n",
      "0\n"
     ]
    }
   ],
   "source": [
    "#재귀 함수를 쓰는 이유 / 알고리즘 테스트하기 위해서\n",
    "def countdown(n):\n",
    "    print(n)\n",
    "    if n>0 :\n",
    "        countdown(n-1)\n",
    "    else:\n",
    "        return\n",
    "countdown(5)"
   ]
  },
  {
   "cell_type": "code",
   "execution_count": 22,
   "metadata": {},
   "outputs": [
    {
     "name": "stdout",
     "output_type": "stream",
     "text": [
      "120\n",
      "5\n",
      "4\n",
      "3\n",
      "2\n"
     ]
    },
    {
     "data": {
      "text/plain": [
       "120"
      ]
     },
     "execution_count": 22,
     "metadata": {},
     "output_type": "execute_result"
    }
   ],
   "source": [
    "def factorial_recu(n):\n",
    "    count=1\n",
    "    if n==1 :\n",
    "        return 1\n",
    "    print(n)\n",
    "    return n*factorial_recu(n-1)   \n",
    "def factorial_iter(n):\n",
    "    res=1\n",
    "    for i in range(n,1,-1):\n",
    "        res*=i\n",
    "    print(res)\n",
    "factorial_iter(5)\n",
    "factorial_recu(5)"
   ]
  },
  {
   "cell_type": "markdown",
   "metadata": {},
   "source": [
    "<hr style=\"background-color: rgb(0,0,0);height: 2px;\"/>"
   ]
  }
 ],
 "metadata": {
  "kernelspec": {
   "display_name": "Python 3",
   "language": "python",
   "name": "python3"
  },
  "language_info": {
   "codemirror_mode": {
    "name": "ipython",
    "version": 3
   },
   "file_extension": ".py",
   "mimetype": "text/x-python",
   "name": "python",
   "nbconvert_exporter": "python",
   "pygments_lexer": "ipython3",
   "version": "3.7.4"
  }
 },
 "nbformat": 4,
 "nbformat_minor": 2
}
