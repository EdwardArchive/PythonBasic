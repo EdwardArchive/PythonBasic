{
 "cells": [
  {
   "cell_type": "markdown",
   "metadata": {},
   "source": [
    "# 제어문\n",
    "\n",
    "    1) 조건문\n",
    "        if\n",
    "        \n",
    "    2) 반복문\n",
    "        while, for"
   ]
  },
  {
   "cell_type": "markdown",
   "metadata": {},
   "source": [
    "## 조건문 : if (만약 ~라면)\n",
    "\n",
    "    1) if 조건식 :\n",
    "            문장              만약 이 조건식이 참(무조건) 이라면 이 문장을 실행하라\n",
    "            문장\n",
    "            문장\n",
    "            ...\n",
    "            \n",
    "    2) if 조건식 :\n",
    "            문장\n",
    "       else :\n",
    "            문장\n",
    "            \n",
    "    3) if 조건식 :\n",
    "            문장\n",
    "       elif 조건식 :\n",
    "            문장\n",
    "       else :\n",
    "            문장"
   ]
  },
  {
   "cell_type": "code",
   "execution_count": null,
   "metadata": {},
   "outputs": [],
   "source": [
    "#입력받은 숫자가 짝수인지 구별하는 프로그램을 작성하라\n",
    "\n",
    "num=int(input(\"숫자를 입력하시요 : \"))\n",
    "if num%2==0 : print(\"짝수입니다.\")\n",
    "if num%2==1 : print(\"홀수 입니다.\")"
   ]
  },
  {
   "cell_type": "code",
   "execution_count": 1,
   "metadata": {},
   "outputs": [
    {
     "name": "stdout",
     "output_type": "stream",
     "text": [
      "숫자를 입력하시요 : 2\n",
      "짝수입니다.\n"
     ]
    }
   ],
   "source": [
    "num=int(input(\"숫자를 입력하시요 : \"))\n",
    "if num%2==0 : print(\"짝수입니다.\")\n",
    "else : print(\"홀수 입니다.\")"
   ]
  },
  {
   "cell_type": "code",
   "execution_count": 11,
   "metadata": {},
   "outputs": [
    {
     "name": "stdout",
     "output_type": "stream",
     "text": [
      "답을 입력하세요 : f\n",
      "오답\n"
     ]
    }
   ],
   "source": [
    "#입력받은 값이 a,b,c,d면 정답이라고 출력하고 그렇지 않으면 오답이라고 출력\n",
    "answer=(\"a\",\"b\",\"c\",\"d\")\n",
    "my_answer=input(\"답을 입력하세요 : \")\n",
    "if(my_answer in answer !=-1) : print(\"정답\")\n",
    "else : print(\"오답\")"
   ]
  },
  {
   "cell_type": "code",
   "execution_count": 13,
   "metadata": {},
   "outputs": [
    {
     "name": "stdout",
     "output_type": "stream",
     "text": [
      "답을 입력하세요 : c\n",
      "정답\n"
     ]
    }
   ],
   "source": [
    "answer=(\"a\",\"b\",\"c\",\"d\")\n",
    "my_answer=input(\"답을 입력하세요 : \")\n",
    "\n",
    "if answer.count(my_answer)>0 : print(\"정답\")\n",
    "else : print(\"오답\")"
   ]
  },
  {
   "cell_type": "code",
   "execution_count": 19,
   "metadata": {},
   "outputs": [
    {
     "name": "stdout",
     "output_type": "stream",
     "text": [
      "답을 입력하세요 : c\n",
      "정답\n"
     ]
    }
   ],
   "source": [
    "my_answer=input(\"답을 입력하세요 : \")\n",
    "if(my_answer>='a' and my_answer<='d'): print(\"정답\")"
   ]
  },
  {
   "cell_type": "code",
   "execution_count": 24,
   "metadata": {},
   "outputs": [
    {
     "name": "stdout",
     "output_type": "stream",
     "text": [
      "년도를 입력하시오 :2020\n",
      "윤년입니다.\n"
     ]
    }
   ],
   "source": [
    "#윤년 계산 프로그램\n",
    "#1) 기원 년수가 4로 떨어지는 해는 우선 윤년으로 한다\n",
    "#2) 그 중에서 100으로 나누어 떨어지는 해는 평년으로 한다\n",
    "#3) 다만 400으로 나누어 떨어지는 해는 다시 윤년으로 칭한다.\n",
    "\n",
    "date=int(input(\"년도를 입력하시오 :\"))\n",
    "if date%4==0 or date%4==0 and date%100==0 and date%400==0 : print(\"윤년입니다.\")\n",
    "else : print(\"윤년이 아닙니다.\")"
   ]
  },
  {
   "cell_type": "code",
   "execution_count": 25,
   "metadata": {},
   "outputs": [
    {
     "name": "stdout",
     "output_type": "stream",
     "text": [
      "당신의 학점은 C학점 입니다.\n"
     ]
    }
   ],
   "source": [
    "#다중 조건문\n",
    "avg=78\n",
    "grade=None\n",
    "\n",
    "if avg>=90: grade='A학점'\n",
    "elif avg>=80: grade='B학점'\n",
    "elif avg>=70: grade='C학점'\n",
    "elif avg>=60: grade='D학점'\n",
    "else : grade='F학점'\n",
    "print('당신의 학점은 {} 입니다.'.format(grade))"
   ]
  },
  {
   "cell_type": "code",
   "execution_count": null,
   "metadata": {},
   "outputs": [],
   "source": [
    "---\n",
    "전자 계산기 프로그램(사칙연산)\n",
    "----------------------------\n",
    "\n",
    "연산자 : '-'엔터\n",
    "숫자1 : 엔터\n",
    "숫자2 : 엔터\n",
    "    \n",
    "결과 : n1 + n2 = n\n",
    "---"
   ]
  },
  {
   "cell_type": "code",
   "execution_count": 27,
   "metadata": {},
   "outputs": [
    {
     "name": "stdout",
     "output_type": "stream",
     "text": [
      "연산자를 입력하시오 :+\n",
      "숫자를 입력하시오 :3\n",
      "숫자를 입력하시오 :5\n",
      "결과 : 3 + 5 = 8\n"
     ]
    }
   ],
   "source": [
    "calc=input(\"연산자를 입력하시오 : \")\n",
    "num1=int(input(\"숫자를 입력하시오 : \"))\n",
    "num2=int(input(\"숫자를 입력하시오 : \"))\n",
    "\n",
    "if calc=='+' : print(\"결과 : {} {} {} = {}\".format(num1,calc,num2,num1+num2))\n",
    "elif calc=='-' : print(\"결과 : {} {} {} = {}\".format(num1,calc,num2,num1-num2))\n",
    "elif calc=='/' : print(\"결과 : {} {} {} = {}\".format(num1,calc,num2,num1/num2))\n",
    "elif calc=='*' : print(\"결과 : {} {} {} = {}\".format(num1,calc,num2,num1*num2))"
   ]
  },
  {
   "cell_type": "markdown",
   "metadata": {},
   "source": [
    "### 조건문의 중첩(Nested)\n",
    "\n",
    "    if 조건식:\n",
    "        문장\n",
    "        ...\n",
    "        if 조건식:\n",
    "            문장\n",
    "            ...\n",
    "    else:\n",
    "        문장\n",
    "        if 조건식:\n",
    "            문장\n",
    "            ...\n"
   ]
  },
  {
   "cell_type": "code",
   "execution_count": 29,
   "metadata": {},
   "outputs": [
    {
     "name": "stdout",
     "output_type": "stream",
     "text": [
      "가장 큰값은 c입니다.\n"
     ]
    }
   ],
   "source": [
    "a,b,c=10,20,30\n",
    "\n",
    "if a>b :\n",
    "    if a>c :print(\"가장 큰값은 a입니다.\")\n",
    "    else : print(\"가장 큰값은 c입니다.\")\n",
    "else :\n",
    "    if b>c : print(\"가장 큰값은 b입니다.\")\n",
    "    else : print(\"가장 큰값은 c입니다.\")"
   ]
  },
  {
   "cell_type": "code",
   "execution_count": 31,
   "metadata": {},
   "outputs": [
    {
     "name": "stdout",
     "output_type": "stream",
     "text": [
      "ID : ㅇㄴㅇ\n",
      "PW : 432\n",
      "없는 정보입니다.\n"
     ]
    }
   ],
   "source": [
    "# 아이디는 tom 패스워드는 1234\n",
    "input_id=input(\"ID : \")\n",
    "input_pw=input(\"PW : \")\n",
    "if(input_id=='tom'):\n",
    "    if(input_pw=='1234'):\n",
    "        print(\"로그인에 성공하셧습니다!\")\n",
    "    else :\n",
    "        print(\"비밀번호가 틀리셧습니다.\")\n",
    "else :\n",
    "    if input_pw=='1234':\n",
    "        print(\"아이디가 틀리셧습니다.\")\n",
    "    else :\n",
    "        print(\"없는 정보입니다.\")"
   ]
  },
  {
   "cell_type": "code",
   "execution_count": 36,
   "metadata": {},
   "outputs": [
    {
     "name": "stdout",
     "output_type": "stream",
     "text": [
      "0\n"
     ]
    }
   ],
   "source": [
    "#가위 바위 보 게임 프로그램\n",
    "\"\"\"\n",
    "가위, 바위, 보 중에서 하나를 선택 : 바위(엔터)\n",
    "결과 : 사용자가 이겼습니다. / 졌습니다.\n",
    "\"\"\"\n",
    "\n",
    "import random\n",
    "\n",
    "print(random.randint(0,10)) #0~10사의 값을 임의로 추출"
   ]
  },
  {
   "cell_type": "code",
   "execution_count": 37,
   "metadata": {},
   "outputs": [
    {
     "name": "stdout",
     "output_type": "stream",
     "text": [
      "가위 바위 보! :가위\n",
      "Computer Win!! \n",
      "User : 가위 : Computer : 바위\n"
     ]
    }
   ],
   "source": [
    "import random\n",
    "com=random.randint(0,2)\n",
    "rsp=['가위','바위','보']\n",
    "user=input(\"가위 바위 보! :\")\n",
    "\n",
    "if user==rsp[com] :\n",
    "    print(\"Draw!!\\nUser : {} : Computer : {}\".format(user,rsp[com]))\n",
    "\n",
    "elif user=='가위' and rsp[com]=='보' or user==' 바위' and rsp[com]=='가위' or user=='보' and rsp[com]=='바위' :\n",
    "    print(\"User Win!! \\nUser : {} : Computer : {}\".format(user,rsp[com]))\n",
    "else :\n",
    "    print(\"Computer Win!! \\nUser : {} : Computer : {}\".format(user,rsp[com]))\n"
   ]
  },
  {
   "cell_type": "markdown",
   "metadata": {},
   "source": [
    "## 반복분 : while\n",
    "    \n",
    "    while 조건식 :\n",
    "        문장"
   ]
  },
  {
   "cell_type": "code",
   "execution_count": 42,
   "metadata": {},
   "outputs": [
    {
     "name": "stdout",
     "output_type": "stream",
     "text": [
      "**********\n",
      "**********\n",
      "* * * * * * * * * * "
     ]
    }
   ],
   "source": [
    "print(\"**********\")\n",
    "print(\"*\"*10)\n",
    "count=0;\n",
    "while count<10 :\n",
    "    print(\"*\",end=\" \")\n",
    "    count+=1"
   ]
  },
  {
   "cell_type": "code",
   "execution_count": 43,
   "metadata": {},
   "outputs": [
    {
     "name": "stdout",
     "output_type": "stream",
     "text": [
      "55\n"
     ]
    }
   ],
   "source": [
    "# 1~10까지 합계\n",
    "count=1\n",
    "num_sum=0\n",
    "while count<=10 :\n",
    "    num_sum+=count\n",
    "    count+=1\n",
    "print(num_sum)"
   ]
  },
  {
   "cell_type": "code",
   "execution_count": 45,
   "metadata": {},
   "outputs": [
    {
     "name": "stdout",
     "output_type": "stream",
     "text": [
      "1024\n"
     ]
    }
   ],
   "source": [
    "#2의 10승\n",
    "count=1\n",
    "num_sum=2\n",
    "while count<10 :\n",
    "    num_sum*=2\n",
    "    count+=1\n",
    "print(num_sum)"
   ]
  },
  {
   "cell_type": "markdown",
   "metadata": {},
   "source": [
    "## 반복문 : for\n",
    "    \n",
    "    for 변수 in 집합자료형 :\n",
    "        문장\n",
    "        문장\n",
    "        ..."
   ]
  },
  {
   "cell_type": "code",
   "execution_count": 52,
   "metadata": {},
   "outputs": [
    {
     "name": "stdout",
     "output_type": "stream",
     "text": [
      "10 20 홍길동 3.14 True \n",
      "1 2 3 4 5 6 7 8 9 10 "
     ]
    }
   ],
   "source": [
    "l=[10,20,'홍길동',3.14,True]\n",
    "for i in l :\n",
    "    print(i,end=\" \")\n",
    "print(\"\")\n",
    "for i in range(1,11) :\n",
    "    print(i,end=\" \")"
   ]
  },
  {
   "cell_type": "code",
   "execution_count": 53,
   "metadata": {},
   "outputs": [
    {
     "name": "stdout",
     "output_type": "stream",
     "text": [
      "* * * * * * * * * * "
     ]
    }
   ],
   "source": [
    "for i in range(0,10) :\n",
    "    print(\"*\",end=\" \")"
   ]
  },
  {
   "cell_type": "code",
   "execution_count": 56,
   "metadata": {},
   "outputs": [
    {
     "name": "stdout",
     "output_type": "stream",
     "text": [
      "55\n",
      "1024\n"
     ]
    }
   ],
   "source": [
    "data=0\n",
    "for i in range(1,11) :\n",
    "    data+=i\n",
    "print(data)\n",
    "\n",
    "num=1\n",
    "for i in range(0,10) :\n",
    "    num*=2\n",
    "print(num)"
   ]
  },
  {
   "cell_type": "markdown",
   "metadata": {},
   "source": [
    "\n",
    "## 강제종료\n",
    "\n",
    "    * break 완전종료\n",
    "    * continue 일시종료"
   ]
  },
  {
   "cell_type": "code",
   "execution_count": 60,
   "metadata": {},
   "outputs": [
    {
     "name": "stdout",
     "output_type": "stream",
     "text": [
      "0\n",
      "1\n",
      "2\n",
      "3\n",
      "4\n",
      "6\n",
      "7\n",
      "8\n",
      "9\n"
     ]
    }
   ],
   "source": [
    "for i in range(10):\n",
    "    if i==5 :\n",
    "        continue\n",
    "    print(i)"
   ]
  },
  {
   "cell_type": "code",
   "execution_count": 61,
   "metadata": {},
   "outputs": [
    {
     "name": "stdout",
     "output_type": "stream",
     "text": [
      "연산자를 입력하시오 : +\n",
      "숫자를 입력하시오 : 5\n",
      "숫자를 입력하시오 : 3\n",
      "결과 : 5 + 3 = 8\n",
      "연산자를 입력하시오 : x\n"
     ]
    }
   ],
   "source": [
    "while(True) :\n",
    "    calc=input(\"연산자를 입력하시오 : \")\n",
    "    if(calc=='x'):\n",
    "        break\n",
    "    num1=int(input(\"숫자를 입력하시오 : \"))\n",
    "    num2=int(input(\"숫자를 입력하시오 : \"))\n",
    "\n",
    "    if calc=='+' : print(\"결과 : {} {} {} = {}\".format(num1,calc,num2,num1+num2))\n",
    "    elif calc=='-' : print(\"결과 : {} {} {} = {}\".format(num1,calc,num2,num1-num2))\n",
    "    elif calc=='/' : print(\"결과 : {} {} {} = {}\".format(num1,calc,num2,num1/num2))\n",
    "    elif calc=='*' : print(\"결과 : {} {} {} = {}\".format(num1,calc,num2,num1*num2))\n"
   ]
  },
  {
   "cell_type": "code",
   "execution_count": 5,
   "metadata": {},
   "outputs": [
    {
     "name": "stdout",
     "output_type": "stream",
     "text": [
      "가위 바위 보! :가위\n",
      "User Win!!\tUser : 가위 : Computer : 보\n",
      "가위 바위 보! :가위\n",
      "User Win!!\tUser : 가위 : Computer : 보\n",
      "가위 바위 보! :가위\n",
      "Draw!!\tUser : 가위 : Computer : 가위\n",
      "가위 바위 보! :가위\n",
      "Computer Win!!\tUser : 가위 : Computer : 바위\n",
      "가위 바위 보! :가위\n",
      "Computer Win!!\tUser : 가위 : Computer : 바위\n",
      "가위 바위 보! :가위\n",
      "Computer Win!!\tUser : 가위 : Computer : 바위\n",
      "가위 바위 보! :가위\n",
      "User Win!!\tUser : 가위 : Computer : 보\n",
      "가위 바위 보! :가위\n",
      "Computer Win!!\tUser : 가위 : Computer : 바위\n",
      "가위 바위 보! :x\n",
      "3승 4패\n"
     ]
    }
   ],
   "source": [
    "import random\n",
    "com_win,user_win=0,0\n",
    "while(True):\n",
    "    com=random.randint(0,2)\n",
    "    rsp=['가위','바위','보']\n",
    "    user=input(\"가위 바위 보! :\")\n",
    "    if user=='q' or user=='x':\n",
    "        break\n",
    "    if user==rsp[com] :\n",
    "        print(\"Draw!!\\tUser : {} : Computer : {}\".format(user,rsp[com]))\n",
    "    elif user=='가위' and rsp[com]=='보' or user==' 바위' and rsp[com]=='가위' or user=='보' and rsp[com]=='바위' :\n",
    "        print(\"User Win!!\\tUser : {} : Computer : {}\".format(user,rsp[com]))\n",
    "        user_win+=1\n",
    "    elif user in rsp :\n",
    "        print(\"Computer Win!!\\tUser : {} : Computer : {}\".format(user,rsp[com]))\n",
    "        com_win+=1\n",
    "    else : \n",
    "        print(\"틀린입력 다시입력하세요!\")\n",
    "print(\"{}승 {}패\".format(user_win,com_win))"
   ]
  },
  {
   "cell_type": "code",
   "execution_count": null,
   "metadata": {},
   "outputs": [],
   "source": [
    "---\n",
    "\n",
    "친구 관리 프로그렘\n",
    "=================\n",
    "\n",
    "1.친구 리스트 출력\n",
    "2.친구 추가\n",
    "3.친구 삭제\n",
    "4.이름 변경\n",
    "5.종료\n",
    "-----------------"
   ]
  },
  {
   "cell_type": "code",
   "execution_count": 2,
   "metadata": {},
   "outputs": [
    {
     "name": "stdout",
     "output_type": "stream",
     "text": [
      "\n",
      " 친구 관리 프로그램\n",
      "\n",
      "====================\n",
      "1.친구 리스트 출력\n",
      "2.친구 추가\n",
      "3.친구 삭제\n",
      "4.이름변경\n",
      "5.종료\n",
      "====================\n",
      "메뉴를 선택하세요 :1\n",
      "\n",
      "리스트가 비어있습니다.\n",
      "\n",
      " 친구 관리 프로그램\n",
      "\n",
      "====================\n",
      "1.친구 리스트 출력\n",
      "2.친구 추가\n",
      "3.친구 삭제\n",
      "4.이름변경\n",
      "5.종료\n",
      "====================\n",
      "메뉴를 선택하세요 :2\n",
      "\n",
      "추가하고 싶은 이름을 입력하세요 : abc\n",
      "\n",
      " 친구 관리 프로그램\n",
      "\n",
      "====================\n",
      "1.친구 리스트 출력\n",
      "2.친구 추가\n",
      "3.친구 삭제\n",
      "4.이름변경\n",
      "5.종료\n",
      "====================\n",
      "메뉴를 선택하세요 :bbc\n",
      "\n",
      "잘못된 메뉴 선택입니다.\n",
      "\n",
      " 친구 관리 프로그램\n",
      "\n",
      "====================\n",
      "1.친구 리스트 출력\n",
      "2.친구 추가\n",
      "3.친구 삭제\n",
      "4.이름변경\n",
      "5.종료\n",
      "====================\n",
      "메뉴를 선택하세요 :2\n",
      "\n",
      "추가하고 싶은 이름을 입력하세요 : bfg\n",
      "\n",
      " 친구 관리 프로그램\n",
      "\n",
      "====================\n",
      "1.친구 리스트 출력\n",
      "2.친구 추가\n",
      "3.친구 삭제\n",
      "4.이름변경\n",
      "5.종료\n",
      "====================\n",
      "메뉴를 선택하세요 :2\n",
      "\n",
      "추가하고 싶은 이름을 입력하세요 : kfc\n",
      "\n",
      " 친구 관리 프로그램\n",
      "\n",
      "====================\n",
      "1.친구 리스트 출력\n",
      "2.친구 추가\n",
      "3.친구 삭제\n",
      "4.이름변경\n",
      "5.종료\n",
      "====================\n",
      "메뉴를 선택하세요 :1\n",
      "['abc', 'bfg', 'kfc']\n",
      "\n",
      " 친구 관리 프로그램\n",
      "\n",
      "====================\n",
      "1.친구 리스트 출력\n",
      "2.친구 추가\n",
      "3.친구 삭제\n",
      "4.이름변경\n",
      "5.종료\n",
      "====================\n",
      "메뉴를 선택하세요 :5\n"
     ]
    }
   ],
   "source": [
    "list_frends=list()\n",
    "while(True):\n",
    "    print(\"\\n 친구 관리 프로그램\\n\")\n",
    "    print(\"=\"*20)\n",
    "    print(\"1.친구 리스트 출력\")\n",
    "    print(\"2.친구 추가\")\n",
    "    print(\"3.친구 삭제\")\n",
    "    print(\"4.이름변경\")\n",
    "    print(\"9.종료\")\n",
    "    print(\"=\"*20)\n",
    "    select=input(\"메뉴를 선택하세요 :\")\n",
    "    if select=='1' :\n",
    "        if(len(list_frends)==0):\n",
    "            print(\"\\n리스트가 비어있습니다.\")\n",
    "        else :\n",
    "            print(list_frends)\n",
    "    elif select=='2':\n",
    "        add=input(\"\\n추가하고 싶은 이름을 입력하세요 : \")\n",
    "        list_frends.append(add)\n",
    "    elif select=='3':\n",
    "        del_name=input(\"\\n삭제하고 싶은 이름을 입력하세요 : \")\n",
    "        if del_name in list_frends :\n",
    "            list_frends.remove(add)\n",
    "        else :\n",
    "            print(\"\\n리스트에 해당하는 이름이 없습니다.\")\n",
    "    elif select=='4':\n",
    "        name=input(\"\\n변경하고 싶은 이름을 입력하세요 : \")\n",
    "        if name in list_frends :\n",
    "            change=input(\"변경할 이름을 입력하세요 : \")\n",
    "            list_frends[list_frends.index(name)]=change\n",
    "        else :\n",
    "            print(\"\\n리스트에 해당하는 이름이 없습니다.\")\n",
    "    elif select=='9':\n",
    "        break\n",
    "    else :\n",
    "        print(\"\\n잘못된 메뉴 선택입니다.\")"
   ]
  },
  {
   "cell_type": "code",
   "execution_count": null,
   "metadata": {},
   "outputs": [],
   "source": [
    "---\n",
    "팩토리열 계산\n",
    "============\n",
    "\n",
    "정수를 입력 : 5(엔터)\n",
    "---\n"
   ]
  },
  {
   "cell_type": "code",
   "execution_count": 7,
   "metadata": {},
   "outputs": [
    {
     "name": "stdout",
     "output_type": "stream",
     "text": [
      "정수를 입력하세요 : 7\n",
      "7!의 답은 : 5040 입니다\n"
     ]
    }
   ],
   "source": [
    "n=int(input(\"정수를 입력하세요 : \"))\n",
    "result=1\n",
    "for i in range(n,1,-1) :\n",
    "    result*=i\n",
    "print(\"{}!의 답은 : {} 입니다\".format(n,result))"
   ]
  },
  {
   "cell_type": "code",
   "execution_count": 8,
   "metadata": {},
   "outputs": [
    {
     "name": "stdout",
     "output_type": "stream",
     "text": [
      "숫자를 입력하세요 : 123456789\n",
      "결과는 45입니다\n"
     ]
    }
   ],
   "source": [
    "n=input(\"숫자를 입력하세요 : \")\n",
    "total=0\n",
    "for i in n :\n",
    "    total+=int(i)\n",
    "print(\"결과는 {}입니다\".format(total))"
   ]
  },
  {
   "cell_type": "code",
   "execution_count": 2,
   "metadata": {},
   "outputs": [
    {
     "name": "stdout",
     "output_type": "stream",
     "text": [
      "1부터 100사이의 숫자를 맞추시오\n",
      "숫자 입력: 90\n",
      "큽니다!!\n",
      "숫자 입력: 60\n",
      "작습니다!!\n",
      "숫자 입력: 80\n",
      "매우 가깝습니다!!\n",
      "숫자 입력: 82\n",
      "가깝습니다!!\n",
      "숫자 입력: 78\n",
      "매우 가깝습니다!!\n",
      "숫자 입력: 77\n",
      "매우 가깝습니다!!\n",
      "숫자 입력: 76\n",
      "가깝습니다!!\n",
      "숫자 입력: 79\n",
      "정답입니다!-시도횟수2번\n"
     ]
    }
   ],
   "source": [
    "import random\n",
    "rand_num=random.randint(1,100)\n",
    "print(\"1부터 100사이의 숫자를 맞추시오\")\n",
    "count=0\n",
    "while(True):\n",
    "    n=int(input(\"숫자 입력: \"))\n",
    "    \n",
    "    if(n==rand_num) :\n",
    "        print(\"정답입니다!-시도횟수{}번\".format(count))\n",
    "        break;\n",
    "    elif(rand_num-3<n and n<rand_num+3):\n",
    "        print(\"매우 가깝습니다!!\")\n",
    "    elif(rand_num-5<n and n<rand_num+5):\n",
    "        print(\"가깝습니다!!\")\n",
    "    elif(n<rand_num) :\n",
    "        print(\"작습니다!!\")\n",
    "        count+=1\n",
    "    else :\n",
    "        print(\"큽니다!!\")\n",
    "        count+=1"
   ]
  },
  {
   "cell_type": "markdown",
   "metadata": {},
   "source": [
    "## 반복문의 중첩"
   ]
  },
  {
   "cell_type": "code",
   "execution_count": 3,
   "metadata": {},
   "outputs": [
    {
     "data": {
      "text/plain": [
       "'\\n*********\\n*********\\n*********\\n'"
      ]
     },
     "execution_count": 3,
     "metadata": {},
     "output_type": "execute_result"
    }
   ],
   "source": [
    "\"\"\"\n",
    "*********\n",
    "*********\n",
    "*********\n",
    "\"\"\""
   ]
  },
  {
   "cell_type": "code",
   "execution_count": 5,
   "metadata": {},
   "outputs": [
    {
     "name": "stdout",
     "output_type": "stream",
     "text": [
      "**********\n",
      "**********\n",
      "**********\n"
     ]
    }
   ],
   "source": [
    "for i in range(3) :\n",
    "    for j in range(10) :\n",
    "        print(\"*\",end=\"\")\n",
    "    print(\"\")"
   ]
  },
  {
   "cell_type": "code",
   "execution_count": 9,
   "metadata": {},
   "outputs": [
    {
     "name": "stdout",
     "output_type": "stream",
     "text": [
      "*\n",
      "**\n",
      "***\n",
      "****\n",
      "*****\n",
      "******\n"
     ]
    }
   ],
   "source": [
    "for i in range(1,7) :\n",
    "    for j in range(0,i) :\n",
    "        print(\"*\",end=\"\")\n",
    "    print(\"\")"
   ]
  },
  {
   "cell_type": "code",
   "execution_count": 14,
   "metadata": {},
   "outputs": [
    {
     "name": "stdout",
     "output_type": "stream",
     "text": [
      "     *\n",
      "    ***\n",
      "   *****\n",
      "  *******\n",
      " *********\n"
     ]
    }
   ],
   "source": [
    "for i in range(1,6):\n",
    "    for j in range(6,i,-1) :\n",
    "        print(\" \",end=\"\")\n",
    "    for k in range(i*2-1):\n",
    "        print(\"*\",end=\"\")\n",
    "    print()"
   ]
  },
  {
   "cell_type": "code",
   "execution_count": null,
   "metadata": {},
   "outputs": [],
   "source": []
  }
 ],
 "metadata": {
  "kernelspec": {
   "display_name": "Python 3",
   "language": "python",
   "name": "python3"
  },
  "language_info": {
   "codemirror_mode": {
    "name": "ipython",
    "version": 3
   },
   "file_extension": ".py",
   "mimetype": "text/x-python",
   "name": "python",
   "nbconvert_exporter": "python",
   "pygments_lexer": "ipython3",
   "version": "3.7.4"
  }
 },
 "nbformat": 4,
 "nbformat_minor": 2
}
