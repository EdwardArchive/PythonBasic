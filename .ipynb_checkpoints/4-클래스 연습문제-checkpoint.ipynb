{
 "cells": [
  {
   "cell_type": "markdown",
   "metadata": {},
   "source": [
    "### 전자계산기,가위바위보,친구관리"
   ]
  },
  {
   "cell_type": "code",
   "execution_count": 8,
   "metadata": {},
   "outputs": [
    {
     "name": "stdout",
     "output_type": "stream",
     "text": [
      "연산자를 입력하시오 (x:종료) : +\n",
      "숫자를 입력하시오 : 3\n",
      "숫자를 입력하시오 : 5\n",
      "결과 : 8\n",
      "연산자를 입력하시오 (x:종료) : *\n",
      "숫자를 입력하시오 : 5\n",
      "숫자를 입력하시오 : 2\n",
      "결과 : 10\n",
      "연산자를 입력하시오 (x:종료) : x\n"
     ]
    }
   ],
   "source": [
    "#전자계산기#\n",
    "class Calc:\n",
    "    def plus(self,n1,n2) : return n1+n2\n",
    "    def minus(self,n1,n2) : return n1-n2\n",
    "    def times(self,n1,n2) : return n1*n2\n",
    "    def div(self,n1,n2) : return n1/n2\n",
    "    \n",
    "class Input_hendle:\n",
    "    def __init__(self):\n",
    "        self.op_tuple=('+','-','*','/')\n",
    "        \n",
    "    def op_check(self,op):\n",
    "        if op=='x': return -1\n",
    "        elif op not in self.op_tuple: return 0\n",
    "        else:  return 1\n",
    "    \n",
    "    def int_input(self):\n",
    "        while(True):\n",
    "            try :\n",
    "                int_num=int(input(\"숫자를 입력하시오 : \"))\n",
    "                return int_num\n",
    "            except ValueError:\n",
    "                print(\"정수가 아닙니다!! 다시입력하세요!\")\n",
    "                \n",
    "while(True) :\n",
    "    Operator=input(\"연산자를 입력하시오 (x:종료) : \")\n",
    "    if Input_hendle().op_check(Operator)==-1:\n",
    "        break\n",
    "    elif Input_hendle().op_check(Operator)==0:\n",
    "        print(\"연산자를 잘못입력하셧습니다!!\")\n",
    "    else:\n",
    "        num1=Input_hendle().int_input()\n",
    "        num2=Input_hendle().int_input()\n",
    "        if Operator=='+'  : result=Calc().plus(num1,num2)\n",
    "        elif Operator=='-' : result=Calc().minus(num1,num2)\n",
    "        elif Operator=='*' : result=Calc().times(num1,num2)\n",
    "        elif Operator=='/' : result=Calc().div(num1,num2)\n",
    "        print(\"결과 :\",result)"
   ]
  },
  {
   "cell_type": "code",
   "execution_count": 12,
   "metadata": {},
   "outputs": [
    {
     "name": "stdout",
     "output_type": "stream",
     "text": [
      "가위 바위 보! :x\n",
      "0승 0패 0무\n"
     ]
    }
   ],
   "source": [
    "#가위바위보#\n",
    "import random\n",
    "class WinorLose:\n",
    "    def __init__(self):\n",
    "        self.com_win,self.user_win,self.draw=0,0,0\n",
    "    def whowin(self,user):\n",
    "        if user==rsp[com] :\n",
    "            print(\"Draw!!\\tUser : {} : Computer : {}\\n\".format(user,rsp[com])) \n",
    "            self.draw+=1\n",
    "        elif user=='가위' and rsp[com]=='보' or user==' 바위' and rsp[com]=='가위' or user=='보' and rsp[com]=='바위' :\n",
    "            print(\"User Win!!\\tUser : {} : Computer : {}\\n\".format(user,rsp[com]))\n",
    "            self.user_win+=1\n",
    "        elif user in rsp :\n",
    "            print(\"Computer Win!!\\tUser : {} : Computer : {}\\n\".format(user,rsp[com]))\n",
    "            self.com_win+=1\n",
    "            \n",
    "class Input_hendle:\n",
    "    def check(self,user):\n",
    "        if user=='q' or user=='x': return 0\n",
    "        elif user not in rsp: return -1\n",
    "\n",
    "winlose = WinorLose()\n",
    "rsp=('가위','바위','보')\n",
    "while(True):\n",
    "    com=random.randint(0,2)\n",
    "    user=input(\"가위 바위 보! :\")\n",
    "    if Input_hendle().check(user) == 0 : break;\n",
    "    elif Input_hendle().check(user) == -1: print(\"틀린입력 다시입력하세요!\")\n",
    "    else : winlose.whowin(user)    \n",
    "print(\"{}승 {}패 {}무\".format(winlose.user_win,winlose.com_win,winlose.draw))"
   ]
  },
  {
   "cell_type": "markdown",
   "metadata": {},
   "source": [
    "<hr style=\"background-color: rgb(0,0,0);height: 2px;\"/>"
   ]
  },
  {
   "cell_type": "code",
   "execution_count": null,
   "metadata": {},
   "outputs": [],
   "source": [
    "# e1 = Employee(1111, \"홍길동\", 1000000, [\"여행\", \"낚시\", \"운동\"])\n",
    "# e1.display()\n",
    "\n",
    "# 결과:\n",
    "#     사번 : 1111\n",
    "#     이름 : 홍길동\n",
    "#     급여 : 1000000\n",
    "#     취미 : 여행, 낚시, 운동\n",
    "    \n",
    "# e2 = Employee(1112, \"임꺽정\", 1200000, [\"자전거\", \"볼링\"])\n",
    "# e3 = Employee(1113, \"신돌석\", 1000000, [\"독서\"])\n",
    "\n",
    "# total = Employee.getCount()\n",
    "# print(\"총 인원수 : \", total)\n",
    "\n",
    "# e3.setSalary(2500000)\n",
    "# e3.appendHobby([\"피아노\", \"드론\"])\n",
    "# e3.display()\n",
    "\n",
    "# 결과:\n",
    "#     사번 : 1113\n",
    "#     이름 : 신돌석\n",
    "#     급여 : 2500000\n",
    "#     취미 : 독서, 피아노, 드론\n",
    "# '''"
   ]
  },
  {
   "cell_type": "code",
   "execution_count": 50,
   "metadata": {},
   "outputs": [],
   "source": [
    "class Employee:\n",
    "    \n",
    "    total_count=0\n",
    "    \n",
    "    def __init__(self,num,name,salary,hobby=[]):\n",
    "        self.num=num\n",
    "        self.name=name\n",
    "        self.salary=salary\n",
    "        self.hobby=hobby\n",
    "        Employee.total_count+=1\n",
    "        \n",
    "    def setSalary(self,n):\n",
    "        self.salary=n\n",
    "        \n",
    "    def appendHobby(self,add_hobby=[]):\n",
    "        self.hobby+=add_hobby\n",
    "        \n",
    "    def display(self):\n",
    "        print(\"\\n--------------------------------------------\")\n",
    "        print(\"결과:\")\n",
    "        print(\"\\t사번 : \",self.num)\n",
    "        print(\"\\t이름 : \",self.name)\n",
    "        print(\"\\t급여 : \",self.salary)\n",
    "        print(\"\\t취미 : \",end=\"\")\n",
    "        print(*self.hobby,sep=\",\")\n",
    "        print(\"\\n\\n--------------------------------------------\")\n",
    "    \n",
    "    @staticmethod\n",
    "    def getCount():\n",
    "        return Employee.total_count\n",
    "    \n",
    "    "
   ]
  },
  {
   "cell_type": "code",
   "execution_count": 51,
   "metadata": {},
   "outputs": [
    {
     "name": "stdout",
     "output_type": "stream",
     "text": [
      "\n",
      "--------------------------------------------\n",
      "결과:\n",
      "\t사번 :  1111\n",
      "\t이름 :  홍길동\n",
      "\t급여 :  1000000\n",
      "\t취미 : 여행,낚시,운동\n",
      "\n",
      "\n",
      "--------------------------------------------\n",
      "총 인원수 :  3\n",
      "\n",
      "--------------------------------------------\n",
      "결과:\n",
      "\t사번 :  1113\n",
      "\t이름 :  신돌석\n",
      "\t급여 :  2500000\n",
      "\t취미 : 독서,피아노,드론\n",
      "\n",
      "\n",
      "--------------------------------------------\n"
     ]
    }
   ],
   "source": [
    "e1 = Employee(1111, \"홍길동\", 1000000, [\"여행\", \"낚시\", \"운동\"])\n",
    "e1.display()\n",
    "\n",
    "\n",
    "e2 = Employee(1112, \"임꺽정\", 1200000, [\"자전거\", \"볼링\"])\n",
    "e3 = Employee(1113, \"신돌석\", 1000000, [\"독서\"])\n",
    "\n",
    "total = Employee.getCount()\n",
    "print(\"총 인원수 : \", total)\n",
    "\n",
    "\n",
    "e3.setSalary(2500000)\n",
    "e3.appendHobby([\"피아노\", \"드론\"])\n",
    "e3.display()"
   ]
  },
  {
   "cell_type": "code",
   "execution_count": null,
   "metadata": {},
   "outputs": [],
   "source": [
    "#dict 버전\n",
    "\n",
    "class Employee:\n",
    "    \n",
    "    total_count=0\n",
    "    \n",
    "    def __init__(self,num,name,salary,hobby):\n",
    "        self.num=num\n",
    "        self.name=name\n",
    "        self.salary=salary\n",
    "        self.hobby=hobby\n",
    "        Employee.total_count+=1\n",
    "        \n",
    "    def setSalary(self,n):\n",
    "        self.salary=n\n",
    "        \n",
    "    def appendHobby(self,add_hobby=[]):\n",
    "        self.hobby+=add_hobby\n",
    "        \n",
    "    def display(self):\n",
    "        print(\"\\n--------------------------------------------\")\n",
    "        print(\"결과:\")\n",
    "        print(\"\\t사번 : \",self.num)\n",
    "        print(\"\\t이름 : \",self.name)\n",
    "        print(\"\\t급여 : \",self.salary)\n",
    "        print(\"\\t취미 : \",end=\"\")\n",
    "        print(*self.hobby,sep=\",\")\n",
    "        print(\"\\n\\n--------------------------------------------\")\n",
    "    \n",
    "    @staticmethod\n",
    "    def getCount():\n",
    "        return Employee.total_count\n",
    "    "
   ]
  },
  {
   "cell_type": "code",
   "execution_count": null,
   "metadata": {},
   "outputs": [],
   "source": []
  }
 ],
 "metadata": {
  "kernelspec": {
   "display_name": "Python 3",
   "language": "python",
   "name": "python3"
  },
  "language_info": {
   "codemirror_mode": {
    "name": "ipython",
    "version": 3
   },
   "file_extension": ".py",
   "mimetype": "text/x-python",
   "name": "python",
   "nbconvert_exporter": "python",
   "pygments_lexer": "ipython3",
   "version": "3.7.4"
  }
 },
 "nbformat": 4,
 "nbformat_minor": 2
}
