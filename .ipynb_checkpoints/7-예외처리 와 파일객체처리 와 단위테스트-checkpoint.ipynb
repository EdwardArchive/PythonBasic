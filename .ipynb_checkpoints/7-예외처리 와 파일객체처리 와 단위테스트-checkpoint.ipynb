{
 "cells": [
  {
   "cell_type": "markdown",
   "metadata": {},
   "source": [
    "## 예외처리를 하는 이유\n",
    "\n",
    "    -자연스러운 예외 메세지를 출력하기 위한\n",
    "    -프로그램의 비정상적인 종료를 방지\n",
    "    \n",
    "## 문법\n",
    "\n",
    "    try:\n",
    "        코드\n",
    "        ...\n",
    "    except: [예외처리 클래스(in 변수)]:                       []생략가능\n",
    "        코드\n",
    "        ...\n",
    "     [else:\n",
    "         코드 : (예외가 발생하지 않았을 경우 실행)\n",
    "         ...\n",
    "     ]\n",
    "     \n",
    "     [finally: (예외 발생과는 무관하게 항상 실행할 코드) 반드시 실행해야 하는 코드는 return을 하더라도 실행함\n",
    "         코드\n",
    "         ...\n",
    "     ]\n",
    "\n",
    "   ### 종료 키워드\n",
    "    -break 반복종료\n",
    "    -return 함수종료\n",
    "    -sys.exit() 프로그램 종료\n",
    "  \n",
    "## Traceback\n",
    "    -오류의 위치를 추적해주는 기능\n",
    "\n",
    "## Raise\n",
    "    -일부러 예외 발생\n",
    "    -예외에 대한 테스트\n",
    "    -사용자 정의 예외처리 클래스를 작성"
   ]
  },
  {
   "cell_type": "code",
   "execution_count": 13,
   "metadata": {},
   "outputs": [
    {
     "name": "stdout",
     "output_type": "stream",
     "text": [
      "3.3333333333333335\n",
      "인덱스가 잘못되었습니다\n",
      "나머지 코드실행~~\n",
      "\n",
      "5.0\n",
      "인덱스가 잘못되었습니다\n",
      "나머지 코드실행~~\n",
      "\n",
      "0으로 나누시면 안되요!\n",
      "나머지 코드실행~~\n",
      "\n",
      "숫자만 입력하세요!!\n",
      "나머지 코드실행~~\n",
      "\n"
     ]
    }
   ],
   "source": [
    "def test(num):\n",
    "    try:\n",
    "        a=10/num\n",
    "        print(a)\n",
    "        b=[0,1,2]\n",
    "        print(b[4])\n",
    "    except ZeroDivisionError:\n",
    "        print(\"0으로 나누시면 안되요!\")\n",
    "    except IndexError:\n",
    "        print(\"인덱스가 잘못되었습니다\")\n",
    "    except TypeError:\n",
    "        print(\"숫자만 입력하세요!!\")\n",
    "    except:\n",
    "        print(\"알수없는 에러입니다\")\n",
    "    print(\"나머지 코드실행~~\\n\")\n",
    "\n",
    "###################################\n",
    "\n",
    "test(3)\n",
    "test(2)\n",
    "test(0)\n",
    "test(\"ㅇㄴㅇ\")"
   ]
  },
  {
   "cell_type": "code",
   "execution_count": 19,
   "metadata": {},
   "outputs": [
    {
     "name": "stdout",
     "output_type": "stream",
     "text": [
      "3.3333333333333335\n",
      "인덱스가 잘못되었습니다\n",
      "나머지 코드실행~~\n",
      "\n",
      "5.0\n",
      "인덱스가 잘못되었습니다\n",
      "나머지 코드실행~~\n",
      "\n",
      "0으로 나누시면 안되요!\n",
      "나머지 코드실행~~\n",
      "\n",
      "예상치 못한 에러입니다 :  unsupported operand type(s) for /: 'int' and 'str'\n",
      "나머지 코드실행~~\n",
      "\n"
     ]
    }
   ],
   "source": [
    "# 참조 변수\n",
    "def test(num):\n",
    "    try:\n",
    "        a=10/num\n",
    "        print(a)\n",
    "        b=[0,1,2]\n",
    "        print(b[4])\n",
    "    except ZeroDivisionError :\n",
    "        print(\"0으로 나누시면 안되요!\")\n",
    "    except IndexError:\n",
    "        print(\"인덱스가 잘못되었습니다\")\n",
    "    except Exception as e:\n",
    "        print(\"예상치 못한 에러입니다 : \",e)\n",
    "    print(\"나머지 코드실행~~\\n\")\n",
    "\n",
    "###################################\n",
    "\n",
    "test(3)\n",
    "test(2)\n",
    "test(0)\n",
    "test(\"ㅇㄴㅇ\")"
   ]
  },
  {
   "cell_type": "code",
   "execution_count": 4,
   "metadata": {},
   "outputs": [
    {
     "name": "stdout",
     "output_type": "stream",
     "text": [
      "3.3333333333333335\n",
      "2\n",
      "나머지 코드실행~~\n",
      "\n",
      "코드가 동작을 완료했습니다\n",
      "----------\n",
      "0으로 나누시면 안되요!\n",
      "코드가 동작을 완료했습니다\n"
     ]
    }
   ],
   "source": [
    "def test(num):\n",
    "    try:\n",
    "        a=10/num\n",
    "        print(a)\n",
    "        b=[0,1,2]\n",
    "        print(b[2])\n",
    "    except ZeroDivisionError :\n",
    "        print(\"0으로 나누시면 안되요!\")\n",
    "    except IndexError:\n",
    "        print(\"인덱스가 잘못되었습니다\")\n",
    "    except Exception as e:\n",
    "        print(\"예상치 못한 에러입니다 : \",e)\n",
    "    else:\n",
    "        print(\"나머지 코드실행~~\\n\")\n",
    "    finally:\n",
    "        print(\"코드가 동작을 완료했습니다\")\n",
    "#####################################################\n",
    "test(3)\n",
    "print(\"-\"*10)\n",
    "test(0)"
   ]
  },
  {
   "cell_type": "code",
   "execution_count": 6,
   "metadata": {},
   "outputs": [
    {
     "name": "stdout",
     "output_type": "stream",
     "text": [
      "3.3333333333333335\n",
      "2\n",
      "나머지 코드실행~~\n",
      "\n",
      "코드가 동작을 완료했습니다\n",
      "----------\n",
      "0으로 나누시면 안되요!\n",
      "코드가 동작을 완료했습니다\n"
     ]
    },
    {
     "ename": "SystemExit",
     "evalue": "",
     "output_type": "error",
     "traceback": [
      "An exception has occurred, use %tb to see the full traceback.\n",
      "\u001b[1;31mSystemExit\u001b[0m\n"
     ]
    },
    {
     "name": "stderr",
     "output_type": "stream",
     "text": [
      "C:\\Users\\acorn\\Anaconda3\\lib\\site-packages\\IPython\\core\\interactiveshell.py:3334: UserWarning: To exit: use 'exit', 'quit', or Ctrl-D.\n",
      "  warn(\"To exit: use 'exit', 'quit', or Ctrl-D.\", stacklevel=1)\n"
     ]
    }
   ],
   "source": [
    "#프로그램 자체 종류 sys\n",
    "import sys\n",
    "\n",
    "def test(num):\n",
    "    try:\n",
    "        a=10/num\n",
    "        print(a)\n",
    "        b=[0,1,2]\n",
    "        print(b[2])\n",
    "    except ZeroDivisionError :\n",
    "        print(\"0으로 나누시면 안되요!\")\n",
    "        #return\n",
    "        sys.exit()\n",
    "    except IndexError:\n",
    "        print(\"인덱스가 잘못되었습니다\")\n",
    "    except Exception as e:\n",
    "        print(\"예상치 못한 에러입니다 : \",e)\n",
    "    else:\n",
    "        print(\"나머지 코드실행~~\\n\")\n",
    "    finally:\n",
    "        print(\"코드가 동작을 완료했습니다\")\n",
    "#####################################################\n",
    "test(3)\n",
    "print(\"-\"*10)\n",
    "test(0)"
   ]
  },
  {
   "cell_type": "code",
   "execution_count": 13,
   "metadata": {},
   "outputs": [],
   "source": [
    "#p166\n",
    "def test():\n",
    "    a=10/2\n",
    "    raise ZeroDivisionError\n",
    "    print(a)<hr style=\"background-color: rgb(0,0,0);height: 2px;\"/>"
   ]
  },
  {
   "cell_type": "markdown",
   "metadata": {},
   "source": [
    "<hr style=\"background-color: rgb(0,0,0);height: 2px;\"/>"
   ]
  },
  {
   "cell_type": "markdown",
   "metadata": {},
   "source": [
    "## pickle\n",
    "    -복잡한 데이터의 직렬화, 바이트 변경해서 보냄\n",
    "    -너무 복잡한 데이터를 단순하게 처리함으로서 데이터를 잃어버리거나, 오류가 나거나 를 최소화 하기위해서 사용"
   ]
  },
  {
   "cell_type": "code",
   "execution_count": 15,
   "metadata": {},
   "outputs": [],
   "source": [
    "f = open(\"data/ftest.txt\",'w')\n",
    "f.write(\"파이썬 파일 연습 중\")\n",
    "f.write(\"\\n 파이썬 만세\")\n",
    "f.write(\"\\n 파이썬 또 만세\")\n",
    "f.close()"
   ]
  },
  {
   "cell_type": "code",
   "execution_count": 17,
   "metadata": {},
   "outputs": [
    {
     "name": "stdout",
     "output_type": "stream",
     "text": [
      "파이썬 파일 연습 중\n",
      " 파이썬 파이팅\n",
      " 파이썬 또 파이팅\n"
     ]
    }
   ],
   "source": [
    "f=open(\"data/ftest.txt\",'r')\n",
    "txt = f.read() #하나의 문자열\n",
    "txt = txt.replace('만세','파이팅')\n",
    "print(txt)\n",
    "f.close()"
   ]
  },
  {
   "cell_type": "code",
   "execution_count": 20,
   "metadata": {},
   "outputs": [],
   "source": [
    "#pickle p 183\n",
    "import pickle\n",
    "\n",
    "\n",
    "f=open(\"data/ftest2.pickle\",'wb')\n",
    "\n",
    "phones={'tom':'111-111','길동':'222-2222'}\n",
    "li=['마우스','키보드']\n",
    "t=(phones,li)\n",
    "\n",
    "pickle.dump(t,f)\n",
    "pickle.dump(li,f)\n",
    "\n",
    "f.close()"
   ]
  },
  {
   "cell_type": "code",
   "execution_count": 23,
   "metadata": {
    "scrolled": true
   },
   "outputs": [
    {
     "name": "stdout",
     "output_type": "stream",
     "text": [
      "{'tom': '111-111', '길동': '222-2222'} ['마우스', '키보드']\n",
      "['마우스', '키보드']\n"
     ]
    }
   ],
   "source": [
    "f=open(\"data/ftest2.pickle\",'rb')\n",
    "\n",
    "a,b=pickle.load(f)\n",
    "print(a,b)\n",
    "\n",
    "c=pickle.load(f)\n",
    "print(c)"
   ]
  },
  {
   "cell_type": "markdown",
   "metadata": {},
   "source": [
    "<hr style=\"background-color: rgb(0,0,0);height: 2px;\"/>"
   ]
  },
  {
   "cell_type": "markdown",
   "metadata": {},
   "source": [
    "p.416 참조\n",
    "\n",
    "## 단위 테스트"
   ]
  },
  {
   "cell_type": "code",
   "execution_count": 29,
   "metadata": {},
   "outputs": [
    {
     "name": "stderr",
     "output_type": "stream",
     "text": [
      "..\n",
      "----------------------------------------------------------------------\n",
      "Ran 2 tests in 0.002s\n",
      "\n",
      "OK\n"
     ]
    }
   ],
   "source": [
    "import unittest\n",
    "\n",
    "def sum(a,b):\n",
    "    return a+b\n",
    "\n",
    "class Module1Test(unittest.TestCase):\n",
    "    def testSum1(self):\n",
    "        self.assertEqual(sum(1,2),3)\n",
    "    def testSum2(self):\n",
    "        self.assertEqual(sum(1,-1),0)\n",
    "########################\n",
    "\n",
    "if __name__ ==\"__main__\":\n",
    "    unittest.main(argv=['first-arg-is-ignored'], exit=False)"
   ]
  },
  {
   "cell_type": "code",
   "execution_count": null,
   "metadata": {},
   "outputs": [],
   "source": []
  }
 ],
 "metadata": {
  "kernelspec": {
   "display_name": "Python 3",
   "language": "python",
   "name": "python3"
  },
  "language_info": {
   "codemirror_mode": {
    "name": "ipython",
    "version": 3
   },
   "file_extension": ".py",
   "mimetype": "text/x-python",
   "name": "python",
   "nbconvert_exporter": "python",
   "pygments_lexer": "ipython3",
   "version": "3.7.4"
  }
 },
 "nbformat": 4,
 "nbformat_minor": 2
}
