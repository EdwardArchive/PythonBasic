{
 "cells": [
  {
   "cell_type": "markdown",
   "metadata": {},
   "source": [
    "## 정의\n",
    "    \n",
    "    -비슷하거나 관련된 일을 하는 함수,클래스,상수값들을 모아서 하나의 파일에 저장하고 추후에 재사용 하기 위한 목적\n",
    "    -함수나 변수: 클래스들을 모아 놓은 파일 : .py\n",
    "    \n",
    "## 종류\n",
    "\n",
    "    -표준 모듈\n",
    "    -사용자 정의 모듈\n",
    "    -서드 파티 모듈\n",
    "    \n",
    "## 선언방법(사용방법)\n",
    "    \n",
    "    -import 모듈\n",
    "    -import 모듈 as 키워드(별칭)\n",
    "    -from 모듈 import 변수, 함수, 클래스\n",
    "    -from 모듈 import *\n",
    "    -from 모듈 import 이름 as 키워드(별칭)\n",
    "    \n",
    "## 참조\n",
    "\n",
    "    -같은 경로에 있는것을 먼저 참조함\n",
    "    -같은 경로에 없을때 : 기존 경로 설치 경로 주로 site-packages\n",
    "    -기존경로에 없을경우 : Path 경로를 찾는다\n",
    "        -sys.path.append(\"경로\")\n",
    "    - error\n",
    "\n",
    "## 패키지\n",
    "    \n",
    "    -여러 모듈들을 모아놓은 폴더\n",
    "    -2.x 버전은 _init_는 폴더안에 들어가 있어야한다 3.x버전은 예외"
   ]
  },
  {
   "cell_type": "code",
   "execution_count": 2,
   "metadata": {},
   "outputs": [
    {
     "name": "stdout",
     "output_type": "stream",
     "text": [
      "Google Python\n"
     ]
    }
   ],
   "source": [
    "import sys\n",
    "sys.path.append(\"C:\\\\Users\\\\acorn\\\\ProjectFileKim\\\\pycharmwork\\\\mymodule\")\n",
    "import my_module2\n",
    "print(my_module2.mycomp)"
   ]
  },
  {
   "cell_type": "code",
   "execution_count": null,
   "metadata": {},
   "outputs": [],
   "source": []
  }
 ],
 "metadata": {
  "kernelspec": {
   "display_name": "Python 3",
   "language": "python",
   "name": "python3"
  },
  "language_info": {
   "codemirror_mode": {
    "name": "ipython",
    "version": 3
   },
   "file_extension": ".py",
   "mimetype": "text/x-python",
   "name": "python",
   "nbconvert_exporter": "python",
   "pygments_lexer": "ipython3",
   "version": "3.7.4"
  }
 },
 "nbformat": 4,
 "nbformat_minor": 2
}
