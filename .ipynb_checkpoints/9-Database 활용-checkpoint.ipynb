{
 "cells": [
  {
   "cell_type": "markdown",
   "metadata": {},
   "source": [
    "p302부터 참고\n",
    "\n",
    "## 파이썬과 MySQL 활용\n",
    "    1. 파이썬과 MySQL를 연결하는 모듈 : mysqlclient, PyMySQL\n",
    "        pip install mysqlclient\n",
    "        pip install PyMySQL\n",
    "        "
   ]
  },
  {
   "cell_type": "markdown",
   "metadata": {},
   "source": [
    "mysqlclient 모듈 사용\n"
   ]
  },
  {
   "cell_type": "code",
   "execution_count": 1,
   "metadata": {},
   "outputs": [],
   "source": [
    "import MySQLdb"
   ]
  },
  {
   "cell_type": "code",
   "execution_count": 6,
   "metadata": {},
   "outputs": [
    {
     "name": "stdout",
     "output_type": "stream",
     "text": [
      "<_mysql.connection open to '127.0.0.1' at 00000000049B6248>\n"
     ]
    }
   ],
   "source": [
    "#mysql 접속\n",
    "conn=MySQLdb.connect(host='127.0.0.1',user='root',password='1111',database='testdb')\n",
    "print(conn)\n",
    "conn.close()"
   ]
  },
  {
   "cell_type": "code",
   "execution_count": 8,
   "metadata": {},
   "outputs": [
    {
     "name": "stdout",
     "output_type": "stream",
     "text": [
      "<_mysql.connection open to '127.0.0.1' at 00000000003D9168>\n"
     ]
    }
   ],
   "source": [
    "config={'host':'127.0.0.1','user':'root','password':'1111','database':'testdb'}\n",
    "conn=MySQLdb.connect(**config)\n",
    "print(conn)\n",
    "conn.close()"
   ]
  },
  {
   "cell_type": "code",
   "execution_count": 60,
   "metadata": {},
   "outputs": [
    {
     "name": "stdout",
     "output_type": "stream",
     "text": [
      "<MySQLdb.cursors.Cursor object at 0x000000000859B888>\n",
      "(7369, 'SMITH', 800.0, 'CLERK', 20)\n",
      "(7499, 'ALLEN', 1600.0, 'SALESMAN', 30)\n",
      "(7521, 'WARD', 1250.0, 'SALESMAN', 30)\n",
      "(7566, 'JONES', 2975.0, 'MANAGER', 20)\n",
      "(7654, 'MARTIN', 1250.0, 'SALESMAN', 30)\n",
      "(7698, 'BLAKE', 2850.0, 'MANAGER', 30)\n",
      "(7782, 'CLARK', 2450.0, 'MANAGER', 10)\n",
      "(7788, 'SCOTT', 3000.0, 'ANALYST', 20)\n",
      "(7839, 'KING', 5000.0, 'PRESIDENT', 10)\n",
      "(7844, 'TURNER', 1500.0, 'SALESMAN', 30)\n",
      "(7876, 'ADAMS', 1100.0, 'CLERK', 20)\n",
      "(7900, 'JAMES', 950.0, 'CLERK', 30)\n",
      "(7902, 'FORD', 3000.0, 'ANALYST', 20)\n",
      "(7934, 'MILLER', 1300.0, 'CLERK', 10)\n"
     ]
    }
   ],
   "source": [
    "# SELECT\n",
    "conn = MySQLdb.connect(**config)\n",
    "\n",
    "sql=\"SELECT empno, ename, sal, job, deptno FROM emp\"\n",
    "\n",
    "cursor=conn.cursor()\n",
    "cursor.execute(sql)\n",
    "\n",
    "print(cursor)\n",
    "\n",
    "for data in cursor:\n",
    "    print(data)\n",
    "conn.close()"
   ]
  },
  {
   "cell_type": "code",
   "execution_count": 17,
   "metadata": {},
   "outputs": [],
   "source": [
    "#INSERT\n",
    "\n",
    "conn = MySQLdb.connect(**config)\n",
    "cur=conn.cursor()\n",
    "\n",
    "sql=\"\"\"INSERT INTO emp(empno, ename, sal, job, mgr,deptno, hiredate)\n",
    "    VALUES(1, 'tom', 700, 'clerk', 7788, 20, now())\"\"\"\n",
    "\n",
    "cur.execute(sql)\n",
    "conn.commit()\n",
    "conn.close()"
   ]
  },
  {
   "cell_type": "code",
   "execution_count": 28,
   "metadata": {},
   "outputs": [],
   "source": [
    "conn = MySQLdb.connect(**config)\n",
    "cur=conn.cursor()\n",
    "\n",
    "v_empno=2\n",
    "v_ename='jonsen'\n",
    "v_sal=800\n",
    "\n",
    "sql=\"INSERT INTO emp(empno, ename, sal, hiredate) VALUES(\"+str(v_empno)+\",'\"+v_ename+\"',\"+str(v_sal)+\", now())\"\n",
    "cur.execute(sql)\n",
    "conn.commit()\n",
    "conn.close()"
   ]
  },
  {
   "cell_type": "code",
   "execution_count": 30,
   "metadata": {},
   "outputs": [],
   "source": [
    "conn = MySQLdb.connect(**config)\n",
    "cur=conn.cursor()\n",
    "\n",
    "v_empno=3\n",
    "v_ename='jane'\n",
    "v_sal=700\n",
    "\n",
    "sql=\"INSERT INTO emp(empno, ename, sal, hiredate) VALUES(%s, %s, %s, now())\"\n",
    "sql_data=(str(v_empno),str(v_ename),str(v_sal))\n",
    "\n",
    "cur.execute(sql,sql_data)\n",
    "conn.commit()\n",
    "conn.close()"
   ]
  },
  {
   "cell_type": "code",
   "execution_count": 33,
   "metadata": {},
   "outputs": [],
   "source": [
    "#DELETE\n",
    "\n",
    "conn = MySQLdb.connect(**config)\n",
    "cur=conn.cursor()\n",
    "\n",
    "sql=\"delete from emp where empno BETWEEN 1 AND 3\"\n",
    "\n",
    "cur.execute(sql)\n",
    "conn.commit()\n",
    "conn.close()"
   ]
  },
  {
   "cell_type": "markdown",
   "metadata": {},
   "source": [
    "---"
   ]
  },
  {
   "cell_type": "markdown",
   "metadata": {},
   "source": [
    "## PyMySQL 모듈사용"
   ]
  },
  {
   "cell_type": "code",
   "execution_count": 2,
   "metadata": {},
   "outputs": [],
   "source": [
    "import pymysql"
   ]
  },
  {
   "cell_type": "code",
   "execution_count": 37,
   "metadata": {},
   "outputs": [
    {
     "name": "stdout",
     "output_type": "stream",
     "text": [
      "<pymysql.connections.Connection object at 0x00000000085D39C8>\n"
     ]
    }
   ],
   "source": [
    "#sql 접속\n",
    "conn=pymysql.connect(host='127.0.0.1',user='root',password='1111',database='testdb',port=3306,charset='utf8')\n",
    "\n",
    "print(conn)\n",
    "conn.close()"
   ]
  },
  {
   "cell_type": "code",
   "execution_count": 47,
   "metadata": {},
   "outputs": [
    {
     "name": "stdout",
     "output_type": "stream",
     "text": [
      "<pymysql.connections.Connection object at 0x00000000085D3BC8>\n"
     ]
    }
   ],
   "source": [
    "config={'host':'127.0.0.1','user':'root','password':'1111','database':'testdb','port':3306,'charset':'utf8'}\n",
    "conn=pymysql.connect(**config)\n",
    "\n",
    "print(conn)\n",
    "conn.close()"
   ]
  },
  {
   "cell_type": "code",
   "execution_count": 55,
   "metadata": {
    "scrolled": true
   },
   "outputs": [
    {
     "name": "stdout",
     "output_type": "stream",
     "text": [
      "('bonus',)\n",
      "('dept',)\n",
      "('emp',)\n",
      "('member',)\n",
      "('post',)\n",
      "('pythontable',)\n",
      "('salgrade',)\n",
      "('tbia',)\n",
      "('tbib',)\n",
      "('tbic',)\n",
      "('tbitest',)\n",
      "('tblbook',)\n",
      "('tbldept',)\n",
      "('tblemp',)\n",
      "('tblexam',)\n",
      "('tblindex',)\n",
      "('vw_test',)\n"
     ]
    }
   ],
   "source": [
    "conn=pymysql.connect(**config)\n",
    "cur=conn.cursor()\n",
    "#unsinged 양수만\n",
    "sql=\"\"\"\n",
    "    CREATE TABLE IF NOT EXISTS pythonTable(\n",
    "        id int unsigned not null auto_increment,\n",
    "        name varchar(20) not null,\n",
    "        regdate datetime,\n",
    "        primary key(id)\n",
    "    )\n",
    "\"\"\"\n",
    "\n",
    "cur.execute(sql)\n",
    "cur.execute(\"show tables\")\n",
    "\n",
    "for i in cur:\n",
    "    print(i)\n",
    "\n",
    "conn.commit()\n",
    "conn.close()"
   ]
  },
  {
   "cell_type": "code",
   "execution_count": 56,
   "metadata": {},
   "outputs": [],
   "source": [
    "conn=pymysql.connect(**config)\n",
    "try :\n",
    "    with conn.cursor() as cur:\n",
    "    #unsinged 양수만\n",
    "        sql=\"\"\"\n",
    "            CREATE TABLE IF NOT EXISTS pythonTable(\n",
    "            id int unsigned not null auto_increment,\n",
    "            name varchar(20) not null,\n",
    "            regdate datetime,\n",
    "            primary key(id)\n",
    "            )\n",
    "        \"\"\"\n",
    "        cur.execute(sql)\n",
    "        conn.commit()\n",
    "finally:\n",
    "    conn.close()"
   ]
  },
  {
   "cell_type": "code",
   "execution_count": 59,
   "metadata": {},
   "outputs": [
    {
     "ename": "ProgrammingError",
     "evalue": "Cursor closed",
     "output_type": "error",
     "traceback": [
      "\u001b[1;31m---------------------------------------------------------------------------\u001b[0m",
      "\u001b[1;31mProgrammingError\u001b[0m                          Traceback (most recent call last)",
      "\u001b[1;32m<ipython-input-59-523047be5d1b>\u001b[0m in \u001b[0;36m<module>\u001b[1;34m\u001b[0m\n\u001b[0;32m      8\u001b[0m         \u001b[0mconn\u001b[0m\u001b[1;33m.\u001b[0m\u001b[0mcommit\u001b[0m\u001b[1;33m(\u001b[0m\u001b[1;33m)\u001b[0m\u001b[1;33m\u001b[0m\u001b[1;33m\u001b[0m\u001b[0m\n\u001b[0;32m      9\u001b[0m \u001b[1;32mfinally\u001b[0m\u001b[1;33m:\u001b[0m\u001b[1;33m\u001b[0m\u001b[1;33m\u001b[0m\u001b[0m\n\u001b[1;32m---> 10\u001b[1;33m     \u001b[0mcur\u001b[0m\u001b[1;33m.\u001b[0m\u001b[0mexecute\u001b[0m\u001b[1;33m(\u001b[0m\u001b[1;34m\"show tables\"\u001b[0m\u001b[1;33m)\u001b[0m\u001b[1;33m\u001b[0m\u001b[1;33m\u001b[0m\u001b[0m\n\u001b[0m\u001b[0;32m     11\u001b[0m     \u001b[0mconn\u001b[0m\u001b[1;33m.\u001b[0m\u001b[0mclose\u001b[0m\u001b[1;33m(\u001b[0m\u001b[1;33m)\u001b[0m\u001b[1;33m\u001b[0m\u001b[1;33m\u001b[0m\u001b[0m\n",
      "\u001b[1;32m~\\Anaconda3\\lib\\site-packages\\pymysql\\cursors.py\u001b[0m in \u001b[0;36mexecute\u001b[1;34m(self, query, args)\u001b[0m\n\u001b[0;32m    163\u001b[0m         \u001b[0mIf\u001b[0m \u001b[0margs\u001b[0m \u001b[1;32mis\u001b[0m \u001b[0ma\u001b[0m \u001b[0mdict\u001b[0m\u001b[1;33m,\u001b[0m \u001b[1;33m%\u001b[0m\u001b[1;33m(\u001b[0m\u001b[0mname\u001b[0m\u001b[1;33m)\u001b[0m\u001b[0ms\u001b[0m \u001b[0mcan\u001b[0m \u001b[0mbe\u001b[0m \u001b[0mused\u001b[0m \u001b[1;32mas\u001b[0m \u001b[0ma\u001b[0m \u001b[0mplaceholder\u001b[0m \u001b[1;32min\u001b[0m \u001b[0mthe\u001b[0m \u001b[0mquery\u001b[0m\u001b[1;33m.\u001b[0m\u001b[1;33m\u001b[0m\u001b[1;33m\u001b[0m\u001b[0m\n\u001b[0;32m    164\u001b[0m         \"\"\"\n\u001b[1;32m--> 165\u001b[1;33m         \u001b[1;32mwhile\u001b[0m \u001b[0mself\u001b[0m\u001b[1;33m.\u001b[0m\u001b[0mnextset\u001b[0m\u001b[1;33m(\u001b[0m\u001b[1;33m)\u001b[0m\u001b[1;33m:\u001b[0m\u001b[1;33m\u001b[0m\u001b[1;33m\u001b[0m\u001b[0m\n\u001b[0m\u001b[0;32m    166\u001b[0m             \u001b[1;32mpass\u001b[0m\u001b[1;33m\u001b[0m\u001b[1;33m\u001b[0m\u001b[0m\n\u001b[0;32m    167\u001b[0m \u001b[1;33m\u001b[0m\u001b[0m\n",
      "\u001b[1;32m~\\Anaconda3\\lib\\site-packages\\pymysql\\cursors.py\u001b[0m in \u001b[0;36mnextset\u001b[1;34m(self)\u001b[0m\n\u001b[0;32m    105\u001b[0m \u001b[1;33m\u001b[0m\u001b[0m\n\u001b[0;32m    106\u001b[0m     \u001b[1;32mdef\u001b[0m \u001b[0mnextset\u001b[0m\u001b[1;33m(\u001b[0m\u001b[0mself\u001b[0m\u001b[1;33m)\u001b[0m\u001b[1;33m:\u001b[0m\u001b[1;33m\u001b[0m\u001b[1;33m\u001b[0m\u001b[0m\n\u001b[1;32m--> 107\u001b[1;33m         \u001b[1;32mreturn\u001b[0m \u001b[0mself\u001b[0m\u001b[1;33m.\u001b[0m\u001b[0m_nextset\u001b[0m\u001b[1;33m(\u001b[0m\u001b[1;32mFalse\u001b[0m\u001b[1;33m)\u001b[0m\u001b[1;33m\u001b[0m\u001b[1;33m\u001b[0m\u001b[0m\n\u001b[0m\u001b[0;32m    108\u001b[0m \u001b[1;33m\u001b[0m\u001b[0m\n\u001b[0;32m    109\u001b[0m     \u001b[1;32mdef\u001b[0m \u001b[0m_ensure_bytes\u001b[0m\u001b[1;33m(\u001b[0m\u001b[0mself\u001b[0m\u001b[1;33m,\u001b[0m \u001b[0mx\u001b[0m\u001b[1;33m,\u001b[0m \u001b[0mencoding\u001b[0m\u001b[1;33m=\u001b[0m\u001b[1;32mNone\u001b[0m\u001b[1;33m)\u001b[0m\u001b[1;33m:\u001b[0m\u001b[1;33m\u001b[0m\u001b[1;33m\u001b[0m\u001b[0m\n",
      "\u001b[1;32m~\\Anaconda3\\lib\\site-packages\\pymysql\\cursors.py\u001b[0m in \u001b[0;36m_nextset\u001b[1;34m(self, unbuffered)\u001b[0m\n\u001b[0;32m     89\u001b[0m     \u001b[1;32mdef\u001b[0m \u001b[0m_nextset\u001b[0m\u001b[1;33m(\u001b[0m\u001b[0mself\u001b[0m\u001b[1;33m,\u001b[0m \u001b[0munbuffered\u001b[0m\u001b[1;33m=\u001b[0m\u001b[1;32mFalse\u001b[0m\u001b[1;33m)\u001b[0m\u001b[1;33m:\u001b[0m\u001b[1;33m\u001b[0m\u001b[1;33m\u001b[0m\u001b[0m\n\u001b[0;32m     90\u001b[0m         \u001b[1;34m\"\"\"Get the next query set\"\"\"\u001b[0m\u001b[1;33m\u001b[0m\u001b[1;33m\u001b[0m\u001b[0m\n\u001b[1;32m---> 91\u001b[1;33m         \u001b[0mconn\u001b[0m \u001b[1;33m=\u001b[0m \u001b[0mself\u001b[0m\u001b[1;33m.\u001b[0m\u001b[0m_get_db\u001b[0m\u001b[1;33m(\u001b[0m\u001b[1;33m)\u001b[0m\u001b[1;33m\u001b[0m\u001b[1;33m\u001b[0m\u001b[0m\n\u001b[0m\u001b[0;32m     92\u001b[0m         \u001b[0mcurrent_result\u001b[0m \u001b[1;33m=\u001b[0m \u001b[0mself\u001b[0m\u001b[1;33m.\u001b[0m\u001b[0m_result\u001b[0m\u001b[1;33m\u001b[0m\u001b[1;33m\u001b[0m\u001b[0m\n\u001b[0;32m     93\u001b[0m         \u001b[1;31m# for unbuffered queries warnings are only available once whole result has been read\u001b[0m\u001b[1;33m\u001b[0m\u001b[1;33m\u001b[0m\u001b[1;33m\u001b[0m\u001b[0m\n",
      "\u001b[1;32m~\\Anaconda3\\lib\\site-packages\\pymysql\\cursors.py\u001b[0m in \u001b[0;36m_get_db\u001b[1;34m(self)\u001b[0m\n\u001b[0;32m     71\u001b[0m     \u001b[1;32mdef\u001b[0m \u001b[0m_get_db\u001b[0m\u001b[1;33m(\u001b[0m\u001b[0mself\u001b[0m\u001b[1;33m)\u001b[0m\u001b[1;33m:\u001b[0m\u001b[1;33m\u001b[0m\u001b[1;33m\u001b[0m\u001b[0m\n\u001b[0;32m     72\u001b[0m         \u001b[1;32mif\u001b[0m \u001b[1;32mnot\u001b[0m \u001b[0mself\u001b[0m\u001b[1;33m.\u001b[0m\u001b[0mconnection\u001b[0m\u001b[1;33m:\u001b[0m\u001b[1;33m\u001b[0m\u001b[1;33m\u001b[0m\u001b[0m\n\u001b[1;32m---> 73\u001b[1;33m             \u001b[1;32mraise\u001b[0m \u001b[0merr\u001b[0m\u001b[1;33m.\u001b[0m\u001b[0mProgrammingError\u001b[0m\u001b[1;33m(\u001b[0m\u001b[1;34m\"Cursor closed\"\u001b[0m\u001b[1;33m)\u001b[0m\u001b[1;33m\u001b[0m\u001b[1;33m\u001b[0m\u001b[0m\n\u001b[0m\u001b[0;32m     74\u001b[0m         \u001b[1;32mreturn\u001b[0m \u001b[0mself\u001b[0m\u001b[1;33m.\u001b[0m\u001b[0mconnection\u001b[0m\u001b[1;33m\u001b[0m\u001b[1;33m\u001b[0m\u001b[0m\n\u001b[0;32m     75\u001b[0m \u001b[1;33m\u001b[0m\u001b[0m\n",
      "\u001b[1;31mProgrammingError\u001b[0m: Cursor closed"
     ]
    }
   ],
   "source": [
    "conn=pymysql.connect(**config)\n",
    "try :\n",
    "    with conn.cursor() as cur:\n",
    "    #unsinged 양수만\n",
    "        sql=\"INSERT INTO pythontable(name, regdate) VALUES('tom',now())\"\n",
    "        for _ in range(10):\n",
    "            cur.execute(sql)\n",
    "        conn.commit()\n",
    "finally:\n",
    "    conn.close()"
   ]
  },
  {
   "cell_type": "code",
   "execution_count": 63,
   "metadata": {},
   "outputs": [
    {
     "name": "stdout",
     "output_type": "stream",
     "text": [
      "<MySQLdb.cursors.Cursor object at 0x0000000008A96448>\n",
      "('tom', datetime.datetime(2019, 12, 30, 15, 16, 31))\n",
      "('tom', datetime.datetime(2019, 12, 30, 15, 16, 31))\n",
      "('tom', datetime.datetime(2019, 12, 30, 15, 16, 31))\n",
      "('tom', datetime.datetime(2019, 12, 30, 15, 16, 31))\n",
      "('tom', datetime.datetime(2019, 12, 30, 15, 16, 31))\n",
      "('tom', datetime.datetime(2019, 12, 30, 15, 16, 31))\n",
      "('tom', datetime.datetime(2019, 12, 30, 15, 16, 31))\n",
      "('tom', datetime.datetime(2019, 12, 30, 15, 16, 31))\n",
      "('tom', datetime.datetime(2019, 12, 30, 15, 16, 31))\n",
      "('tom', datetime.datetime(2019, 12, 30, 15, 16, 31))\n",
      "('tom', datetime.datetime(2019, 12, 30, 15, 16, 48))\n",
      "('tom', datetime.datetime(2019, 12, 30, 15, 16, 48))\n",
      "('tom', datetime.datetime(2019, 12, 30, 15, 16, 48))\n",
      "('tom', datetime.datetime(2019, 12, 30, 15, 16, 48))\n",
      "('tom', datetime.datetime(2019, 12, 30, 15, 16, 48))\n",
      "('tom', datetime.datetime(2019, 12, 30, 15, 16, 48))\n",
      "('tom', datetime.datetime(2019, 12, 30, 15, 16, 48))\n",
      "('tom', datetime.datetime(2019, 12, 30, 15, 16, 48))\n",
      "('tom', datetime.datetime(2019, 12, 30, 15, 16, 48))\n",
      "('tom', datetime.datetime(2019, 12, 30, 15, 16, 48))\n"
     ]
    }
   ],
   "source": [
    "conn = MySQLdb.connect(**config)\n",
    "\n",
    "sql=\"SELECT name, regdate FROM pythontable\"\n",
    "\n",
    "cursor=conn.cursor()\n",
    "cursor.execute(sql)\n",
    "\n",
    "print(cursor)\n",
    "\n",
    "for data in cursor:\n",
    "    print(data)\n",
    "conn.close()"
   ]
  },
  {
   "cell_type": "code",
   "execution_count": 66,
   "metadata": {},
   "outputs": [
    {
     "name": "stdout",
     "output_type": "stream",
     "text": [
      "(1, 'tom', datetime.datetime(2019, 12, 30, 15, 16, 31))\n",
      "(2, 'tom', datetime.datetime(2019, 12, 30, 15, 16, 31))\n",
      "(3, 'tom', datetime.datetime(2019, 12, 30, 15, 16, 31))\n",
      "(4, 'tom', datetime.datetime(2019, 12, 30, 15, 16, 31))\n",
      "(5, 'tom', datetime.datetime(2019, 12, 30, 15, 16, 31))\n",
      "(6, 'tom', datetime.datetime(2019, 12, 30, 15, 16, 31))\n",
      "(7, 'tom', datetime.datetime(2019, 12, 30, 15, 16, 31))\n",
      "(8, 'tom', datetime.datetime(2019, 12, 30, 15, 16, 31))\n",
      "(9, 'tom', datetime.datetime(2019, 12, 30, 15, 16, 31))\n",
      "(10, 'tom', datetime.datetime(2019, 12, 30, 15, 16, 31))\n",
      "(11, 'tom', datetime.datetime(2019, 12, 30, 15, 16, 48))\n",
      "(12, 'tom', datetime.datetime(2019, 12, 30, 15, 16, 48))\n",
      "(13, 'tom', datetime.datetime(2019, 12, 30, 15, 16, 48))\n",
      "(14, 'tom', datetime.datetime(2019, 12, 30, 15, 16, 48))\n",
      "(15, 'tom', datetime.datetime(2019, 12, 30, 15, 16, 48))\n",
      "(16, 'tom', datetime.datetime(2019, 12, 30, 15, 16, 48))\n",
      "(17, 'tom', datetime.datetime(2019, 12, 30, 15, 16, 48))\n",
      "(18, 'tom', datetime.datetime(2019, 12, 30, 15, 16, 48))\n",
      "(19, 'tom', datetime.datetime(2019, 12, 30, 15, 16, 48))\n",
      "(20, 'tom', datetime.datetime(2019, 12, 30, 15, 16, 48))\n"
     ]
    }
   ],
   "source": [
    "conn=pymysql.connect(**config)\n",
    "cur=conn.cursor()\n",
    "\n",
    "cur.execute(\"SELECT * FROM pythontable\")\n",
    "\n",
    "for i in cur:\n",
    "    print(i)\n",
    "conn.close()"
   ]
  },
  {
   "cell_type": "code",
   "execution_count": 12,
   "metadata": {},
   "outputs": [
    {
     "name": "stdout",
     "output_type": "stream",
     "text": [
      "(1, 'tom', datetime.datetime(2019, 12, 30, 15, 16, 31))\n",
      "(2, 'tom', datetime.datetime(2019, 12, 30, 15, 16, 31))\n",
      "(3, 'tom', datetime.datetime(2019, 12, 30, 15, 16, 31))\n",
      "(4, 'tom', datetime.datetime(2019, 12, 30, 15, 16, 31))\n",
      "(5, 'tom', datetime.datetime(2019, 12, 30, 15, 16, 31))\n",
      "(6, 'tom', datetime.datetime(2019, 12, 30, 15, 16, 31))\n",
      "(7, 'tom', datetime.datetime(2019, 12, 30, 15, 16, 31))\n",
      "(8, 'tom', datetime.datetime(2019, 12, 30, 15, 16, 31))\n",
      "(9, 'tom', datetime.datetime(2019, 12, 30, 15, 16, 31))\n",
      "(10, 'tom', datetime.datetime(2019, 12, 30, 15, 16, 31))\n",
      "(11, 'tom', datetime.datetime(2019, 12, 30, 15, 16, 48))\n",
      "(12, 'tom', datetime.datetime(2019, 12, 30, 15, 16, 48))\n",
      "(13, 'tom', datetime.datetime(2019, 12, 30, 15, 16, 48))\n",
      "(14, 'tom', datetime.datetime(2019, 12, 30, 15, 16, 48))\n",
      "(15, 'tom', datetime.datetime(2019, 12, 30, 15, 16, 48))\n",
      "(16, 'tom', datetime.datetime(2019, 12, 30, 15, 16, 48))\n",
      "(17, 'tom', datetime.datetime(2019, 12, 30, 15, 16, 48))\n",
      "(18, 'tom', datetime.datetime(2019, 12, 30, 15, 16, 48))\n",
      "(19, 'tom', datetime.datetime(2019, 12, 30, 15, 16, 48))\n",
      "(20, 'tom', datetime.datetime(2019, 12, 30, 15, 16, 48))\n"
     ]
    }
   ],
   "source": [
    "#원하는 만큼의 데이터 가져오기 fetchmany(n),fetchone(),fetchall()\n",
    "config={'host':'127.0.0.1','user':'root','password':'1111','database':'testdb','port':3306,'charset':'utf8'}\n",
    "conn =pymysql.connect(**config)\n",
    "cur=conn.cursor()\n",
    "\n",
    "cur.execute(\"SELECT * FROM pythontable\")\n",
    "\n",
    "many=cur.fetchmany(3)\n",
    "for i in many:\n",
    "    print(i)\n",
    "\n",
    "one=cur.fetchone()\n",
    "print(one)\n",
    "\n",
    "for i in cur.fetchall():\n",
    "    print(i)\n",
    "conn.close()"
   ]
  },
  {
   "cell_type": "code",
   "execution_count": 20,
   "metadata": {},
   "outputs": [
    {
     "name": "stdout",
     "output_type": "stream",
     "text": [
      "{'ename': 'ALLEN', 'job': 'SALESMAN', 'sal': 1600.0, 'deptno': 30}\n",
      "ALLEN 1600.0 30\n",
      "{'ename': 'BLAKE', 'job': 'MANAGER', 'sal': 2850.0, 'deptno': 30}\n",
      "BLAKE 2850.0 30\n"
     ]
    }
   ],
   "source": [
    "#data결과를 dict로 처리해보자 : dictcursor\n",
    "conn =pymysql.connect(**config)\n",
    "cur=conn.cursor(pymysql.cursors.DictCursor)\n",
    "\n",
    "sql=\"SELECT ename, job, sal, deptno from emp where sal>%s and deptno=%s\"\n",
    "cur.execute(sql,(1500,30))\n",
    "\n",
    "for i in cur.fetchall():\n",
    "    print(i)\n",
    "    print(i['ename'], i['sal'], i['deptno'])\n",
    "\n",
    "conn.close()"
   ]
  },
  {
   "cell_type": "code",
   "execution_count": 33,
   "metadata": {},
   "outputs": [],
   "source": [
    "#csv파일을 db에 저장하기\n",
    "\n",
    "sql=\"\"\"\n",
    "    CREATE TABLE IF NOT EXISTS supplies(\n",
    "        Supplier_Name   varchar(20), \n",
    "        Invoice_Number  varchar(20),\n",
    "        Part_number     varchar(20),\n",
    "        Cost            float,\n",
    "        Purchase_Data   date\n",
    "    );\n",
    "    \"\"\"\n",
    "import csv\n",
    "from datetime import datetime\n",
    "\n",
    "conn =pymysql.connect(**config)\n",
    "cur=conn.cursor()\n",
    "\n",
    "sql=\"delete from supplies\"\n",
    "cur.execute(sql)\n",
    "conn.commit()\n",
    "\n",
    "file=csv.reader(open(\"data/input.csv\"))\n",
    "#print(file)\n",
    "header=next(file)\n",
    "#print(reader)\n",
    "\n",
    "for row in file:\n",
    "    #print(row)\n",
    "    data=[]\n",
    "    for col in range(len(header)):\n",
    "        if col==4:\n",
    "            tmp=datetime.strptime(row[col],\"%Y-%m-%d\")\n",
    "            data.append(tmp)\n",
    "        else:\n",
    "            data.append(row[col])\n",
    "    #print(data)\n",
    "    cur.execute(\"insert into supplies values(%s,%s,%s,%s,%s)\",data)\n",
    "conn.commit()\n",
    "conn.close()"
   ]
  },
  {
   "cell_type": "code",
   "execution_count": 2,
   "metadata": {},
   "outputs": [],
   "source": [
    "#DB에서 가져온 데이터를 처리후 파일로 저장\n",
    "import pymysql\n",
    "import csv\n",
    "from datetime import datetime\n",
    "config={'host':'127.0.0.1','user':'root','password':'1111','database':'testdb','port':3306,'charset':'utf8'}\n",
    "\n",
    "conn =pymysql.connect(**config)\n",
    "cur=conn.cursor()\n",
    "\n",
    "cur.execute(\"select * from supplies where cost>500000\")\n",
    "f=open(\"data/output.csv\",'w')\n",
    "file=csv.writer(f,delimiter=',')\n",
    "\n",
    "header = ['Samplies Name', 'Invoice Name', 'Port Number', 'Cost', 'Purchase Date']\n",
    "file.writerow(header)\n",
    "\n",
    "for row in cur:\n",
    "    file.writerow(row)\n",
    "\n",
    "conn.close()\n",
    "f.close()"
   ]
  },
  {
   "cell_type": "markdown",
   "metadata": {},
   "source": [
    "---"
   ]
  },
  {
   "cell_type": "markdown",
   "metadata": {},
   "source": [
    "## SQLite\n",
    "    1. 로컬 DB로 사용할수 있는 DMBS\n",
    "        - Access\n",
    "        - Sqlite\n",
    "        - Microsofr SQL Server Compact Edition\n",
    "        - Firebird Embedded Server\n",
    "        - H2\n",
    "        - HSQL\n",
    "        - Apecte Derby\n",
    "        ....\n",
    "    2. 특징\n",
    "        1)파일 기반에 DBMS, 저메모리, 빠른 처리속도\n",
    "        2) 오픈소스\n",
    "        3) 별도의 DB서버가 없어도 쉽고 편리하게 사용할수 있는 Embeded SQL DB엔진\n",
    "        4) 안드로이드, 아이폰 등의 스마트폰에 기본 내장된 DB\n",
    "        5) 표준 SQL 지원\n",
    "        6) 파이썬에도 내장\n",
    "        -----------------\n",
    "        단점\n",
    "        7) 컬럼을 삭제하거나 변경하는것 등이 제한\n",
    "        8) JOIN에서는 left outter join만 사용가능\n",
    "        9) 읽기 전용 뷰만 제공\n",
    "        ----\n",
    "    3. 공식 사이트 : http://sqlite.org\n",
    "    \n",
    "    4. 클라이언트 툴\n",
    "        - http://www.sqliteexpart.com\n",
    "    5. 실습\n",
    "        CREATE TABLE tblmember(\n",
    "            id int,\n",
    "            name varchar(10),\n",
    "            regdate datetime\n",
    "         );"
   ]
  },
  {
   "cell_type": "code",
   "execution_count": 7,
   "metadata": {},
   "outputs": [
    {
     "name": "stdout",
     "output_type": "stream",
     "text": [
      "2.6.0\n",
      "3.30.0\n"
     ]
    }
   ],
   "source": [
    "import sqlite3\n",
    "\n",
    "print(sqlite3.version)\n",
    "print(sqlite3.sqlite_version)"
   ]
  },
  {
   "cell_type": "code",
   "execution_count": 9,
   "metadata": {},
   "outputs": [
    {
     "name": "stdout",
     "output_type": "stream",
     "text": [
      "<sqlite3.Cursor object at 0x00000000088E6420>\n"
     ]
    }
   ],
   "source": [
    "conn =sqlite3.connect(\"data/sqlite.db\")\n",
    "cur = conn.cursor()\n",
    "print(cur)\n",
    "conn.close()"
   ]
  },
  {
   "cell_type": "code",
   "execution_count": 18,
   "metadata": {},
   "outputs": [
    {
     "name": "stdout",
     "output_type": "stream",
     "text": [
      "(1, '홍길동', '2019-12-31')\n",
      "(2, '임꺽정', '2019-12-31')\n"
     ]
    }
   ],
   "source": [
    "conn =sqlite3.connect(\"data/sqllite.db\")\n",
    "cur = conn.cursor()\n",
    "\n",
    "sql= \"SELECT * FROM tblMember\"\n",
    "cur.execute(sql)\n",
    "for row in cur:\n",
    "    print(row)\n",
    "    \n",
    "conn.close()"
   ]
  },
  {
   "cell_type": "code",
   "execution_count": 19,
   "metadata": {},
   "outputs": [],
   "source": [
    "conn =sqlite3.connect(\"data/sqllite.db\")\n",
    "cur = conn.cursor()\n",
    "\n",
    "cur.execute(\"insert into tblmember values(3, '홍경래', date('now'))\")\n",
    "conn.commit()\n",
    "conn.close()"
   ]
  },
  {
   "cell_type": "code",
   "execution_count": 24,
   "metadata": {},
   "outputs": [],
   "source": [
    "#csv파일을 읽어서 DB에 저장\n",
    "\n",
    "import csv\n",
    "file = csv.reader(open(\"data/input.csv\",'r'),delimiter=',')\n",
    "header=next(file)\n",
    "\n",
    "conn =sqlite3.connect(\"data/sqllite.db\")\n",
    "cur = conn.cursor()\n",
    "\n",
    "for row in file:\n",
    "    data=[]\n",
    "    for col in range(len(header)):\n",
    "        data.append(row[col])\n",
    "    cur.execute(\"insert into supplies values(?, ?, ?, ?, ?)\",data)\n",
    "\n",
    "conn.commit()\n",
    "conn.close()"
   ]
  },
  {
   "cell_type": "code",
   "execution_count": null,
   "metadata": {},
   "outputs": [],
   "source": [
    "\"\"\"\n",
    "1) mysql의 emp테이블을 emp.csv로 저장\n",
    "\n",
    "2)emp테이블을 이용해서 아래와 같은 프로그램\n",
    "예시\n",
    "        1) mysql\n",
    "        2) sqlite\n",
    "        연결할 db의 종류\n",
    "        \n",
    "        연결할 주소의 계정을 입력:(mysql의 경우)\n",
    "        주소:\n",
    "        아이디:\n",
    "        패스워드:\n",
    "        \n",
    "        메뉴 선택\n",
    "        1.조회\n",
    "        2.입력\n",
    "        3.수정\n",
    "        4.삭제\n",
    "        메뉴 :\n",
    "\"\"\""
   ]
  },
  {
   "cell_type": "code",
   "execution_count": 40,
   "metadata": {},
   "outputs": [
    {
     "name": "stdout",
     "output_type": "stream",
     "text": [
      "('Derick', '010-1234-5678')\n",
      "('tom', '010-222-2222')\n",
      "('john', '010-222-3333')\n",
      "('jane', '010-244-3444')\n",
      "('jarry', '010-555-5555')\n"
     ]
    },
    {
     "data": {
      "text/plain": [
       "<function Connection.commit>"
      ]
     },
     "execution_count": 40,
     "metadata": {},
     "output_type": "execute_result"
    }
   ],
   "source": [
    "#메모리 DB\n",
    "import sqlite3\n",
    "con = sqlite3.connect(':memory:')\n",
    "cur=con.cursor()\n",
    "cur.execute(\"CREATE TABLE PhoneBook(Name text, PhoneNum text);\")\n",
    "cur.execute(\"INSERT INTO PhoneBook VALUES('Derick', '010-1234-5678');\")\n",
    "\n",
    "sql=\"INSERT INTO PhoneBook VALUES(:vname, :vphone);\"\n",
    "cur.execute(sql,{'vname':'tom', 'vphone':'010-222-2222'})\n",
    "\n",
    "datalist= (('john','010-222-3333'), ('jane','010-244-3444'), ('jarry','010-555-5555'))\n",
    "cur.executemany(\"INSERT INTO PhoneBook VALUES(?, ?)\",datalist)\n",
    "\n",
    "cur.execute(\"SELECT * FROM PhoneBook\")\n",
    "for row in cur:\n",
    "    print(row)\n",
    "\n",
    "#작업한 내용을 스크립트로 저장\n",
    "f= open(\"data/datadump.sql\",'w')\n",
    "for line in con.iterdump():\n",
    "    f.write('{0}\\n'.format(line))\n",
    "f.close()\n",
    "con.commit"
   ]
  },
  {
   "cell_type": "code",
   "execution_count": 47,
   "metadata": {},
   "outputs": [
    {
     "name": "stdout",
     "output_type": "stream",
     "text": [
      "BEGIN TRANSACTION;\n",
      "CREATE TABLE PhoneBook(Name text, PhoneNum text);\n",
      "INSERT INTO \"PhoneBook\" VALUES('Derick','010-1234-5678');\n",
      "INSERT INTO \"PhoneBook\" VALUES('tom','010-222-2222');\n",
      "INSERT INTO \"PhoneBook\" VALUES('john','010-222-3333');\n",
      "INSERT INTO \"PhoneBook\" VALUES('jane','010-244-3444');\n",
      "INSERT INTO \"PhoneBook\" VALUES('jarry','010-555-5555');\n",
      "COMMIT;\n",
      "\n"
     ]
    }
   ],
   "source": [
    "#스크립트를 불러오기\n",
    "\n",
    "con= sqlite3.connect(\"data/sqllite.db\")\n",
    "cur=con.cursor()\n",
    "\n",
    "file=open(\"data/datadump.sql\",'r')\n",
    "string=file.read()\n",
    "print(string)\n",
    "\n",
    "cur.executescript(string)\n",
    "conn.close()\n",
    "file.close()"
   ]
  },
  {
   "cell_type": "markdown",
   "metadata": {},
   "source": [
    "---"
   ]
  },
  {
   "cell_type": "markdown",
   "metadata": {},
   "source": [
    "## Python과 MongoDB활용\n",
    "\n",
    "    - pip install pymongo"
   ]
  },
  {
   "cell_type": "code",
   "execution_count": 2,
   "metadata": {},
   "outputs": [
    {
     "name": "stdout",
     "output_type": "stream",
     "text": [
      "MongoClient(host=['localhost:27017'], document_class=dict, tz_aware=False, connect=True)\n"
     ]
    }
   ],
   "source": [
    "import pymongo\n",
    "from pymongo import MongoClient\n",
    "\n",
    "#conn= pymongo.MongoClient(\"localhost\",27017)\n",
    "#conn=MongoClient(\"mongo://127.0.0.1:27017\")  url형식도 가능\n",
    "conn=MongoClient(\"localhost\",27017) # localhost 대신 ip주소\n",
    "print(conn)\n",
    "conn.close()"
   ]
  },
  {
   "cell_type": "code",
   "execution_count": 4,
   "metadata": {},
   "outputs": [
    {
     "name": "stdout",
     "output_type": "stream",
     "text": [
      "Database(MongoClient(host=['localhost:27017'], document_class=dict, tz_aware=False, connect=True), 'test')\n"
     ]
    }
   ],
   "source": [
    "#db와 연결\n",
    "\n",
    "conn = MongoClient(\"localhost\",27017)\n",
    "db=conn.test\n",
    "print(db)\n",
    "conn.close()"
   ]
  },
  {
   "cell_type": "code",
   "execution_count": 12,
   "metadata": {},
   "outputs": [
    {
     "name": "stdout",
     "output_type": "stream",
     "text": [
      "6\n",
      "5e0eab79a4370d7abcf2472e\n"
     ]
    },
    {
     "name": "stderr",
     "output_type": "stream",
     "text": [
      "C:\\Users\\acorn\\Anaconda3\\lib\\site-packages\\ipykernel_launcher.py:5: DeprecationWarning: count is deprecated. Use estimated_document_count or count_documents instead. Please note that $where must be replaced by $expr, $near must be replaced by $geoWithin with $center, and $nearSphere must be replaced by $geoWithin with $centerSphere\n",
      "  \"\"\"\n"
     ]
    }
   ],
   "source": [
    "\n",
    "conn = MongoClient(\"localhost\",27017)\n",
    "db=conn.test\n",
    "\n",
    "collect=db.people\n",
    "print(collect.count())\n",
    "\n",
    "\n",
    "# data={'article':'Wine','text':'my first blog post!','tag':['mongodb','pymongo']}\n",
    "# collect.insert_one(data)\n",
    "\n",
    "#data={'article':'Tom','text':'my second blog post!','tag':['mongodb','pymongo']}\n",
    "#host_id=collect.insert_one(data).inserted_id\n",
    "\n",
    "print(host_id)\n",
    "conn.close()\n"
   ]
  },
  {
   "cell_type": "code",
   "execution_count": 15,
   "metadata": {},
   "outputs": [
    {
     "name": "stdout",
     "output_type": "stream",
     "text": [
      "20\n"
     ]
    },
    {
     "name": "stderr",
     "output_type": "stream",
     "text": [
      "C:\\Users\\acorn\\Anaconda3\\lib\\site-packages\\ipykernel_launcher.py:14: DeprecationWarning: count is deprecated. Use estimated_document_count or count_documents instead. Please note that $where must be replaced by $expr, $near must be replaced by $geoWithin with $center, and $nearSphere must be replaced by $geoWithin with $centerSphere\n",
      "  \n"
     ]
    }
   ],
   "source": [
    "conn = MongoClient(\"localhost\",27017)\n",
    "db=conn.test\n",
    "collect=db.people\n",
    "\n",
    "\n",
    "data=list()\n",
    "data.append({'name':'arow','age':20})\n",
    "data.append({'name':'tom','age':21})\n",
    "data.append({'name':'jane','age':22})\n",
    "data.append({'name':'jerry','age':23})\n",
    "\n",
    "collect.insert_many(data)\n",
    "\n",
    "print(collect.count())\n",
    "\n",
    "conn.close()"
   ]
  },
  {
   "cell_type": "code",
   "execution_count": 13,
   "metadata": {},
   "outputs": [
    {
     "name": "stdout",
     "output_type": "stream",
     "text": [
      "[{'number': 0}, {'number': 1}, {'number': 2}, {'number': 3}, {'number': 4}, {'number': 5}, {'number': 6}, {'number': 7}, {'number': 8}, {'number': 9}]\n"
     ]
    }
   ],
   "source": [
    "data=[{'number':i} for i in range(10)]\n",
    "print(data)"
   ]
  },
  {
   "cell_type": "code",
   "execution_count": 21,
   "metadata": {},
   "outputs": [
    {
     "name": "stdout",
     "output_type": "stream",
     "text": [
      "{'_id': ObjectId('5e0e9eb987a666117e3856d9'), 'name': 'Betty', 'age': 20.0}\n",
      "{'_id': ObjectId('5e0e9eb987a666117e3856da'), 'name': 'Charlie', 'age': 20.0, 'skills': ['mongodb', 'python', 'C']}\n",
      "{'_id': ObjectId('5e0e9eb987a666117e3856db'), 'name': 'David', 'age': 20.0, 'score': 20.0}\n",
      "{'_id': ObjectId('5e0eaeaaa4370d7abcf2473c'), 'name': 'arow', 'age': 20}\n",
      "{'_id': ObjectId('5e0eaeaaa4370d7abcf2473d'), 'name': 'tom', 'age': 21}\n",
      "{'_id': ObjectId('5e0eaeaaa4370d7abcf2473e'), 'name': 'jane', 'age': 22}\n",
      "{'_id': ObjectId('5e0eaeaaa4370d7abcf2473f'), 'name': 'jerry', 'age': 23}\n",
      "{'_id': ObjectId('5e0e9eb987a666117e3856d9'), 'name': 'Betty', 'age': 20.0}\n"
     ]
    }
   ],
   "source": [
    "#조회\n",
    "conn = MongoClient(\"localhost\",27017)\n",
    "db=conn.test\n",
    "collect=db.people\n",
    "\n",
    "for i in collect.find({'age':{\"$gte\":20}}):\n",
    "    print(i)\n",
    "\n",
    "print(collect.find_one({\"age\":20}))  #첫번째꺼 하나만 찾아줌 ㅜ\n",
    "conn.close()"
   ]
  },
  {
   "cell_type": "code",
   "execution_count": 23,
   "metadata": {},
   "outputs": [],
   "source": [
    "#데이터 수정\n",
    "\n",
    "conn = MongoClient(\"localhost\",27017)\n",
    "db=conn.test\n",
    "collect=db.people\n",
    "\n",
    "#collect.update_one,collect.update_many\n",
    "\n",
    "collect.update_one({\"article\":\"Tom\"},{\"$set\":{\"text\":\"my thrid blog post\"}})\n",
    "\n",
    "conn.close()"
   ]
  },
  {
   "cell_type": "code",
   "execution_count": null,
   "metadata": {},
   "outputs": [],
   "source": []
  }
 ],
 "metadata": {
  "kernelspec": {
   "display_name": "Python 3",
   "language": "python",
   "name": "python3"
  },
  "language_info": {
   "codemirror_mode": {
    "name": "ipython",
    "version": 3
   },
   "file_extension": ".py",
   "mimetype": "text/x-python",
   "name": "python",
   "nbconvert_exporter": "python",
   "pygments_lexer": "ipython3",
   "version": "3.7.4"
  }
 },
 "nbformat": 4,
 "nbformat_minor": 2
}
