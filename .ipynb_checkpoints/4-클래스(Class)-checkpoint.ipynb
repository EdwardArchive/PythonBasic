{
 "cells": [
  {
   "cell_type": "markdown",
   "metadata": {},
   "source": [
    "## 특징\n",
    "    \n",
    "    1) 묶음(block) : 변수, 함수를 묶어주는 단위\n",
    "        -여러 개의 함수를 묶어서 좀 더 큰 단위의 모듈로 관리\n",
    "        -변수 : 맴버 변수(클래스 안),속성(클래스 밖)\n",
    "        -함수 : 맴버 함수(in class),메소드(out class)\n",
    "    2) 설계도(추상화) -> 객체(구현화), 인스턴스\n",
    "    3) 사용자 정의 자료형\n",
    "    4) 객체의 조건\n",
    "        -상속성()\n",
    "        -다양성(pr)\n",
    "        -캡슐화(in)\n",
    "    5) 객체 설계 5원칙 : Solid\n",
    "        -S 단일 책임 원칙 (Single responsibility principle) : 한 클래스는 하나의 책임만 가져야 한다.\n",
    "        \n",
    "        -O 개방-폐쇄 원칙 (Single responsibility principle) : “소프트웨어 요소는 확장에는 열려 있으나 변경에는 닫혀 있어야 한다.”\n",
    "        -L 리스코프 치환 원칙 (Liskov sudstitutiom principle): “프로그램의 객체는 프로그램의 정확성을 깨뜨리지 않으면서 하위 타입의 인스턴스로 바꿀 수 있어야 한다.” 계약에 의한 설계를 참고하라.\n",
    "        \n",
    "        -I 인터페이스 분리 원칙 (Interface segregation principle): “특정 클라이언트를 위한 인터페이스 여러 개가 범용 인터페이스 하나보다 낫다.”\n",
    "        \n",
    "        -D 의존관계 역전 원칙 (Dependency inversion principle) : 프로그래머는 “추상화에 의존해야지, 구체화에 의존하면 안된다.”[4] 의존성 주입은 이 원칙을 따르는 방법 중 하나다.\n",
    "        \n",
    "        -5 함수 위주의 문법이다 변수로 쓰는 경우는 별로 없다\n",
    "        \n",
    "## 클래스 작성 방법\n",
    "    \n",
    "    class 이름:\n",
    "        variable\n",
    "        def :\n",
    "        \n",
    "        or\n",
    "        \n",
    "    class 이름(...):\n",
    "        variable\n",
    "        def :\n",
    "### 객체 지향 언어가 될수 있는 3가지 조건\n",
    "    \n",
    "    -상속성 : 가장 화려한 기능 제사용성 극대화 가장 복잡한 문법\n",
    "    -다향성 : 하나의 이름만으로 여러가지 기능을 사용할수 있다\n",
    "    -캡슐화 : 쓰기 편하게 잘 포장되어 있다. 접근을 막자는 보안의 의미도 있음\n",
    "    \n",
    "### 프로그래머가 공부해야할것\n",
    "    \n",
    "    -디자인패턴\n",
    "    -알고리즘"
   ]
  },
  {
   "cell_type": "code",
   "execution_count": 23,
   "metadata": {},
   "outputs": [],
   "source": [
    "class test:\n",
    "    a=10\n",
    "    \n",
    "    def display(self):\n",
    "        print(\"Test Class\")"
   ]
  },
  {
   "cell_type": "code",
   "execution_count": 3,
   "metadata": {},
   "outputs": [
    {
     "ename": "NameError",
     "evalue": "name 'a' is not defined",
     "output_type": "error",
     "traceback": [
      "\u001b[1;31m---------------------------------------------------------------------------\u001b[0m",
      "\u001b[1;31mNameError\u001b[0m                                 Traceback (most recent call last)",
      "\u001b[1;32m<ipython-input-3-bca0e2660b9f>\u001b[0m in \u001b[0;36m<module>\u001b[1;34m\u001b[0m\n\u001b[1;32m----> 1\u001b[1;33m \u001b[0mprint\u001b[0m\u001b[1;33m(\u001b[0m\u001b[0ma\u001b[0m\u001b[1;33m)\u001b[0m\u001b[1;33m\u001b[0m\u001b[1;33m\u001b[0m\u001b[0m\n\u001b[0m",
      "\u001b[1;31mNameError\u001b[0m: name 'a' is not defined"
     ]
    }
   ],
   "source": [
    "print(a) #설계도에 불가하기 때문에 생성된것이 아님"
   ]
  },
  {
   "cell_type": "code",
   "execution_count": 25,
   "metadata": {},
   "outputs": [
    {
     "name": "stdout",
     "output_type": "stream",
     "text": [
      "10\n",
      "10\n",
      "10\n",
      "100\n",
      "Test Class\n",
      "10\n",
      "Test Class\n"
     ]
    }
   ],
   "source": [
    "#test() 객체를 생성한다 인스턴스가 생성된다 메모리에 저장이 된다 \n",
    "print(test().a)\n",
    "test().a=100    #!! 새로운 객체가 계속 생성되서 메모리의 다른공간이 생겨서 부를수 없다 주소를 찾을수 없다!\n",
    "print(test().a)\n",
    "\n",
    "ob1=test() #객체를 생성할때 반드시 주소가 필요함 함수이면 리턴 객체면 주소값이 부여됨\n",
    "print(ob1.a)\n",
    "ob1.a=100\n",
    "print(ob1.a)\n",
    "ob1.display()\n",
    "\n",
    "ob2=test()\n",
    "ob1.a=50\n",
    "print(ob2.a)\n",
    "ob2.display()"
   ]
  },
  {
   "cell_type": "code",
   "execution_count": 26,
   "metadata": {},
   "outputs": [
    {
     "name": "stdout",
     "output_type": "stream",
     "text": [
      "<class 'int'>\n"
     ]
    }
   ],
   "source": [
    "# int도 또한 python 에있는 class 이다\n",
    "a=10\n",
    "print(type(a))"
   ]
  },
  {
   "cell_type": "code",
   "execution_count": 27,
   "metadata": {},
   "outputs": [],
   "source": [
    "#사용자 정의 자료형이다\n",
    "# 국적, 이름, 나이, 신장, 취미 에 해당하는 자료형을 만들어야한다면...\n",
    "\n",
    "class Info:\n",
    "    nation=str()\n",
    "    name=str()\n",
    "    age=int()\n",
    "    height=float()\n",
    "    habby=list()\n",
    "    \n",
    "    def display(self):\n",
    "        print(\"국적 : \",self.nation)\n",
    "        print(\"이름 : \",self.name)\n",
    "        print(\"나이 : \",self.age)\n",
    "        print(\"신장 : \",self.height)\n",
    "        print(\"취미 : \",self.habby)\n",
    "        print(\"\\n--------------------------\")\n"
   ]
  },
  {
   "cell_type": "code",
   "execution_count": 30,
   "metadata": {},
   "outputs": [],
   "source": [
    "p1=Info()\n",
    "p1.nation=\"Korea\"\n",
    "p1.name=\"KIM MIN JU\"\n",
    "p1.age=24\n",
    "p1.height=156.7\n",
    "p1.habby=['여행','독서']\n",
    "\n",
    "p2=Info()\n",
    "p2.nation=\"Korea\"\n",
    "p2.name=\"KIM MIN JI\"\n",
    "p2.age=20\n",
    "p2.height=166.5\n",
    "p2.habby=['음악감상','영화감상']\n",
    "\n",
    "p3=Info()\n",
    "p3.nation=\"Korea\"\n",
    "p3.name=\"KIM SU BEAN\"\n",
    "p3.age=28\n",
    "p3.height=158.7\n",
    "p3.habby=['여행','독서','공작']"
   ]
  },
  {
   "cell_type": "code",
   "execution_count": 34,
   "metadata": {},
   "outputs": [
    {
     "name": "stdout",
     "output_type": "stream",
     "text": [
      "\n",
      "--------------------------\n",
      "국적 :  Korea\n",
      "이름 :  KIM MIN JU\n",
      "나이 :  24\n",
      "신장 :  156.7\n",
      "취미 :  ['여행', '독서']\n",
      "\n",
      "--------------------------\n",
      "\n",
      "--------------------------\n",
      "국적 :  Korea\n",
      "이름 :  KIM MIN JI\n",
      "나이 :  20\n",
      "신장 :  166.5\n",
      "취미 :  ['음악감상', '영화감상']\n",
      "\n",
      "--------------------------\n",
      "\n",
      "--------------------------\n",
      "국적 :  Korea\n",
      "이름 :  KIM SU BEAN\n",
      "나이 :  28\n",
      "신장 :  158.7\n",
      "취미 :  ['여행', '독서', '공작']\n",
      "\n",
      "--------------------------\n",
      "국적 :  Korea\n",
      "이름 :  KIM MIN JU\n",
      "나이 :  24\n",
      "신장 :  156.7\n",
      "취미 :  ['여행', '독서']\n",
      "\n",
      "--------------------------\n",
      "국적 :  Korea\n",
      "이름 :  KIM MIN JI\n",
      "나이 :  20\n",
      "신장 :  166.5\n",
      "취미 :  ['음악감상', '영화감상']\n",
      "\n",
      "--------------------------\n",
      "국적 :  Korea\n",
      "이름 :  KIM SU BEAN\n",
      "나이 :  28\n",
      "신장 :  158.7\n",
      "취미 :  ['여행', '독서', '공작']\n",
      "\n",
      "--------------------------\n"
     ]
    }
   ],
   "source": [
    "data=[p1,p2,p3]\n",
    "\n",
    "for i in range(len(data)):\n",
    "    print(\"\\n--------------------------\")\n",
    "    print(\"국적 : \",data[i].nation)\n",
    "    print(\"이름 : \",data[i].name)\n",
    "    print(\"나이 : \",data[i].age)\n",
    "    print(\"신장 : \",data[i].height)\n",
    "    print(\"취미 : \",data[i].habby)\n",
    "    print(\"\\n--------------------------\")\n",
    "\n",
    "for i in data:\n",
    "    i.display()"
   ]
  },
  {
   "cell_type": "markdown",
   "metadata": {},
   "source": [
    "## 클래스 작성 문법(대부분 함수에 대한 문법)\n",
    "\n",
    "    1) self\n",
    "        -현재 사용중인 객체의 주소를 저장하고 있는 참조 변수\n",
    "        -read only\n",
    "        \n",
    "    2) 생성자(생성자 메소드)\n",
    "        -메소드\n",
    "        -객체를 생성하는 용도\n",
    "        -객체를 처음만들때 단 한번만 호출됨\n",
    "       \n",
    "       소멸자(거의안씀)\n",
    "        -마무리 작업\n",
    "        -혹시나 잘못해서 주소를 잊어버려서 미쳐 못한 작업을 해줄수 있는 용도\n",
    "    \n",
    "    3) static(정적인 고정된)\n",
    "        - 동일한 공간을 모든 객체들이 공동으로 사용\n",
    "          \n",
    "    4) _,__ (언더바)\n",
    "        \n",
    "        1) _ :\n",
    "            - 기본 인터 프리터(명령 프롬프트)에서 사용\n",
    "            - 값을 무시\n",
    "            - 변수명과 함께 사용(접근권한) __ 이것도 함께 사용\n",
    "    5) 상속\n",
    "        - 너무 긴 코드 파악이 어렵거나 그런 코드들을 제사용 하기 위해 사용한다\n",
    "        - 상속 설계시 고려할 점\n",
    "            *부모 클래스는 최소한의 코드로 작성(모든 자식들이 공통적으로 가지고있는 기능으로만 설계가 되어야한다\n",
    "            *중복된 코드가 있어서는 안된다\n",
    "            *상속 받은 자식 클래스는 반드시 기능을 확장(추가)시켜줘야한다\n",
    "        \n",
    "        -Override(제정의), Overload(중복정의)\n",
    "            #Override\n",
    "                *부모한태 받은것을 부모를 바꾸지말고 자식을 바꾸는 방법이다\n",
    "            #Overload(python 미지원)\n",
    "                *똑같은 이름의 함수를 여러개 만들어서 쓰는것\n",
    "                *편하긴 하지만 많은 리소스 비용이 든다\n",
    "                \n",
    "        -super(): 부모객체에 접근하기 위한 주소를 리턴"
   ]
  },
  {
   "cell_type": "code",
   "execution_count": 52,
   "metadata": {},
   "outputs": [],
   "source": [
    "#self 예제 : 객체의 주소값이다!\n",
    "class Test:\n",
    "    a=int()\n",
    "    b=float()\n",
    "    c=str()\n",
    "    def set_ver(self,da,db,dc):\n",
    "        print(\"self의 주소\",id(self))\n",
    "        self.a = da\n",
    "        self.b = db\n",
    "        self.c = dc\n",
    "    def show(self):\n",
    "        print(self.a,self.b,self.c)"
   ]
  },
  {
   "cell_type": "code",
   "execution_count": 53,
   "metadata": {},
   "outputs": [
    {
     "name": "stdout",
     "output_type": "stream",
     "text": [
      "self의 주소 139892296\n",
      "10 3.14 홍길동\n",
      "t1의 주소 : 139892296\n"
     ]
    }
   ],
   "source": [
    "t1=Test()\n",
    "t2=Test()\n",
    "t3=Test()\n",
    "\n",
    "t1.set_ver(10,3.14,'홍길동')\n",
    "t1.show()\n",
    "\n",
    "print(\"t1의 주소 :\",id(t1))"
   ]
  },
  {
   "cell_type": "code",
   "execution_count": 64,
   "metadata": {},
   "outputs": [
    {
     "name": "stdout",
     "output_type": "stream",
     "text": [
      "생성자 호출됨 None\n",
      "소멸자\n",
      "생성자 호출됨 30\n",
      "소멸자\n",
      "생성자 호출됨 None\n",
      "0 홍길동\n",
      "------------------------------\n",
      "생성자 호출됨 None\n",
      "소멸자\n",
      "생성자 호출됨 100\n",
      "<class '__main__.Test'>\n",
      "<class '__main__.Test'>\n",
      "<class '__main__.Test2'>\n",
      "True\n"
     ]
    }
   ],
   "source": [
    "#생성자 메소드 존재를 인식하는게 중요 클래스 안에는 항상 존재 한다!\n",
    "\n",
    "class Test:\n",
    "    a = 0\n",
    "    b = '홍길동'\n",
    "    \n",
    "    def __init__(self, args=None):\n",
    "        print(\"생성자 호출됨\",args)\n",
    "    def __del__(self):                               #소멸자\n",
    "        print(\"소멸자\")\n",
    "        \n",
    "class Test2:\n",
    "    pass\n",
    "################################\n",
    "\n",
    "Test() # 함수호출과 같은 모양을 하는 이유가 __init__함수를 호출하기 위해 사용\n",
    "Test(30)\n",
    "t1=Test()\n",
    "print(t1.a,t1.b)\n",
    "\n",
    "print(\"-\"*30)\n",
    "\n",
    "t1=Test()\n",
    "t2=Test(100)\n",
    "t3=Test2()\n",
    "\n",
    "print(type(t1))\n",
    "print(type(t2))\n",
    "print(type(t3))\n",
    "\n",
    "#isinstance(객체,클래스(설계도)) 현재 클래스로 만든 객체가 맞는지 확인\n",
    "\n",
    "print(isinstance(t1,Test))\n",
    "print(isinstance(t2,Test))\n",
    "print(isinstance(t3,Test))"
   ]
  },
  {
   "cell_type": "code",
   "execution_count": 68,
   "metadata": {},
   "outputs": [],
   "source": [
    "class Test:\n",
    "    def __init__(self,da=None,db=None,dc=None):\n",
    "        self.a = da\n",
    "        self.b = db\n",
    "        self.c = dc\n",
    "        \n",
    "    def set_val(self,da,db,dc):\n",
    "        self.a = da\n",
    "        self.b = db\n",
    "        self.c = dc\n",
    "    def show(self):\n",
    "        print(self.a,self.b,self.c)"
   ]
  },
  {
   "cell_type": "code",
   "execution_count": 69,
   "metadata": {},
   "outputs": [
    {
     "name": "stdout",
     "output_type": "stream",
     "text": [
      "소멸자\n",
      "10 20 30\n",
      "20 30 40\n"
     ]
    }
   ],
   "source": [
    "t1=Test()\n",
    "t1.set_val(10,20,30)\n",
    "t1.show()\n",
    "\n",
    "t2=Test(20,30,40)\n",
    "t2.show()"
   ]
  },
  {
   "cell_type": "code",
   "execution_count": 32,
   "metadata": {},
   "outputs": [],
   "source": [
    "#static -객체안에 것들을 맴버라고 하는데 스테틱 메소드는 멤버 메소드라고 하지 않는다 \n",
    "#       -객체 생성과 상관없이 프로그램이 실행되면 기본으로 메모리에 실행이 된다\n",
    "\n",
    "class Info:\n",
    "    nation='한국'\n",
    "    name=str()\n",
    "    age=int()\n",
    "    height=float()\n",
    "    telephone=int()\n",
    "    \n",
    "    def display(self):\n",
    "        print(\"국적 : \",self.nation)\n",
    "        print(\"이름 : \",self.name)\n",
    "        print(\"나이 : \",self.age)\n",
    "        print(\"신장 : \",self.height)\n",
    "        print(\"휴대전화 : \",self.telephone)\n",
    "        print(\"\\n--------------------------\")\n",
    "    \n",
    "    @staticmethod                                   #정식적으로 static method 가 되어버리기 때문에 self 를 받을수 없다\n",
    "    def tell(ph):                                   #self 를 쓰지 않아도 static 메소드로 사용할수 있음\n",
    "        #print(\"대표 전화번호 : {} 국가: {}\".format(ph,Info.nation)) self 사용불가\n",
    "        Info.telephone = ph\n",
    "    \n",
    "    @staticmethod\n",
    "    def tel_show():\n",
    "        print(\"대표 전화번호 : {} 국가: {}\".format(Info.telephone,Info.nation)) "
   ]
  },
  {
   "cell_type": "code",
   "execution_count": 33,
   "metadata": {},
   "outputs": [],
   "source": [
    "Info.tell(\"010-4585-6532\")\n",
    "p1=Info()\n",
    "p1.tell(\"222-2222\")"
   ]
  },
  {
   "cell_type": "code",
   "execution_count": 34,
   "metadata": {},
   "outputs": [
    {
     "name": "stdout",
     "output_type": "stream",
     "text": [
      "국적 :  한국\n",
      "이름 :  \n",
      "나이 :  0\n",
      "신장 :  0.0\n",
      "휴대전화 :  222-2222\n",
      "\n",
      "--------------------------\n",
      "대표 전화번호 : 222-2222 국가: 한국\n"
     ]
    }
   ],
   "source": [
    "p2=Info()\n",
    "p2.display()\n",
    "p2.tel_show()"
   ]
  },
  {
   "cell_type": "code",
   "execution_count": 41,
   "metadata": {},
   "outputs": [],
   "source": [
    "class Counter:\n",
    "    n_cnt=0\n",
    "    def __init__(self):\n",
    "        self.n_cnt+=1 \n",
    "    \n",
    "    def printCall(self):\n",
    "        print(\"객체의 수 : \",self.n_cnt)\n",
    "    \n",
    "    "
   ]
  },
  {
   "cell_type": "code",
   "execution_count": 42,
   "metadata": {},
   "outputs": [
    {
     "name": "stdout",
     "output_type": "stream",
     "text": [
      "객체의 수 :  1\n"
     ]
    }
   ],
   "source": [
    "a,b,c=Counter(),Counter(),Counter()\n",
    "\n",
    "a.printCall() #객체별로 카운터 하는거기 때문에 전체 객체의 수를 알수는 없다"
   ]
  },
  {
   "cell_type": "code",
   "execution_count": 112,
   "metadata": {},
   "outputs": [],
   "source": [
    "class Counter:\n",
    "    n_cnt=0\n",
    "    @staticmethod                                               #or self 로 사용하고 .n_cnt의 위치를 기본공간\n",
    "    def __init__():\n",
    "        Counter.n_cnt+=1 \n",
    "    @staticmethod\n",
    "    def printCall():\n",
    "        print(\"객체의 수 : \",Counter.n_cnt)\n",
    "    \n",
    "    @classmethod\n",
    "    def printCall2(c):\n",
    "        print(\"{} called 객체의 수 : {}\".format(c,c.n_cnt))\n",
    "    "
   ]
  },
  {
   "cell_type": "code",
   "execution_count": 113,
   "metadata": {},
   "outputs": [
    {
     "name": "stdout",
     "output_type": "stream",
     "text": [
      "객체의 수 :  3\n",
      "객체의 수 :  3\n"
     ]
    }
   ],
   "source": [
    "Counter.n_cnt=0\n",
    "a,b,c=Counter(),Counter(),Counter()\n",
    "\n",
    "a.printCall()\n",
    "a.n_cnt=4\n",
    "b.printCall()"
   ]
  },
  {
   "cell_type": "code",
   "execution_count": 114,
   "metadata": {},
   "outputs": [],
   "source": [
    "class printt:\n",
    "    n_cnt=0\n",
    "    @staticmethod\n",
    "    def __init__():\n",
    "        printt.n_cnt+=1\n",
    "    @staticmethod\n",
    "    def hello():\n",
    "        print(\"Hello World\")"
   ]
  },
  {
   "cell_type": "code",
   "execution_count": 115,
   "metadata": {},
   "outputs": [
    {
     "name": "stdout",
     "output_type": "stream",
     "text": [
      "Hello World\n"
     ]
    }
   ],
   "source": [
    "printt.hello()"
   ]
  },
  {
   "cell_type": "code",
   "execution_count": 116,
   "metadata": {},
   "outputs": [
    {
     "name": "stdout",
     "output_type": "stream",
     "text": [
      "Hello World\n",
      "3\n",
      "3\n",
      "3\n",
      "4\n"
     ]
    }
   ],
   "source": [
    "printt.n_cnt=0\n",
    "a=printt\n",
    "b,c,d=printt(),printt(),printt()\n",
    "a.hello()\n",
    "print(a.n_cnt)\n",
    "print(d.n_cnt)\n",
    "d.n_cnt=4\n",
    "print(a.n_cnt)\n",
    "print(d.n_cnt)"
   ]
  },
  {
   "cell_type": "code",
   "execution_count": 117,
   "metadata": {},
   "outputs": [
    {
     "name": "stdout",
     "output_type": "stream",
     "text": [
      "<class '__main__.Counter'> called 객체의 수 : 3\n",
      "<class '__main__.Counter'> called 객체의 수 : 4\n"
     ]
    }
   ],
   "source": [
    "Counter.printCall2()  #classmethod 는 클레스의 이름을 기본인자로 전달한다\n",
    "a=Counter()\n",
    "Counter.printCall2()"
   ]
  },
  {
   "cell_type": "code",
   "execution_count": 125,
   "metadata": {},
   "outputs": [],
   "source": [
    "#book\n",
    "class Counter:\n",
    "    n_cnt=0\n",
    "    def __init__(self):\n",
    "        Counter.n_cnt+=1 \n",
    "    \n",
    "    def printCall():\n",
    "        print(\"객체의 수 : \",Counter.n_cnt)\n",
    "    \n",
    "    def printCall2(c):\n",
    "        print(\"객체의 수 : \",c.n_cnt)\n",
    "        \n",
    "    s1=staticmethod(printCall)\n",
    "    s2=classmethod(printCall2)"
   ]
  },
  {
   "cell_type": "code",
   "execution_count": 126,
   "metadata": {},
   "outputs": [],
   "source": [
    "Counter.n_cnt=0\n",
    "a,b,c=Counter(),Counter(),Counter()\n"
   ]
  },
  {
   "cell_type": "code",
   "execution_count": 128,
   "metadata": {},
   "outputs": [
    {
     "name": "stdout",
     "output_type": "stream",
     "text": [
      "객체의 수 :  3\n",
      "객체의 수 :  3\n",
      "객체의 수 :  3\n"
     ]
    }
   ],
   "source": [
    "a.s1()\n",
    "a.s2()\n",
    "a.n_cnt=5\n",
    "a.s2()  #무조건 main class 위치(주소)를 따라간다"
   ]
  },
  {
   "cell_type": "markdown",
   "metadata": {},
   "source": [
    "<hr style=\"background-color: rgb(0,0,0);height: 2px;\"/>"
   ]
  },
  {
   "cell_type": "code",
   "execution_count": 132,
   "metadata": {},
   "outputs": [
    {
     "name": "stdout",
     "output_type": "stream",
     "text": [
      "0\n",
      "0\n",
      "20\n"
     ]
    }
   ],
   "source": [
    "#원래대로 설계된 맴버변수말고 객체별로 별도의 변수를 추가할수 있다.\n",
    "\n",
    "class Test:\n",
    "    a=0\n",
    "    \n",
    "    def display(self):\n",
    "        print(self.a)\n",
    "\n",
    "################################\n",
    "\n",
    "ob1=Test()\n",
    "ob1.display()\n",
    "\n",
    "ob2=Test()\n",
    "ob2.display()\n",
    "\n",
    "ob2.b=20\n",
    "print(ob2.b)"
   ]
  },
  {
   "cell_type": "code",
   "execution_count": 143,
   "metadata": {},
   "outputs": [
    {
     "name": "stdout",
     "output_type": "stream",
     "text": [
      "20 30\n",
      "20 30\n",
      "10 30\n",
      "10 60\n",
      "0\n",
      "1\n",
      "2\n",
      "3\n",
      "**********"
     ]
    }
   ],
   "source": [
    "#_\n",
    "\n",
    "a,b,c=(10,20,30)\n",
    "print(b,c)\n",
    "\n",
    "_,b,c=(10,20,30)\n",
    "print(b,c)\n",
    "b,_,c=(10,20,30)\n",
    "print(b,c)\n",
    "\n",
    "a,_,_,_,_,b=(10,20,30,40,50,60)\n",
    "a,*_,b=(10,20,30,40,50,60)\n",
    "print(a,b)\n",
    "\n",
    "for i,_ in enumerate(['가','나','다','라']):\n",
    "    print(i)\n",
    "\n",
    "for _ in range(10):\n",
    "    print(\"*\",end=\"\")"
   ]
  },
  {
   "cell_type": "code",
   "execution_count": 165,
   "metadata": {},
   "outputs": [],
   "source": [
    "#_, __ 접근 권한 python은 아닌것(private,protected,public) _ 갯수 = 강도(강조)\n",
    "\n",
    "class Test:\n",
    "    str1=\"안녕하세요\"\n",
    "    _str2=\"홍길동 입니다\"\n",
    "    __str3=\"반갑습니다\"\n",
    "    \n",
    "    def __funcTest(self):\n",
    "        print(\"funcTest 입니다\",self.__str3)"
   ]
  },
  {
   "cell_type": "code",
   "execution_count": 167,
   "metadata": {},
   "outputs": [
    {
     "name": "stdout",
     "output_type": "stream",
     "text": [
      "안녕하세요\n",
      "홍길동 입니다\n",
      "안녕\n",
      "반갑습니다\n",
      "funcTest 입니다 반갑습니다\n",
      "None\n"
     ]
    }
   ],
   "source": [
    "ob=Test()\n",
    "print(ob.str1)\n",
    "print(ob._str2)\n",
    "#_하나는 쓰는데에는 지장이 없다!\n",
    "ob1=Test()\n",
    "ob1._str2=\"안녕\"\n",
    "print(ob1._str2)\n",
    "\n",
    "#dir(ob)\n",
    "\n",
    "#print(ob1.__str3)  #__는 사라진다 있지만 이름이 변경되어 존재한다\n",
    "print(ob1._Test__str3)\n",
    "print(ob1._Test__funcTest())"
   ]
  },
  {
   "cell_type": "code",
   "execution_count": 164,
   "metadata": {},
   "outputs": [
    {
     "data": {
      "text/plain": [
       "['_Test__funcTest',\n",
       " '_Test__str3',\n",
       " '__class__',\n",
       " '__delattr__',\n",
       " '__dict__',\n",
       " '__dir__',\n",
       " '__doc__',\n",
       " '__eq__',\n",
       " '__format__',\n",
       " '__ge__',\n",
       " '__getattribute__',\n",
       " '__gt__',\n",
       " '__hash__',\n",
       " '__init__',\n",
       " '__init_subclass__',\n",
       " '__le__',\n",
       " '__lt__',\n",
       " '__module__',\n",
       " '__ne__',\n",
       " '__new__',\n",
       " '__reduce__',\n",
       " '__reduce_ex__',\n",
       " '__repr__',\n",
       " '__setattr__',\n",
       " '__sizeof__',\n",
       " '__str__',\n",
       " '__subclasshook__',\n",
       " '__weakref__',\n",
       " '_str2',\n",
       " 'str1']"
      ]
     },
     "execution_count": 164,
     "metadata": {},
     "output_type": "execute_result"
    }
   ],
   "source": [
    "dir(ob1)"
   ]
  },
  {
   "cell_type": "markdown",
   "metadata": {},
   "source": [
    "\n",
    "## List Comprehension(파이썬 다운 문법)\n"
   ]
  },
  {
   "cell_type": "code",
   "execution_count": 174,
   "metadata": {},
   "outputs": [
    {
     "name": "stdout",
     "output_type": "stream",
     "text": [
      "[0, 2, 4, 6, 8]\n"
     ]
    }
   ],
   "source": [
    "result=[]\n",
    "for i in range(10):\n",
    "    if i%2==0:\n",
    "        result.append(i)\n",
    "\n",
    "print(result)"
   ]
  },
  {
   "cell_type": "code",
   "execution_count": 173,
   "metadata": {},
   "outputs": [
    {
     "name": "stdout",
     "output_type": "stream",
     "text": [
      "[0, 1, 2, 3, 4, 5, 6, 7, 8, 9]\n"
     ]
    }
   ],
   "source": [
    "result=[i for i in range(10)]\n",
    "print(result)"
   ]
  },
  {
   "cell_type": "code",
   "execution_count": 175,
   "metadata": {},
   "outputs": [
    {
     "name": "stdout",
     "output_type": "stream",
     "text": [
      "[0, 2, 4, 6, 8]\n"
     ]
    }
   ],
   "source": [
    "result=[i for i in range(10) if i%2==0]\n",
    "print(result)"
   ]
  },
  {
   "cell_type": "code",
   "execution_count": 178,
   "metadata": {},
   "outputs": [
    {
     "data": {
      "text/plain": [
       "['HW',\n",
       " 'Ho',\n",
       " 'Hr',\n",
       " 'Hd',\n",
       " 'eW',\n",
       " 'eo',\n",
       " 'er',\n",
       " 'ed',\n",
       " 'lW',\n",
       " 'lo',\n",
       " 'lr',\n",
       " 'ld',\n",
       " 'lW',\n",
       " 'lo',\n",
       " 'lr',\n",
       " 'ld',\n",
       " 'oW',\n",
       " 'oo',\n",
       " 'or',\n",
       " 'od']"
      ]
     },
     "execution_count": 178,
     "metadata": {},
     "output_type": "execute_result"
    }
   ],
   "source": [
    "word1=\"Hello\"\n",
    "word2=\"Word\"\n",
    "result=[]\n",
    "for i in word1:\n",
    "    for j in word2:\n",
    "        result.append(i+j)\n",
    "result"
   ]
  },
  {
   "cell_type": "code",
   "execution_count": 179,
   "metadata": {},
   "outputs": [
    {
     "data": {
      "text/plain": [
       "['HW',\n",
       " 'Ho',\n",
       " 'Hr',\n",
       " 'Hd',\n",
       " 'eW',\n",
       " 'eo',\n",
       " 'er',\n",
       " 'ed',\n",
       " 'lW',\n",
       " 'lo',\n",
       " 'lr',\n",
       " 'ld',\n",
       " 'lW',\n",
       " 'lo',\n",
       " 'lr',\n",
       " 'ld',\n",
       " 'oW',\n",
       " 'oo',\n",
       " 'or',\n",
       " 'od']"
      ]
     },
     "execution_count": 179,
     "metadata": {},
     "output_type": "execute_result"
    }
   ],
   "source": [
    "word1=\"Hello\"\n",
    "word2=\"Word\"\n",
    "result=[i+j for i in word1 for j in word2]\n",
    "result"
   ]
  },
  {
   "cell_type": "code",
   "execution_count": 181,
   "metadata": {},
   "outputs": [
    {
     "data": {
      "text/plain": [
       "['AD', 'AB', 'BD', 'BA', 'CD', 'CB', 'CA']"
      ]
     },
     "execution_count": 181,
     "metadata": {},
     "output_type": "execute_result"
    }
   ],
   "source": [
    "case1=['A','B','C']\n",
    "case2=['D','B','A']\n",
    "result=[i+j for i in case1 for j in case2 if i!=j]\n",
    "result"
   ]
  },
  {
   "cell_type": "code",
   "execution_count": 186,
   "metadata": {},
   "outputs": [
    {
     "name": "stdout",
     "output_type": "stream",
     "text": [
      "['The', 'quick', 'brown', 'fox', 'jump', 'over', 'the', 'lazy', 'dog']\n",
      "['THE', 'the', 3]\n",
      "['QUICK', 'quick', 5]\n",
      "['BROWN', 'brown', 5]\n",
      "['FOX', 'fox', 3]\n",
      "['JUMP', 'jump', 4]\n",
      "['OVER', 'over', 4]\n",
      "['THE', 'the', 3]\n",
      "['LAZY', 'lazy', 4]\n",
      "['DOG', 'dog', 3]\n"
     ]
    }
   ],
   "source": [
    "words=\"The quick brown fox jump over the lazy dog\".split()\n",
    "print(words)\n",
    "result=[[v.upper(),v.lower(),len(v)]for v in words]\n",
    "\n",
    "for i in result:\n",
    "    print(i)"
   ]
  },
  {
   "cell_type": "markdown",
   "metadata": {},
   "source": [
    "<hr style=\"background-color: rgb(0,0,0);height: 2px;\"/>"
   ]
  },
  {
   "cell_type": "code",
   "execution_count": 196,
   "metadata": {},
   "outputs": [],
   "source": [
    "#상속\n",
    "\n",
    "class Animal:\n",
    "    def move(self):                                    #<- 부모클래스(baise class/MS)(super class/py)\n",
    "        print(\"움직인다\")\n",
    "\n",
    "##################################\n",
    "class Dog(Animal):                                    #<- 자식 클래스(derived class/MS)(sub class/py)\n",
    "    def bark(self):\n",
    "        print(\"멍멍\")\n",
    "\n",
    "#################################\n",
    "class Horse(Animal):\n",
    "    def speed(self,s):\n",
    "        print(\"현재속도 : {} km/s\".format(s))"
   ]
  },
  {
   "cell_type": "code",
   "execution_count": 198,
   "metadata": {},
   "outputs": [
    {
     "name": "stdout",
     "output_type": "stream",
     "text": [
      "멍멍\n",
      "움직인다\n",
      "현재속도 : 50 km/s\n",
      "움직인다\n"
     ]
    }
   ],
   "source": [
    "puppy=Dog()\n",
    "puppy.bark()\n",
    "puppy.move()\n",
    "\n",
    "h1=Horse()\n",
    "h1.speed(50)\n",
    "h1.move()"
   ]
  },
  {
   "cell_type": "code",
   "execution_count": 199,
   "metadata": {},
   "outputs": [],
   "source": [
    "class Calculator:\n",
    "    def __init__(self,first=None,second=None):\n",
    "        self.first=first\n",
    "        self.second=second\n",
    "    def plus(self):\n",
    "        return self.first+self.second\n",
    "    def minu(self):\n",
    "        return self.first-self.second\n",
    "    def mutiply(self):\n",
    "        return self.first*self.second\n",
    "    def div(self):\n",
    "        return self.first/self.second"
   ]
  },
  {
   "cell_type": "code",
   "execution_count": 204,
   "metadata": {},
   "outputs": [],
   "source": [
    "class CalcV1(Calculator):\n",
    "    def pow(self):\n",
    "        return self.first**self.second\n",
    "    \n",
    "    def div2(self):\n",
    "        if self.second==0:\n",
    "            return \"0으로 나눌수 없다\"\n",
    "        else:\n",
    "            return self.first/self.second\n",
    "#div method and div2 method 있기 때문에 아쉬움 낭비된다(메모리에 존재)"
   ]
  },
  {
   "cell_type": "code",
   "execution_count": 206,
   "metadata": {},
   "outputs": [
    {
     "name": "stdout",
     "output_type": "stream",
     "text": [
      "9\n",
      "7.5\n",
      "1\n",
      "0으로 나눌수 없다\n"
     ]
    }
   ],
   "source": [
    "calc1=Calculator(4,5)\n",
    "print(calc1.plus())\n",
    "\n",
    "calc2=CalcV1(30,4)\n",
    "print(calc2.div())\n",
    "\n",
    "calc2=CalcV1(30,0)\n",
    "print(calc2.pow())\n",
    "print(calc2.div2())"
   ]
  },
  {
   "cell_type": "code",
   "execution_count": 207,
   "metadata": {},
   "outputs": [],
   "source": [
    "#Override : 상속에서만 사용할수 있다\n",
    "class CalcV1(Calculator):\n",
    "    def pow(self):\n",
    "        return self.first**self.second\n",
    "    \n",
    "    def div(self):                      #Mother class 와 same name method 로 바꿔주면된다\n",
    "        if self.second==0:\n",
    "            return \"0으로 나눌수 없다\"\n",
    "        else:\n",
    "            return self.first/self.second"
   ]
  },
  {
   "cell_type": "code",
   "execution_count": 208,
   "metadata": {},
   "outputs": [
    {
     "name": "stdout",
     "output_type": "stream",
     "text": [
      "7.5\n",
      "1\n",
      "0으로 나눌수 없다\n"
     ]
    }
   ],
   "source": [
    "calc2=CalcV1(30,4)\n",
    "print(calc2.div())\n",
    "\n",
    "calc2=CalcV1(30,0)\n",
    "print(calc2.pow())\n",
    "print(calc2.div())"
   ]
  },
  {
   "cell_type": "code",
   "execution_count": 218,
   "metadata": {},
   "outputs": [],
   "source": [
    "class Person:\n",
    "    say=\"난 사람이야\"\n",
    "    age=\"20\"\n",
    "    \n",
    "    def __init__(self,age):\n",
    "        print(\"Parson Class\")\n",
    "        self.age=age\n",
    "    def info(self):\n",
    "        print(\"나이 : {} 하고싶은말 : {}\".format(self.age,self.say))\n",
    "\n",
    "#########################################################\n",
    "\n",
    "class Employee(Person):\n",
    "    say=\"일하는 동물\"\n",
    "    subject=\"근로자\"\n",
    "    \n",
    "    def __init__(self):\n",
    "        print(\"Employee Class\")\n",
    "        \n",
    "    def einfo(self):\n",
    "        print(self.age)\n",
    "        print(self.say)\n",
    "        print(super().age)\n",
    "        print(super().say)\n",
    "\n",
    "#########################################################"
   ]
  },
  {
   "cell_type": "code",
   "execution_count": 220,
   "metadata": {},
   "outputs": [
    {
     "name": "stdout",
     "output_type": "stream",
     "text": [
      "Employee Class\n",
      "나이 : 20 하고싶은말 : 일하는 동물\n",
      "나이 : 30 하고싶은말 : 일하는 동물\n",
      "30\n",
      "일하는 동물\n",
      "20\n",
      "난 사람이야\n"
     ]
    }
   ],
   "source": [
    "p1=Employee()\n",
    "p1.info()\n",
    "p1.age=30\n",
    "p1.info()\n",
    "\n",
    "#########################################################\n",
    "\n",
    "#자식이 부모한태 접근할때 Super 라는 함수 사용\n",
    "p1.einfo()"
   ]
  },
  {
   "cell_type": "markdown",
   "metadata": {},
   "source": [
    "<hr style=\"background-color: rgb(0,0,0);height: 2px;\"/>"
   ]
  },
  {
   "cell_type": "code",
   "execution_count": 235,
   "metadata": {},
   "outputs": [],
   "source": [
    "class Person:\n",
    "    say=\"난 사람이야\"\n",
    "    __age=\"20\"\n",
    "    \n",
    "    def __init__(self,age):\n",
    "        print(\"Parson Class\")\n",
    "        self.__age=age\n",
    "        \n",
    "    def info(self):\n",
    "        print(\"나이 : {} 하고싶은말 : {}\".format(self.__age,self.say))\n",
    "    \n",
    "    def getter(self):\n",
    "        return self.__age\n",
    "    \n",
    "    def setter(self,age):\n",
    "        #검증이 가능하다 x=인수 라고 하면 검증할 시간이 없거나 검증코드를 반복하여 사용해야 하기 때문에 메소드를 사용하는것이 좋다\n",
    "        self.__age=age\n",
    "\n",
    "#########################################################\n",
    "\n",
    "class Employee(Person):\n",
    "    say=\"일하는 동물\"\n",
    "    subject=\"근로자\"\n",
    "    \n",
    "    def __init__(self):\n",
    "        print(\"Employee Class\")\n",
    "        \n",
    "    def einfo(self):\n",
    "        print(self.getter())\n",
    "        print(self.say)\n",
    "\n"
   ]
  },
  {
   "cell_type": "code",
   "execution_count": 237,
   "metadata": {},
   "outputs": [
    {
     "name": "stdout",
     "output_type": "stream",
     "text": [
      "Employee Class\n",
      "나이 : 20 하고싶은말 : 일하는 동물\n",
      "20\n",
      "일하는 동물\n",
      "30\n",
      "일하는 동물\n"
     ]
    }
   ],
   "source": [
    "p1=Employee()\n",
    "p1.info()\n",
    "p1.einfo()\n",
    "#자식 클래스라고 하더라도 부모 클래스에서는 __ 친것을 물려주지 않는다!!!\n",
    "p1.setter(30)\n",
    "p1.einfo()"
   ]
  },
  {
   "cell_type": "code",
   "execution_count": null,
   "metadata": {},
   "outputs": [],
   "source": []
  }
 ],
 "metadata": {
  "kernelspec": {
   "display_name": "Python 3",
   "language": "python",
   "name": "python3"
  },
  "language_info": {
   "codemirror_mode": {
    "name": "ipython",
    "version": 3
   },
   "file_extension": ".py",
   "mimetype": "text/x-python",
   "name": "python",
   "nbconvert_exporter": "python",
   "pygments_lexer": "ipython3",
   "version": "3.7.4"
  }
 },
 "nbformat": 4,
 "nbformat_minor": 2
}
