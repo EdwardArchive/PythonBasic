{
 "cells": [
  {
   "cell_type": "markdown",
   "metadata": {},
   "source": [
    "## 예외처리를 하는 이유\n",
    "\n",
    "    -자연스러운 예외 메세지를 출력하기 위한\n",
    "    -프로그램의 비정상적인 종료를 방지\n",
    "    \n",
    "## 문법\n",
    "\n",
    "    try:\n",
    "        코드\n",
    "        ...\n",
    "    except: [예외처리 클래스(in 변수)]:                       []생략가능\n",
    "        코드\n",
    "        ...\n",
    " "
   ]
  },
  {
   "cell_type": "code",
   "execution_count": 13,
   "metadata": {},
   "outputs": [
    {
     "name": "stdout",
     "output_type": "stream",
     "text": [
      "3.3333333333333335\n",
      "인덱스가 잘못되었습니다\n",
      "나머지 코드실행~~\n",
      "\n",
      "5.0\n",
      "인덱스가 잘못되었습니다\n",
      "나머지 코드실행~~\n",
      "\n",
      "0으로 나누시면 안되요!\n",
      "나머지 코드실행~~\n",
      "\n",
      "숫자만 입력하세요!!\n",
      "나머지 코드실행~~\n",
      "\n"
     ]
    }
   ],
   "source": [
    "def test(num):\n",
    "    try:\n",
    "        a=10/num\n",
    "        print(a)\n",
    "        b=[0,1,2]\n",
    "        print(b[4])\n",
    "    except ZeroDivisionError:\n",
    "        print(\"0으로 나누시면 안되요!\")\n",
    "    except IndexError:\n",
    "        print(\"인덱스가 잘못되었습니다\")\n",
    "    except TypeError:\n",
    "        print(\"숫자만 입력하세요!!\")\n",
    "    except:\n",
    "        print(\"알수없는 에러입니다\")\n",
    "    print(\"나머지 코드실행~~\\n\")\n",
    "\n",
    "###################################\n",
    "\n",
    "test(3)\n",
    "test(2)\n",
    "test(0)\n",
    "test(\"ㅇㄴㅇ\")"
   ]
  },
  {
   "cell_type": "code",
   "execution_count": 19,
   "metadata": {},
   "outputs": [
    {
     "name": "stdout",
     "output_type": "stream",
     "text": [
      "3.3333333333333335\n",
      "인덱스가 잘못되었습니다\n",
      "나머지 코드실행~~\n",
      "\n",
      "5.0\n",
      "인덱스가 잘못되었습니다\n",
      "나머지 코드실행~~\n",
      "\n",
      "0으로 나누시면 안되요!\n",
      "나머지 코드실행~~\n",
      "\n",
      "예상치 못한 에러입니다 :  unsupported operand type(s) for /: 'int' and 'str'\n",
      "나머지 코드실행~~\n",
      "\n"
     ]
    }
   ],
   "source": [
    "# 참조 변수\n",
    "def test(num):\n",
    "    try:\n",
    "        a=10/num\n",
    "        print(a)\n",
    "        b=[0,1,2]\n",
    "        print(b[4])\n",
    "    except ZeroDivisionError :\n",
    "        print(\"0으로 나누시면 안되요!\")\n",
    "    except IndexError:\n",
    "        print(\"인덱스가 잘못되었습니다\")\n",
    "    except Exception as e:\n",
    "        print(\"예상치 못한 에러입니다 : \",e)\n",
    "    print(\"나머지 코드실행~~\\n\")\n",
    "\n",
    "###################################\n",
    "\n",
    "test(3)\n",
    "test(2)\n",
    "test(0)\n",
    "test(\"ㅇㄴㅇ\")"
   ]
  },
  {
   "cell_type": "code",
   "execution_count": null,
   "metadata": {},
   "outputs": [],
   "source": []
  }
 ],
 "metadata": {
  "kernelspec": {
   "display_name": "Python 3",
   "language": "python",
   "name": "python3"
  },
  "language_info": {
   "codemirror_mode": {
    "name": "ipython",
    "version": 3
   },
   "file_extension": ".py",
   "mimetype": "text/x-python",
   "name": "python",
   "nbconvert_exporter": "python",
   "pygments_lexer": "ipython3",
   "version": "3.7.4"
  }
 },
 "nbformat": 4,
 "nbformat_minor": 2
}
