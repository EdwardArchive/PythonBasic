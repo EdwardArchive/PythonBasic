{
 "cells": [
  {
   "cell_type": "markdown",
   "metadata": {},
   "source": [
    "### 변수의 생존 범위 : global(전역변수), nonlocal"
   ]
  },
  {
   "cell_type": "code",
   "execution_count": 3,
   "metadata": {},
   "outputs": [
    {
     "name": "stdout",
     "output_type": "stream",
     "text": [
      "한국대표\n",
      "홍길동 지역대표\n",
      "한국대표\n"
     ]
    }
   ],
   "source": [
    "player=\"한국대표\"\n",
    "\n",
    "def Sports():\n",
    "    \n",
    "    #global player 전역변수를 가져다 쓰기 위한 옵션\n",
    "    name=\"홍길동\"\n",
    "    player=\"지역대표\"\n",
    "    print(name,player)\n",
    "\n",
    "######################################\n",
    "print(player)\n",
    "Sports()\n",
    "print(player)"
   ]
  },
  {
   "cell_type": "code",
   "execution_count": 20,
   "metadata": {},
   "outputs": [
    {
     "name": "stdout",
     "output_type": "stream",
     "text": [
      "kbs2 함수 내부 7 7\n",
      "kbs1 함수내부 2\n",
      "100\n"
     ]
    }
   ],
   "source": [
    "a = 100\n",
    "\n",
    "def kbs1():\n",
    "    a=7\n",
    "    \n",
    "    def kbs2():                                 #함수가 중첩이됨 옛날언어면 불가능\n",
    "        #global a\n",
    "        #a=9\n",
    "        nonlocal a\n",
    "        print(\"kbs2 함수 내부\",a,a)\n",
    "        a=2\n",
    "    kbs2()\n",
    "    print(\"kbs1 함수내부\",a)\n",
    "\n",
    "##############################################################\n",
    "kbs1()\n",
    "print(a)"
   ]
  },
  {
   "cell_type": "markdown",
   "metadata": {},
   "source": [
    "### 클로저(closer)\n",
    "    \n",
    "    -함수 밖에서 임의의 함수 안에 선언된 지역변수를 계속 참조할 수 있게 하는 방법\n",
    "    "
   ]
  },
  {
   "cell_type": "code",
   "execution_count": 31,
   "metadata": {},
   "outputs": [
    {
     "name": "stdout",
     "output_type": "stream",
     "text": [
      "1\n",
      "2\n",
      "3\n",
      "0\n"
     ]
    }
   ],
   "source": [
    "# 클로저 최대한 전역변수를 사용하지않고 지역변수를 활용하는방법 \n",
    "count = 0\n",
    "\n",
    "def out():\n",
    "    count=0\n",
    "    \n",
    "    def inn():\n",
    "        nonlocal count\n",
    "        count += 1\n",
    "        print(count)\n",
    "    inn()\n",
    "    return inn                         #주소값을 리턴한다 \n",
    "#############################\n",
    "a=out()                                #받은 주소값으로 부터 연산한다\n",
    "a()\n",
    "a()\n",
    "print(count)"
   ]
  },
  {
   "cell_type": "code",
   "execution_count": 32,
   "metadata": {},
   "outputs": [
    {
     "name": "stdout",
     "output_type": "stream",
     "text": [
      "1\n",
      "2\n",
      "3\n",
      "3\n"
     ]
    }
   ],
   "source": [
    "# 기존에 알고있던 전역번수\n",
    "count = 0\n",
    "\n",
    "def out():\n",
    "    count=0\n",
    "    \n",
    "    def inn():\n",
    "        global count\n",
    "        count += 1\n",
    "        print(count)\n",
    "    inn()                      \n",
    "#############################\n",
    "out()                                \n",
    "out()  \n",
    "out()  \n",
    "print(count)"
   ]
  },
  {
   "cell_type": "code",
   "execution_count": 12,
   "metadata": {},
   "outputs": [
    {
     "name": "stdout",
     "output_type": "stream",
     "text": [
      "2500.0\n",
      "1250.0\n"
     ]
    }
   ],
   "source": [
    "def outer(tax):\n",
    "    def inner(su,dan):\n",
    "        amonet = su * dan * tax\n",
    "        return amonet\n",
    "    return inner\n",
    "#############################################\n",
    "tax_str = outer(0.1)\n",
    "re = tax_str(5,5000)\n",
    "print(re)\n",
    "\n",
    "tax_str = outer(0.05)\n",
    "re = tax_str(5,5000)\n",
    "print(re)"
   ]
  },
  {
   "cell_type": "markdown",
   "metadata": {},
   "source": [
    "## 람다 함수(최근등장)\n",
    "    \n",
    "    -익명 함수, 축약 함수"
   ]
  },
  {
   "cell_type": "code",
   "execution_count": 13,
   "metadata": {},
   "outputs": [
    {
     "name": "stdout",
     "output_type": "stream",
     "text": [
      "9\n"
     ]
    }
   ],
   "source": [
    "def hap(x, y):\n",
    "    return x+y\n",
    "\n",
    "#########################################\n",
    "\n",
    "result=hap(5,4)\n",
    "print(result)"
   ]
  },
  {
   "cell_type": "code",
   "execution_count": 20,
   "metadata": {},
   "outputs": [
    {
     "name": "stdout",
     "output_type": "stream",
     "text": [
      "5\n"
     ]
    }
   ],
   "source": [
    "print((lambda x, y: x+y)(2,3))   #이름이없다 한번만 쓰고 말기위한 용도 / return은 이미 있음\n"
   ]
  },
  {
   "cell_type": "code",
   "execution_count": 21,
   "metadata": {},
   "outputs": [
    {
     "name": "stdout",
     "output_type": "stream",
     "text": [
      "9\n"
     ]
    }
   ],
   "source": [
    "calc=(lambda x, y: x+y)\n",
    "print(calc(4,5))"
   ]
  },
  {
   "cell_type": "code",
   "execution_count": 23,
   "metadata": {},
   "outputs": [
    {
     "name": "stdout",
     "output_type": "stream",
     "text": [
      "15\n",
      "17\n"
     ]
    }
   ],
   "source": [
    "hap3=(lambda x, y=10: x+y)\n",
    "print(hap3(5))\n",
    "print(hap3(8,9))"
   ]
  },
  {
   "cell_type": "code",
   "execution_count": 3,
   "metadata": {
    "scrolled": true
   },
   "outputs": [
    {
     "name": "stdout",
     "output_type": "stream",
     "text": [
      "1 (2, 3, 4, 5) {'m': 6, 'n': 7, 'd': 8}\n"
     ]
    }
   ],
   "source": [
    "def lamda_test(a,*b,**c):\n",
    "    print(a,b,c)\n",
    "\n",
    "lamda_test(1,2,3,4,5,m=6,n=7,d=8)"
   ]
  },
  {
   "cell_type": "code",
   "execution_count": 10,
   "metadata": {},
   "outputs": [
    {
     "name": "stdout",
     "output_type": "stream",
     "text": [
      "1 (2, 3, 4, 5) {'m': 6, 'n': 7, 'd': 8}\n"
     ]
    }
   ],
   "source": [
    "res=(lambda a,*b,**c : print(a,b,c))\n",
    "res(1,2,3,4,5,m=6,n=7,d=8)"
   ]
  },
  {
   "cell_type": "code",
   "execution_count": 25,
   "metadata": {},
   "outputs": [
    {
     "name": "stdout",
     "output_type": "stream",
     "text": [
      "[1, 4, 3, 16, 5]\n",
      "[1, 4, 3, 16, 5, 36, 7, 64, 9]\n"
     ]
    }
   ],
   "source": [
    "da=[1,2,3,4,5]\n",
    "res=list((map(lambda a : a**2 if a%2==0 else a,da)))\n",
    "print(res)\n",
    "\n",
    "da=[1,2,3,4,5,6,7,8,9]\n",
    "res=list((map(lambda a : a**2 if a%2==0 else a,da)))\n",
    "print(res)"
   ]
  },
  {
   "cell_type": "markdown",
   "metadata": {},
   "source": [
    "## 함수 장식자(diecorator)\n",
    "\n",
    "    -일종의 함수 감싸기(rapping)를 해주는 디자인 패턴\n",
    "    -메타 프로그래밍 기법(축약했다 - 긴 코드를 줄였다)\n",
    "    -@classmethod,@staticmethod,@absttract, .....\n",
    "    "
   ]
  },
  {
   "cell_type": "code",
   "execution_count": 28,
   "metadata": {},
   "outputs": [
    {
     "name": "stdout",
     "output_type": "stream",
     "text": [
      "반가워 홍길동\n",
      "안녕 반가워 홍길동\n"
     ]
    }
   ],
   "source": [
    "def make2(fn):\n",
    "    return lambda : \"안녕 \"+fn()\n",
    "\n",
    "def make1(fn):\n",
    "    return lambda : \"반가워 \"+fn()\n",
    "\n",
    "def hello():\n",
    "    return \"홍길동\"\n",
    "\n",
    "#######################################\n",
    "\n",
    "hi=make1(hello)\n",
    "print(hi())\n",
    "hi2=make2(hi)\n",
    "print(hi2())"
   ]
  },
  {
   "cell_type": "code",
   "execution_count": 30,
   "metadata": {},
   "outputs": [
    {
     "name": "stdout",
     "output_type": "stream",
     "text": [
      "안녕 반가워 임꺽정\n",
      "안녕 반가워 임꺽정\n"
     ]
    }
   ],
   "source": [
    "#diecorator 사용 커스텀해서 사용가능\n",
    "@make2\n",
    "@make1\n",
    "def hello2():\n",
    "    return \"임꺽정\"\n",
    "print(hello2())\n",
    "hi3=hello2()\n",
    "print(hi3)"
   ]
  },
  {
   "cell_type": "code",
   "execution_count": 32,
   "metadata": {},
   "outputs": [
    {
     "name": "stdout",
     "output_type": "stream",
     "text": [
      "결과는 5 입니다\n"
     ]
    }
   ],
   "source": [
    "def outer(fn):\n",
    "    def inner(n1,n2):\n",
    "        print(\"결과는 {} 입니다\".format(fn(n1,n2)))\n",
    "        \n",
    "    return inner\n",
    "\n",
    "def func(n1,n2):\n",
    "    return n1+n2\n",
    "\n",
    "######################################################\n",
    "\n",
    "res=outer(func)\n",
    "res(2,3)"
   ]
  },
  {
   "cell_type": "code",
   "execution_count": 33,
   "metadata": {},
   "outputs": [
    {
     "name": "stdout",
     "output_type": "stream",
     "text": [
      "결과는 6 입니다\n"
     ]
    }
   ],
   "source": [
    "def outer(fn):\n",
    "    def inner(n1,n2):\n",
    "        print(\"결과는 {} 입니다\".format(fn(n1,n2)))\n",
    "        \n",
    "    return inner\n",
    "\n",
    "@outer\n",
    "def func(n1,n2):\n",
    "    return n1+n2\n",
    "\n",
    "######################################################\n",
    "\n",
    "res(2,4)"
   ]
  },
  {
   "cell_type": "code",
   "execution_count": 34,
   "metadata": {},
   "outputs": [
    {
     "name": "stdout",
     "output_type": "stream",
     "text": [
      "Google Python\n"
     ]
    }
   ],
   "source": [
    "import my_module2\n",
    "print(my_module2.mycomp)"
   ]
  },
  {
   "cell_type": "code",
   "execution_count": null,
   "metadata": {},
   "outputs": [],
   "source": []
  }
 ],
 "metadata": {
  "kernelspec": {
   "display_name": "Python 3",
   "language": "python",
   "name": "python3"
  },
  "language_info": {
   "codemirror_mode": {
    "name": "ipython",
    "version": 3
   },
   "file_extension": ".py",
   "mimetype": "text/x-python",
   "name": "python",
   "nbconvert_exporter": "python",
   "pygments_lexer": "ipython3",
   "version": "3.7.4"
  }
 },
 "nbformat": 4,
 "nbformat_minor": 2
}
